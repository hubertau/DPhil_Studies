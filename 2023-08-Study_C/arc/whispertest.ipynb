{
 "cells": [
  {
   "cell_type": "code",
   "execution_count": 3,
   "id": "dc77ab1a-4cf8-45d4-8de1-759e63b7d95e",
   "metadata": {},
   "outputs": [],
   "source": [
    "import whisper\n",
    "import glob\n",
    "import os\n",
    "import matplotlib.pyplot as plt\n",
    "from tqdm.notebook import tqdm\n",
    "from pathlib import Path\n",
    "import json\n",
    "# from whisper_jax import FlaxWhisperPipline\n",
    "# import jax.numpy as jnp\n",
    "# import jax\n",
    "# from faster_whisper import WhisperModel"
   ]
  },
  {
   "cell_type": "markdown",
   "id": "362d7185-41fd-44b5-a2cc-5c731dd56e74",
   "metadata": {
    "jp-MarkdownHeadingCollapsed": true
   },
   "source": [
    "# Faster Whisper"
   ]
  },
  {
   "cell_type": "code",
   "execution_count": 2,
   "id": "0db3ef48-99fe-4ca1-afa8-5669c95bc72b",
   "metadata": {},
   "outputs": [],
   "source": [
    "model_size = \"large-v3\"\n",
    "\n",
    "# Run on GPU with FP16\n",
    "# model = WhisperModel(model_size, device=\"cuda\", compute_type=\"float16\")\n",
    "\n",
    "# or run on GPU with INT8\n",
    "# model = WhisperModel(model_size, device=\"cuda\", compute_type=\"int8_float16\")\n",
    "# or run on CPU with INT8\n",
    "model = WhisperModel(model_size, device=\"cpu\", compute_type=\"int8\")"
   ]
  },
  {
   "cell_type": "code",
   "execution_count": 4,
   "id": "9220397b-3b9e-4d28-a962-bdf6d65c5a72",
   "metadata": {},
   "outputs": [
    {
     "name": "stdout",
     "output_type": "stream",
     "text": [
      "7027\n"
     ]
    }
   ],
   "source": [
    "with open('/data/inet-large-scale-twitter-diffusion/ball4321/data_c/YT/files_audio.txt', 'r') as f:\n",
    "    x = f.readlines()\n",
    "    print(len(x))"
   ]
  },
  {
   "cell_type": "code",
   "execution_count": 5,
   "id": "c27f97df-d0bd-439b-9303-2999f6473163",
   "metadata": {},
   "outputs": [
    {
     "data": {
      "text/plain": [
       "'files_audio'"
      ]
     },
     "execution_count": 5,
     "metadata": {},
     "output_type": "execute_result"
    }
   ],
   "source": [
    "Path('/data/inet-large-scale-twitter-diffusion/ball4321/data_c/YT/files_audio.txt').stem"
   ]
  },
  {
   "cell_type": "code",
   "execution_count": 18,
   "id": "94f121a0-b32c-4e9b-9cd6-efa1a1a03663",
   "metadata": {},
   "outputs": [
    {
     "name": "stdout",
     "output_type": "stream",
     "text": [
      "Length of x: 6758\n"
     ]
    }
   ],
   "source": [
    "x = sorted(glob.glob(os.path.join('/data/inet-large-scale-twitter-diffusion/ball4321/data_c/YT/audio','*.m4a')))\n",
    "\n",
    "# Specify your size threshold in bytes (e.g., 100000 bytes = 100 KB)\n",
    "size_threshold = 1024*1024*50\n",
    "\n",
    "# Filter files by size\n",
    "x = [file for file in x if os.path.getsize(file) <= size_threshold]\n",
    "print(f'Length of x: {len(x)}')"
   ]
  },
  {
   "cell_type": "code",
   "execution_count": 3,
   "id": "a4430c23-ef8d-4c42-884a-0b6db0d30c40",
   "metadata": {},
   "outputs": [
    {
     "name": "stdout",
     "output_type": "stream",
     "text": [
      "Detected language 'en' with probability 0.616355\n",
      "[0.00s -> 3.16s]  I promise you that I'll never let you go\n",
      "[3.16s -> 8.32s]  So follow me through the night and I'll sit by your side\n",
      "[8.32s -> 11.32s]  And I know there's nothing we can't do\n",
      "[11.32s -> 13.44s]  As long as I'm with you\n"
     ]
    }
   ],
   "source": [
    "segments, info = model.transcribe(\"/data/inet-large-scale-twitter-diffusion/ball4321/data_c/YT/audio/zzwFu5gd3RE.m4a\", beam_size=3)\n",
    "\n",
    "print(\"Detected language '%s' with probability %f\" % (info.language, info.language_probability))\n",
    "\n",
    "for segment in segments:\n",
    "    print(\"[%.2fs -> %.2fs] %s\" % (segment.start, segment.end, segment.text))"
   ]
  },
  {
   "cell_type": "markdown",
   "id": "33f2fd62-26e8-420e-a3bc-2379e910f1aa",
   "metadata": {},
   "source": [
    "# Old"
   ]
  },
  {
   "cell_type": "code",
   "execution_count": 2,
   "id": "38e123a2-61eb-43aa-a905-c5a525c626e9",
   "metadata": {},
   "outputs": [
    {
     "data": {
      "text/plain": [
       "[cuda(id=0)]"
      ]
     },
     "execution_count": 2,
     "metadata": {},
     "output_type": "execute_result"
    }
   ],
   "source": [
    "jax.devices()"
   ]
  },
  {
   "cell_type": "code",
   "execution_count": null,
   "id": "dad97c94-1c20-4f1b-9dc7-ec1ff2b25e24",
   "metadata": {},
   "outputs": [],
   "source": [
    "model = whisper.load_model('large-v2', device='cuda')"
   ]
  },
  {
   "cell_type": "code",
   "execution_count": 4,
   "id": "1fbd7d1b-7f55-4c5e-82f7-94f39a0ae252",
   "metadata": {},
   "outputs": [],
   "source": [
    "def find_small_files(directory, pattern, max_size_bytes):\n",
    "    # Create a pattern for glob\n",
    "    search_pattern = os.path.join(directory, pattern)\n",
    "\n",
    "    # Find all files matching the pattern\n",
    "    all_files = glob.glob(search_pattern)\n",
    "\n",
    "    # Filter files by size\n",
    "    small_files = [file for file in all_files if os.path.getsize(file) < max_size_bytes]\n",
    "\n",
    "    return small_files\n",
    "\n",
    "def filter_files_if_json_exists(file_list, json_directory):\n",
    "    filtered_files = []\n",
    "    for file in file_list:\n",
    "        base_name = os.path.splitext(os.path.basename(file))[0]\n",
    "        json_file_path = os.path.join(json_directory, base_name + '.txt')\n",
    "        if not os.path.exists(json_file_path):\n",
    "            filtered_files.append(file)\n",
    "    return filtered_files\n",
    "\n",
    "# Example usage\n",
    "directory = '/data/inet-large-scale-twitter-diffusion/ball4321/data_c/TikTok/01_raw/videos'\n",
    "pattern = '*.mp4'\n",
    "max_size_bytes = 1024 * 1024 * 50\n",
    "\n",
    "small_files = find_small_files(directory, pattern, max_size_bytes)\n",
    "# print(\"Files smaller than the limit:\", small_files)\n",
    "\n",
    "json_directory = '/data/inet-large-scale-twitter-diffusion/ball4321/data_c/TikTok/01_raw/videos_transcribed'\n",
    "filtered_files = filter_files_if_json_exists(small_files, json_directory)\n",
    "\n",
    "# files = glob.glob('/data/inet-large-scale-twitter-diffusion/ball4321/data_c/YT/audio/*.m4a')"
   ]
  },
  {
   "cell_type": "code",
   "execution_count": 5,
   "id": "17cabd71-9df8-41e9-9c8f-62117c32ee56",
   "metadata": {},
   "outputs": [
    {
     "data": {
      "text/plain": [
       "5685"
      ]
     },
     "execution_count": 5,
     "metadata": {},
     "output_type": "execute_result"
    }
   ],
   "source": [
    "len(filtered_files)"
   ]
  },
  {
   "cell_type": "code",
   "execution_count": 7,
   "id": "dd0992e7-f5c6-4529-ad6f-c70ea5a3406f",
   "metadata": {},
   "outputs": [
    {
     "data": {
      "image/png": "[encoded data removed]",
      "text/plain": [
       "<Figure size 1000x600 with 1 Axes>"
      ]
     },
     "metadata": {},
     "output_type": "display_data"
    }
   ],
   "source": [
    "def get_file_sizes(directory, pattern='*'):\n",
    "    \"\"\"\n",
    "    Get sizes of all files in the specified directory matching the pattern.\n",
    "    \"\"\"\n",
    "    search_pattern = os.path.join(directory, pattern)\n",
    "    files = glob.glob(search_pattern)\n",
    "    file_sizes = [os.path.getsize(f) for f in files]\n",
    "    return file_sizes\n",
    "\n",
    "def plot_size_distribution(file_sizes):\n",
    "    \"\"\"\n",
    "    Plot a histogram of file sizes.\n",
    "    \"\"\"\n",
    "\n",
    "    file_sizes_MB = [size / (1024 * 1024) for size in file_sizes]\n",
    "    plt.figure(figsize=(10, 6))\n",
    "    plt.hist(file_sizes_MB, bins=30, color='blue', edgecolor='black')\n",
    "    plt.title('Distribution of File Sizes')\n",
    "    plt.xlabel('File Size (megabytes)')\n",
    "    plt.ylabel('Number of Files')\n",
    "    plt.show()\n",
    "\n",
    "# Example usage\n",
    "file_sizes = get_file_sizes(directory)\n",
    "plot_size_distribution(file_sizes)\n"
   ]
  },
  {
   "cell_type": "code",
   "execution_count": null,
   "id": "68e61238-4cf7-4a81-b1ea-975e460f154a",
   "metadata": {},
   "outputs": [],
   "source": [
    "for file in tqdm(filtered_files[:1000]):\n",
    "    \n",
    "    outfile = Path(json_directory) / f\"{Path(file).stem}.json\" \n",
    "    if os.path.isfile(outfile):\n",
    "        print(f'skipping {Path(file).stem}')\n",
    "        continue\n",
    "    out = model.transcribe(file)\n",
    "    with open(outfile, 'w', encoding='utf-8') as f:\n",
    "        json.dump(out,f)"
   ]
  },
  {
   "cell_type": "code",
   "execution_count": null,
   "id": "2bd40c18-94a3-49da-b0de-6c0bcbd9bcfd",
   "metadata": {},
   "outputs": [],
   "source": [
    "model.detect_language(filtered_files[0])"
   ]
  },
  {
   "cell_type": "code",
   "execution_count": null,
   "id": "64619966-b14c-435a-962d-89d2af84772e",
   "metadata": {},
   "outputs": [],
   "source": [
    "def process_batch(batch, model, json_directory):\n",
    "    # Transcribe the batch\n",
    "    batch_results = model.transcribe(batch)\n",
    "\n",
    "    # Iterate through the batch and results simultaneously\n",
    "    for file, result in zip(batch, batch_results):\n",
    "        outfile = Path(json_directory) / f\"{Path(file).stem}.json\"\n",
    "        with open(outfile, 'w', encoding='utf-8') as f:\n",
    "            json.dump(result, f)\n",
    "\n",
    "# Specify your batch size\n",
    "batch_size = 10\n",
    "\n",
    "# Process files in batches\n",
    "for i in tqdm(range(0, len(filtered_files[:1000]), batch_size)):\n",
    "    batch = filtered_files[i:i + batch_size]\n",
    "\n",
    "    # Skip entire batch if all output files already exist\n",
    "    if all(os.path.isfile(Path(json_directory) / f\"{Path(file).stem}.json\") for file in batch):\n",
    "        print(f'Skipping batch starting with {Path(batch[0]).stem}')\n",
    "        continue\n",
    "\n",
    "    process_batch(batch, model, json_directory)"
   ]
  },
  {
   "cell_type": "code",
   "execution_count": 5,
   "id": "2743710d-7583-4b02-81f4-5d4d07ef63d7",
   "metadata": {},
   "outputs": [
    {
     "name": "stderr",
     "output_type": "stream",
     "text": [
      "2023-12-19 16:05:24.215833: W external/xla/xla/service/gpu/nvptx_compiler.cc:698] The NVIDIA driver's CUDA version is 12.0 which is older than the ptxas CUDA version (12.3.103). Because the driver is older than the ptxas version, XLA is disabling parallel compilation, which may slow down compilation. You should update your NVIDIA driver or use the NVIDIA-provided CUDA forward compatibility packages.\n"
     ]
    }
   ],
   "source": [
    "# instantiate pipeline\n",
    "pipeline = FlaxWhisperPipline(\"openai/whisper-medium\", dtype=jnp.bfloat16, batch_size=16)"
   ]
  },
  {
   "cell_type": "code",
   "execution_count": null,
   "id": "7ea62125-73f8-45e2-a81d-70765d9098ad",
   "metadata": {},
   "outputs": [],
   "source": [
    "# used cached function thereafter - super fast!!\n",
    "text = pipeline(filtered_files[0])"
   ]
  },
  {
   "cell_type": "code",
   "execution_count": null,
   "id": "866101a7-6041-4054-adc3-f89ac0c5cee5",
   "metadata": {
    "scrolled": true
   },
   "outputs": [],
   "source": [
    "text"
   ]
  },
  {
   "cell_type": "code",
   "execution_count": 6,
   "id": "de6f21de-2f54-4818-81ea-57056327d7f0",
   "metadata": {},
   "outputs": [
    {
     "name": "stdout",
     "output_type": "stream",
     "text": [
      "/data/inet-large-scale-twitter-diffusion/ball4321/data_c/YT/audio/XlGTJ8PWN_I.m4a\n"
     ]
    }
   ],
   "source": [
    "print(filtered_files[1])"
   ]
  },
  {
   "cell_type": "code",
   "execution_count": 7,
   "id": "c04a9509-5048-4203-ab1b-d6e42a2b8e33",
   "metadata": {},
   "outputs": [
    {
     "name": "stdout",
     "output_type": "stream",
     "text": [
      "CPU times: user 2min 30s, sys: 41 s, total: 3min 11s\n",
      "Wall time: 3min 18s\n"
     ]
    }
   ],
   "source": [
    "%time text2 = pipeline(filtered_files[1])"
   ]
  },
  {
   "cell_type": "code",
   "execution_count": 8,
   "id": "6771fc84-604b-40e7-a081-5ca460ab5dd8",
   "metadata": {},
   "outputs": [
    {
     "data": {
      "text/plain": [
       "{'text': \" What is the force that causes objects to fall to the ground? Girl, you better. I know this because my titties are low thanks to gravity. Yay! A personal anecdote. Can we just also say we don't actually need gravity? But that's a different thing. Like, I saw someone do this, this was a TikTok, we were watching something where someone's like, we don't actually need gravity. We're watching this to me. Like, we actually don't need it. What do you mean that we don't need gravity? What if it was never invented invented by who sir Isaac Newton Isaac Newton created gravity whoever created gravity if someone did but we don't actually need it\"}"
      ]
     },
     "execution_count": 8,
     "metadata": {},
     "output_type": "execute_result"
    }
   ],
   "source": [
    "text2"
   ]
  },
  {
   "cell_type": "code",
   "execution_count": 10,
   "id": "d2e1ad5a-548f-41cc-aab3-a00c13d22f33",
   "metadata": {},
   "outputs": [
    {
     "ename": "KeyboardInterrupt",
     "evalue": "",
     "output_type": "error",
     "traceback": [
      "\u001b[0;31m---------------------------------------------------------------------------\u001b[0m",
      "\u001b[0;31mKeyboardInterrupt\u001b[0m                         Traceback (most recent call last)",
      "File \u001b[0;32m<timed exec>:1\u001b[0m\n",
      "File \u001b[0;32m/data/inet-large-scale-twitter-diffusion/ball4321/venv_legalpythia/lib/python3.11/site-packages/whisper_jax/pipeline.py:500\u001b[0m, in \u001b[0;36mFlaxWhisperPipline.__call__\u001b[0;34m(self, inputs, chunk_length_s, stride_length_s, batch_size, language, task, return_timestamps, generate_kwargs)\u001b[0m\n\u001b[1;32m    497\u001b[0m \u001b[38;5;66;03m# iterate over our chunked audio samples\u001b[39;00m\n\u001b[1;32m    498\u001b[0m \u001b[38;5;28;01mfor\u001b[39;00m batch \u001b[38;5;129;01min\u001b[39;00m dataloader:\n\u001b[1;32m    499\u001b[0m     model_outputs\u001b[38;5;241m.\u001b[39mappend(\n\u001b[0;32m--> 500\u001b[0m         \u001b[38;5;28;43mself\u001b[39;49m\u001b[38;5;241;43m.\u001b[39;49m\u001b[43mforward\u001b[49m\u001b[43m(\u001b[49m\n\u001b[1;32m    501\u001b[0m \u001b[43m            \u001b[49m\u001b[43mbatch\u001b[49m\u001b[43m,\u001b[49m\u001b[43m \u001b[49m\u001b[43mbatch_size\u001b[49m\u001b[38;5;241;43m=\u001b[39;49m\u001b[43mbatch_size\u001b[49m\u001b[43m,\u001b[49m\u001b[43m \u001b[49m\u001b[43mlanguage\u001b[49m\u001b[38;5;241;43m=\u001b[39;49m\u001b[43mlanguage\u001b[49m\u001b[43m,\u001b[49m\u001b[43m \u001b[49m\u001b[43mtask\u001b[49m\u001b[38;5;241;43m=\u001b[39;49m\u001b[43mtask\u001b[49m\u001b[43m,\u001b[49m\u001b[43m \u001b[49m\u001b[43mreturn_timestamps\u001b[49m\u001b[38;5;241;43m=\u001b[39;49m\u001b[43mreturn_timestamps\u001b[49m\n\u001b[1;32m    502\u001b[0m \u001b[43m        \u001b[49m\u001b[43m)\u001b[49m\n\u001b[1;32m    503\u001b[0m     )\n\u001b[1;32m    504\u001b[0m post_processed \u001b[38;5;241m=\u001b[39m \u001b[38;5;28mself\u001b[39m\u001b[38;5;241m.\u001b[39mpostprocess(model_outputs, return_timestamps\u001b[38;5;241m=\u001b[39mreturn_timestamps)\n\u001b[1;32m    505\u001b[0m \u001b[38;5;28;01mreturn\u001b[39;00m post_processed\n",
      "File \u001b[0;32m/data/inet-large-scale-twitter-diffusion/ball4321/venv_legalpythia/lib/python3.11/site-packages/whisper_jax/pipeline.py:408\u001b[0m, in \u001b[0;36mFlaxWhisperPipline.forward\u001b[0;34m(self, model_inputs, batch_size, language, task, return_timestamps)\u001b[0m\n\u001b[1;32m    405\u001b[0m     padding \u001b[38;5;241m=\u001b[39m np\u001b[38;5;241m.\u001b[39mzeros([batch_size \u001b[38;5;241m-\u001b[39m input_batch_size, \u001b[38;5;241m*\u001b[39minput_features\u001b[38;5;241m.\u001b[39mshape[\u001b[38;5;241m1\u001b[39m:]], input_features\u001b[38;5;241m.\u001b[39mdtype)\n\u001b[1;32m    406\u001b[0m     input_features \u001b[38;5;241m=\u001b[39m np\u001b[38;5;241m.\u001b[39mconcatenate([input_features, padding])\n\u001b[0;32m--> 408\u001b[0m pred_ids \u001b[38;5;241m=\u001b[39m \u001b[38;5;28;43mself\u001b[39;49m\u001b[38;5;241;43m.\u001b[39;49m\u001b[43mgenerate\u001b[49m\u001b[43m(\u001b[49m\u001b[43minput_features\u001b[49m\u001b[43m,\u001b[49m\u001b[43m \u001b[49m\u001b[43mlanguage\u001b[49m\u001b[38;5;241;43m=\u001b[39;49m\u001b[43mlanguage\u001b[49m\u001b[43m,\u001b[49m\u001b[43m \u001b[49m\u001b[43mtask\u001b[49m\u001b[38;5;241;43m=\u001b[39;49m\u001b[43mtask\u001b[49m\u001b[43m,\u001b[49m\u001b[43m \u001b[49m\u001b[43mreturn_timestamps\u001b[49m\u001b[38;5;241;43m=\u001b[39;49m\u001b[43mreturn_timestamps\u001b[49m\u001b[43m)\u001b[49m[\n\u001b[1;32m    409\u001b[0m     :input_batch_size\n\u001b[1;32m    410\u001b[0m ]\n\u001b[1;32m    412\u001b[0m \u001b[38;5;66;03m# tokenizer's decode method expects an extra dim - we insert it here for convenience\u001b[39;00m\n\u001b[1;32m    413\u001b[0m out \u001b[38;5;241m=\u001b[39m {\u001b[38;5;124m\"\u001b[39m\u001b[38;5;124mtokens\u001b[39m\u001b[38;5;124m\"\u001b[39m: pred_ids[:, \u001b[38;5;28;01mNone\u001b[39;00m, :]}\n",
      "File \u001b[0;32m/data/inet-large-scale-twitter-diffusion/ball4321/venv_legalpythia/lib/python3.11/site-packages/whisper_jax/pipeline.py:188\u001b[0m, in \u001b[0;36mFlaxWhisperPipline.generate\u001b[0;34m(self, input_features, language, task, return_timestamps)\u001b[0m\n\u001b[1;32m    183\u001b[0m forced_decoder_ids \u001b[38;5;241m=\u001b[39m \u001b[38;5;28mself\u001b[39m\u001b[38;5;241m.\u001b[39mget_forced_decoder_ids(\n\u001b[1;32m    184\u001b[0m     language\u001b[38;5;241m=\u001b[39mlanguage, task\u001b[38;5;241m=\u001b[39mtask, return_timestamps\u001b[38;5;241m=\u001b[39mreturn_timestamps\n\u001b[1;32m    185\u001b[0m )\n\u001b[1;32m    186\u001b[0m \u001b[38;5;28;01mif\u001b[39;00m \u001b[38;5;129;01mnot\u001b[39;00m \u001b[38;5;28mself\u001b[39m\u001b[38;5;241m.\u001b[39mis_sharded:\n\u001b[1;32m    187\u001b[0m     \u001b[38;5;66;03m# if we're using pmap we need to manually replicate the input data across devices and gather the output tokens\u001b[39;00m\n\u001b[0;32m--> 188\u001b[0m     output_ids \u001b[38;5;241m=\u001b[39m \u001b[38;5;28;43mself\u001b[39;49m\u001b[38;5;241;43m.\u001b[39;49m\u001b[43mp_generate\u001b[49m\u001b[43m(\u001b[49m\n\u001b[1;32m    189\u001b[0m \u001b[43m        \u001b[49m\u001b[43mfreeze\u001b[49m\u001b[43m(\u001b[49m\u001b[38;5;28;43mself\u001b[39;49m\u001b[38;5;241;43m.\u001b[39;49m\u001b[43mparams\u001b[49m\u001b[43m)\u001b[49m\u001b[43m,\u001b[49m\u001b[43m \u001b[49m\u001b[43mshard\u001b[49m\u001b[43m(\u001b[49m\u001b[43minput_features\u001b[49m\u001b[43m)\u001b[49m\u001b[43m,\u001b[49m\u001b[43m \u001b[49m\u001b[43mforced_decoder_ids\u001b[49m\u001b[43m,\u001b[49m\u001b[43m \u001b[49m\u001b[43mreturn_timestamps\u001b[49m\n\u001b[1;32m    190\u001b[0m \u001b[43m    \u001b[49m\u001b[43m)\u001b[49m\u001b[38;5;241m.\u001b[39msequences\n\u001b[1;32m    191\u001b[0m     output_ids \u001b[38;5;241m=\u001b[39m jax\u001b[38;5;241m.\u001b[39mdevice_get(output_ids\u001b[38;5;241m.\u001b[39mreshape(\u001b[38;5;241m-\u001b[39m\u001b[38;5;241m1\u001b[39m, \u001b[38;5;28mself\u001b[39m\u001b[38;5;241m.\u001b[39mmax_length))\n\u001b[1;32m    192\u001b[0m \u001b[38;5;28;01melse\u001b[39;00m:\n\u001b[1;32m    193\u001b[0m     \u001b[38;5;66;03m# pjit handles replication / gathering for us auto-magically\u001b[39;00m\n",
      "File \u001b[0;32m/data/inet-large-scale-twitter-diffusion/ball4321/venv_legalpythia/lib/python3.11/site-packages/flax/struct.py:129\u001b[0m, in \u001b[0;36mdataclass.<locals>.clz_from_iterable\u001b[0;34m(meta, data)\u001b[0m\n\u001b[1;32m    123\u001b[0m   data \u001b[38;5;241m=\u001b[39m \u001b[38;5;28mtuple\u001b[39m(\n\u001b[1;32m    124\u001b[0m       (jax\u001b[38;5;241m.\u001b[39mtree_util\u001b[38;5;241m.\u001b[39mGetAttrKey(name), \u001b[38;5;28mgetattr\u001b[39m(x, name))\n\u001b[1;32m    125\u001b[0m       \u001b[38;5;28;01mfor\u001b[39;00m name \u001b[38;5;129;01min\u001b[39;00m data_fields\n\u001b[1;32m    126\u001b[0m   )\n\u001b[1;32m    127\u001b[0m   \u001b[38;5;28;01mreturn\u001b[39;00m data, meta\n\u001b[0;32m--> 129\u001b[0m \u001b[38;5;28;01mdef\u001b[39;00m \u001b[38;5;21mclz_from_iterable\u001b[39m(meta, data):\n\u001b[1;32m    130\u001b[0m   meta_args \u001b[38;5;241m=\u001b[39m \u001b[38;5;28mtuple\u001b[39m(\u001b[38;5;28mzip\u001b[39m(meta_fields, meta))\n\u001b[1;32m    131\u001b[0m   data_args \u001b[38;5;241m=\u001b[39m \u001b[38;5;28mtuple\u001b[39m(\u001b[38;5;28mzip\u001b[39m(data_fields, data))\n",
      "\u001b[0;31mKeyboardInterrupt\u001b[0m: "
     ]
    }
   ],
   "source": [
    "%time text3 = pipeline(filtered_files[2])"
   ]
  },
  {
   "cell_type": "code",
   "execution_count": 11,
   "id": "49186709-4efd-4c34-9cb9-c16762f91a67",
   "metadata": {},
   "outputs": [
    {
     "ename": "NameError",
     "evalue": "name 'text3' is not defined",
     "output_type": "error",
     "traceback": [
      "\u001b[0;31m---------------------------------------------------------------------------\u001b[0m",
      "\u001b[0;31mNameError\u001b[0m                                 Traceback (most recent call last)",
      "Cell \u001b[0;32mIn[11], line 1\u001b[0m\n\u001b[0;32m----> 1\u001b[0m \u001b[43mtext3\u001b[49m\n",
      "\u001b[0;31mNameError\u001b[0m: name 'text3' is not defined"
     ]
    }
   ],
   "source": [
    "text3"
   ]
  },
  {
   "cell_type": "code",
   "execution_count": null,
   "id": "ea24ce0a-05ab-46dc-b98c-43525b36a647",
   "metadata": {},
   "outputs": [],
   "source": [
    "print(filtered_files[:3])"
   ]
  },
  {
   "cell_type": "markdown",
   "id": "9be66529-4b04-4838-966d-0a972abe9a4e",
   "metadata": {},
   "source": [
    "# Analyse completed whisper"
   ]
  },
  {
   "cell_type": "code",
   "execution_count": 2,
   "id": "cec7823d-3d67-4472-ad70-e24c5078e0bd",
   "metadata": {},
   "outputs": [
    {
     "name": "stdout",
     "output_type": "stream",
     "text": [
      "Unique to folder 1: {'2BZfHX52WJU', 'Vv6DFScEiNo', 'Vu3k0Rriv7U', 'qTa5iDjNTkA', 'QUxtd7EHB6Y', 'QV8upA_89Js', 'QPNij6m4LW0', '28goRUNE71M', 'QQUgxYZ8CdE', '2CiX-6WgSvE', 'QPxGa4Dphgw', '2BJYaiMxndw', '2ACeUU_0Vq8', 'kJsCfT2ZYls', 'JvB4QI9Z7l0', '2CwNI25ZIRc', '2EOMRyrObKs', 'dlGluwmnkpk', 'aomOOXsgtWo', 'VveIeCGWdx8', '29TmBnxmSXo', 'qGZa4azcWg8', 'asqMOcWIu7w', 'QJUS1NiWdWs', 'qN0kJUPo1r0', 'kK0frIbwUXI', 'bU8sxnvDQ04', 'QN0aDbPN1bo', 'qJCKvKBJFf8', '91TedecXh5U', 'kHsrt0Dq68s', 'kIWmJjFCrXc', 'qGNb621vUx4', 'qTd10hwWEbU', 'kI1JM5q6B14', 'bUEJQvR8w5I', 'qHc4ffZBEUc', 'Vrx_ulDoGBI', 'qPBXpSbRJ1Q', 'do21JJ61wHc', 'kHGUaJLn1SU', 'WMnmE-Z3N-g', '2CpUs1rdgn8', 'QMJ08iZmRgI', '28PeVqwIu-I', 'qNGkAGOzkM4', 'dk8Fgko3ryM', 'qPN8rN9siSs', 'QPetKLCfBuQ', '2DPQsxzz3XE', 'QNU5F2gu21E', 'aoY2m5nFbmk', 'QP6mOGAyOL0', 'qM830LYuH_w', 'QQApZhXLcic', 'qR2Q6KpsXKc', 'WMXbzCtZijQ', 'wykPCGmQv9g', '29Yu4xR_-XQ', 'wyYB0v4d2No', '91Jht9p474o', '906_tO-panc', '2AFnVeZ16kY', 'Vw4S3PDlEWg', 'QTDYF0J0SBk', 'qOk9i8UlKoI', '2ACenU72PyI', 'Vud3BM6fDBE', 'kHf-ENArAvg', '282iTtJbacw', 'VrxINbZGJkM', 'bUmE-vjaYcI', 'qG3-58B923w', 'djm5oY40dtE', 'WL8lym5Vqw0', 'qP_lWdGhBnU', 'qSDvp1IZJWU', 'qTs7pKsqZBI', 'qSCs0MXaydk', 'qJKJrgZ_G7A', '2901zcyUuTo', '9-b37FfNLnk', 'QSP-38anes4', 'djhEJ5ferbM', 'qG2uhRXnj9c', 'dkXj80wbbCs', 'asBCwyZ2iuM', 'apeBz9FghDI', 'qOyMt_NAnaM', 'qOTDj0JKTSY', 'QK2amWU7OTA', 'QLZFhGAzIig', 'QL8UzOqdq1g', 'kLE4CXCQgMk', 'QUzffLVwuts'}\n",
      "Unique to folder 2: set()\n"
     ]
    }
   ],
   "source": [
    "import os\n",
    "from pathlib import Path\n",
    "\n",
    "def list_files(folder, extension, max_size_mb):\n",
    "    \"\"\"List files in a folder with a specific extension and below a size limit.\"\"\"\n",
    "    max_size_bytes = max_size_mb * 1024 * 1024\n",
    "    return {file.stem for file in Path(folder).glob(f'*{extension}')\n",
    "            if file.stat().st_size <= max_size_bytes}\n",
    "\n",
    "def compare_folders(folder1, ext1, folder2, ext2, max_size_mb):\n",
    "    \"\"\"Compare files in two folders based on their stems.\"\"\"\n",
    "    files1 = list_files(folder1, ext1, max_size_mb)\n",
    "    files2 = list_files(folder2, ext2, max_size_mb)\n",
    "\n",
    "    unique_to_folder1 = files1 - files2\n",
    "    unique_to_folder2 = files2 - files1\n",
    "\n",
    "    return unique_to_folder1, unique_to_folder2\n",
    "\n",
    "# Example usage\n",
    "data_base_path = '/data/inet-large-scale-twitter-diffusion/ball4321/data_c/YT'\n",
    "folder1 = f'{data_base_path}/audio'  # Replace with the path to your first folder\n",
    "folder2 = f'{data_base_path}/audio_transcribed' # Replace with the path to your second folder\n",
    "max_size_mb = 50\n",
    "\n",
    "unique_to_folder1, unique_to_folder2 = compare_folders(folder1, '.m4a', folder2, '.txt', max_size_mb)\n",
    "\n",
    "print(\"Unique to folder 1:\", unique_to_folder1)\n",
    "print(\"Unique to folder 2:\", unique_to_folder2)\n"
   ]
  },
  {
   "cell_type": "code",
   "execution_count": 11,
   "id": "7bfe190c-e603-4c67-bec1-30ecfa319bf8",
   "metadata": {},
   "outputs": [],
   "source": [
    "full_path_unique_folder_1 = [f'{data_base_path}/audio/{i}.m4a' for i in unique_to_folder1]"
   ]
  },
  {
   "cell_type": "code",
   "execution_count": 12,
   "id": "acdd5660-bd75-4b9b-a6f0-b5009faea6eb",
   "metadata": {},
   "outputs": [
    {
     "data": {
      "text/plain": [
       "95"
      ]
     },
     "execution_count": 12,
     "metadata": {},
     "output_type": "execute_result"
    }
   ],
   "source": [
    "len(full_path_unique_folder_1)"
   ]
  },
  {
   "cell_type": "code",
   "execution_count": 13,
   "id": "9af48d76-1a1b-4c68-841c-7de916ac62e2",
   "metadata": {},
   "outputs": [],
   "source": [
    "with open(f'{data_base_path}/files_remaining.txt', 'w') as f:\n",
    "    for file in full_path_unique_folder_1:\n",
    "        f.write(file)\n",
    "        f.write('\\n')"
   ]
  },
  {
   "cell_type": "code",
   "execution_count": null,
   "id": "eeb2fb82-c5f2-4561-8db7-5e038cd9e2c6",
   "metadata": {},
   "outputs": [],
   "source": []
  }
 ],
 "metadata": {
  "kernelspec": {
   "display_name": "Python 3 (ipykernel)",
   "language": "python",
   "name": "python3"
  },
  "language_info": {
   "codemirror_mode": {
    "name": "ipython",
    "version": 3
   },
   "file_extension": ".py",
   "mimetype": "text/x-python",
   "name": "python",
   "nbconvert_exporter": "python",
   "pygments_lexer": "ipython3",
   "version": "3.11.0"
  }
 },
 "nbformat": 4,
 "nbformat_minor": 5
}

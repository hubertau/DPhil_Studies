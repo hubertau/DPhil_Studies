{
 "cells": [
  {
   "cell_type": "markdown",
   "id": "04d37b91-192a-42b0-8fd3-0ec9c48b0e3e",
   "metadata": {},
   "source": [
    "# TikTok Data Consolidation Test"
   ]
  },
  {
   "cell_type": "code",
   "execution_count": 34,
   "id": "2d3329e0-9dbf-4531-be64-b20b2ef71e01",
   "metadata": {},
   "outputs": [],
   "source": [
    "import json\n",
    "import pandas as pd\n",
    "from pprint import PrettyPrinter\n",
    "import glob\n",
    "from tqdm.notebook import tqdm\n",
    "import os"
   ]
  },
  {
   "cell_type": "code",
   "execution_count": 2,
   "id": "4d4d91e2-1aaa-40ae-958b-e2e9eb9e2202",
   "metadata": {},
   "outputs": [],
   "source": [
    "data_path = '/data/inet-large-scale-twitter-diffusion/ball4321/data_c/TikTok/01_raw'\n",
    "with open(f'{data_path}/metoo180_2023-12-13.json', 'r') as f:\n",
    "    x = json.load(f)"
   ]
  },
  {
   "cell_type": "code",
   "execution_count": 4,
   "id": "52eebb8f-acf1-4388-8eff-9cb741c1cf2b",
   "metadata": {},
   "outputs": [],
   "source": [
    "pp = PrettyPrinter(indent=4)"
   ]
  },
  {
   "cell_type": "code",
   "execution_count": 27,
   "id": "8f8d77ac-8b8f-4931-85bb-29687eadad68",
   "metadata": {},
   "outputs": [
    {
     "name": "stdout",
     "output_type": "stream",
     "text": [
      "[   '/data/inet-large-scale-twitter-diffusion/ball4321/data_c/TikTok/01_raw/metoospanish180_2023-12-13.json',\n",
      "    '/data/inet-large-scale-twitter-diffusion/ball4321/data_c/TikTok/01_raw/metookorean90_2023-12-13.json',\n",
      "    '/data/inet-large-scale-twitter-diffusion/ball4321/data_c/TikTok/01_raw/metoohebrew180_2023-12-13.json',\n",
      "    '/data/inet-large-scale-twitter-diffusion/ball4321/data_c/TikTok/01_raw/metooitalian90_2023-12-13.json',\n",
      "    '/data/inet-large-scale-twitter-diffusion/ball4321/data_c/TikTok/01_raw/metooitalian180_2023-12-13.json',\n",
      "    '/data/inet-large-scale-twitter-diffusion/ball4321/data_c/TikTok/01_raw/metooarabic180_2023-12-13.json',\n",
      "    '/data/inet-large-scale-twitter-diffusion/ball4321/data_c/TikTok/01_raw/metoohebrew90_2023-12-13.json',\n",
      "    '/data/inet-large-scale-twitter-diffusion/ball4321/data_c/TikTok/01_raw/metoospanish90_2023-12-13.json',\n",
      "    '/data/inet-large-scale-twitter-diffusion/ball4321/data_c/TikTok/01_raw/metoochinese180_2023-12-13.json',\n",
      "    '/data/inet-large-scale-twitter-diffusion/ball4321/data_c/TikTok/01_raw/metoofrench90_2023-12-13.json',\n",
      "    '/data/inet-large-scale-twitter-diffusion/ball4321/data_c/TikTok/01_raw/metoochinese90_2023-12-13.json',\n",
      "    '/data/inet-large-scale-twitter-diffusion/ball4321/data_c/TikTok/01_raw/metoorussian90_2023-12-13.json',\n",
      "    '/data/inet-large-scale-twitter-diffusion/ball4321/data_c/TikTok/01_raw/metoolatinamerica90_2023-12-13.json',\n",
      "    '/data/inet-large-scale-twitter-diffusion/ball4321/data_c/TikTok/01_raw/metoovarious180_2023-12-13.json',\n",
      "    '/data/inet-large-scale-twitter-diffusion/ball4321/data_c/TikTok/01_raw/metooarabic90_2023-12-13.json',\n",
      "    '/data/inet-large-scale-twitter-diffusion/ball4321/data_c/TikTok/01_raw/metoofrench180_2023-12-13.json',\n",
      "    '/data/inet-large-scale-twitter-diffusion/ball4321/data_c/TikTok/01_raw/metoo90_2023-12-13.json',\n",
      "    '/data/inet-large-scale-twitter-diffusion/ball4321/data_c/TikTok/01_raw/metoorussian180_2023-12-13.json',\n",
      "    '/data/inet-large-scale-twitter-diffusion/ball4321/data_c/TikTok/01_raw/metoolatinamerica180_2023-12-13.json',\n",
      "    '/data/inet-large-scale-twitter-diffusion/ball4321/data_c/TikTok/01_raw/metoovarious90_2023-12-13.json',\n",
      "    '/data/inet-large-scale-twitter-diffusion/ball4321/data_c/TikTok/01_raw/metoojapanese180_2023-12-13.json',\n",
      "    '/data/inet-large-scale-twitter-diffusion/ball4321/data_c/TikTok/01_raw/metookorean180_2023-12-13.json',\n",
      "    '/data/inet-large-scale-twitter-diffusion/ball4321/data_c/TikTok/01_raw/metoo180_2023-12-13.json',\n",
      "    '/data/inet-large-scale-twitter-diffusion/ball4321/data_c/TikTok/01_raw/metoojapanese90_2023-12-13.json']\n"
     ]
    }
   ],
   "source": [
    "files = glob.glob('/data/inet-large-scale-twitter-diffusion/ball4321/data_c/TikTok/01_raw/*.json')\n",
    "pp.pprint(files)"
   ]
  },
  {
   "cell_type": "code",
   "execution_count": 30,
   "id": "c8ff1642-2a5c-4d50-887d-53c93b758bb8",
   "metadata": {},
   "outputs": [
    {
     "data": {
      "application/vnd.jupyter.widget-view+json": {
       "model_id": "160cfe0e9b264b619eaeb4b38bed194f",
       "version_major": 2,
       "version_minor": 0
      },
      "text/plain": [
       "  0%|          | 0/24 [00:00<?, ?it/s]"
      ]
     },
     "metadata": {},
     "output_type": "display_data"
    }
   ],
   "source": [
    "consolidate_dict = {}\n",
    "for file in tqdm(files):\n",
    "    with open(file, 'r') as f:\n",
    "        x = json.load(f)\n",
    "    \n",
    "    for item in x['data']:\n",
    "        video_id = item['aweme_info']['aweme_id']\n",
    "        author_user_id = item['aweme_info'][\"author_user_id\"]\n",
    "        desc = item['aweme_info'][\"desc\"]\n",
    "        desc_lang = item['aweme_info'][\"desc_language\"]\n",
    "        \n",
    "        consolidate_dict[video_id]={\n",
    "            'video_id':video_id,\n",
    "            'author_id':author_user_id,\n",
    "            'description':desc,\n",
    "            'description_lang':desc_lang\n",
    "        }"
   ]
  },
  {
   "cell_type": "code",
   "execution_count": 31,
   "id": "6692e159-24de-40ed-be30-2cb3f125a5a1",
   "metadata": {},
   "outputs": [
    {
     "name": "stdout",
     "output_type": "stream",
     "text": [
      "5776\n"
     ]
    }
   ],
   "source": [
    "print(len(consolidate_dict))"
   ]
  },
  {
   "cell_type": "code",
   "execution_count": 46,
   "id": "abaad5d8-d915-4d02-888e-570c6554fc76",
   "metadata": {},
   "outputs": [],
   "source": [
    "metadata_df = pd.DataFrame.from_dict(consolidate_dict, orient='index').reset_index(drop=True)"
   ]
  },
  {
   "cell_type": "code",
   "execution_count": 36,
   "id": "444c6d85-e2d7-4601-9d7b-e93197cfe572",
   "metadata": {},
   "outputs": [
    {
     "data": {
      "application/vnd.jupyter.widget-view+json": {
       "model_id": "cd9aa4d2db324453b123b34e9e09bad3",
       "version_major": 2,
       "version_minor": 0
      },
      "text/plain": [
       "  0%|          | 0/5685 [00:00<?, ?it/s]"
      ]
     },
     "metadata": {},
     "output_type": "display_data"
    },
    {
     "name": "stdout",
     "output_type": "stream",
     "text": [
      "data read in\n"
     ]
    }
   ],
   "source": [
    "# Step 1: Read .txt files and store in a dictionary\n",
    "folder_path = '/data/inet-large-scale-twitter-diffusion/ball4321/data_c/TikTok/01_raw/videos_transcribed/'  # Update with the path to your .txt files\n",
    "text_data = {}\n",
    "for filename in tqdm(os.listdir(folder_path)):\n",
    "    if filename.endswith('.txt'):\n",
    "        file_path = os.path.join(folder_path, filename)\n",
    "        with open(file_path, 'r', encoding='utf-8') as file:\n",
    "            text_data[filename[:-4]] = file.read()  # Remove '.txt' from filename\n",
    "print('data read in')"
   ]
  },
  {
   "cell_type": "code",
   "execution_count": 38,
   "id": "5d6dae24-4bb2-451d-b977-8a5cb18414c4",
   "metadata": {},
   "outputs": [],
   "source": [
    "assert set(text_data.keys()).issubset(set(consolidate_dict.keys()))"
   ]
  },
  {
   "cell_type": "code",
   "execution_count": 51,
   "id": "c32fd143-c055-40b7-9c2f-f35320e5b308",
   "metadata": {},
   "outputs": [
    {
     "name": "stdout",
     "output_type": "stream",
     "text": [
      "Save complete. Ending.\n"
     ]
    }
   ],
   "source": [
    "text_df = pd.DataFrame.from_dict(text_data, orient='index', columns=['text'])\n",
    "text_df.reset_index(inplace=True)\n",
    "text_df.rename(columns={'index': 'video_id'}, inplace=True)\n",
    "\n",
    "# Merge with metadata\n",
    "final_dataset = pd.merge(metadata_df, text_df, on='video_id', how='inner')\n",
    "\n",
    "# Step 4: Your dataset is now ready for BERTopic or other NLP processing\n",
    "#print(final_dataset.head())\n",
    "\n",
    "final_dataset.to_parquet('/data/inet-large-scale-twitter-diffusion/ball4321/data_c/TikTok/01_raw/videos_transcribed.parquet')\n",
    "print('Save complete. Ending.')"
   ]
  },
  {
   "cell_type": "code",
   "execution_count": 50,
   "id": "f02d6ff5-81b5-4ee1-a9a2-389298918a79",
   "metadata": {},
   "outputs": [
    {
     "data": {
      "text/html": [
       "<div>\n",
       "<style scoped>\n",
       "    .dataframe tbody tr th:only-of-type {\n",
       "        vertical-align: middle;\n",
       "    }\n",
       "\n",
       "    .dataframe tbody tr th {\n",
       "        vertical-align: top;\n",
       "    }\n",
       "\n",
       "    .dataframe thead th {\n",
       "        text-align: right;\n",
       "    }\n",
       "</style>\n",
       "<table border=\"1\" class=\"dataframe\">\n",
       "  <thead>\n",
       "    <tr style=\"text-align: right;\">\n",
       "      <th></th>\n",
       "      <th>video_id</th>\n",
       "      <th>author_id</th>\n",
       "      <th>description</th>\n",
       "      <th>description_lang</th>\n",
       "      <th>text</th>\n",
       "    </tr>\n",
       "  </thead>\n",
       "  <tbody>\n",
       "    <tr>\n",
       "      <th>0</th>\n",
       "      <td>7312089052117912878</td>\n",
       "      <td>7308770060517098542</td>\n",
       "      <td>▶▶▶▶▶Conectar▶▶▶▶▶Conectar▶▶▶▶▶@hacerclic11223...</td>\n",
       "      <td>es</td>\n",
       "      <td>you</td>\n",
       "    </tr>\n",
       "    <tr>\n",
       "      <th>1</th>\n",
       "      <td>7312088080997944619</td>\n",
       "      <td>7303820804470817835</td>\n",
       "      <td>𝕙𝕖𝕝𝕝𝕠ℍ𝕒𝕔𝕖𝕣 𝕔𝕝𝕚𝕔➡➡➡➡@peterwilliamsmd4 @dous_wei...</td>\n",
       "      <td>un</td>\n",
       "      <td>you</td>\n",
       "    </tr>\n",
       "    <tr>\n",
       "      <th>2</th>\n",
       "      <td>7311876706988772654</td>\n",
       "      <td>7308904296814249006</td>\n",
       "      <td>▶▶▶▶▶Conectar▶▶▶▶▶@hacerclic666888999 @alvaro....</td>\n",
       "      <td>es</td>\n",
       "      <td>you</td>\n",
       "    </tr>\n",
       "    <tr>\n",
       "      <th>3</th>\n",
       "      <td>7311874448993553710</td>\n",
       "      <td>7309409722390283310</td>\n",
       "      <td>▶▶▶▶▶Conectar▶▶▶▶▶Conectar▶▶▶▶▶@hacerclic11223...</td>\n",
       "      <td>es</td>\n",
       "      <td>you</td>\n",
       "    </tr>\n",
       "    <tr>\n",
       "      <th>4</th>\n",
       "      <td>7311874097258974507</td>\n",
       "      <td>7309447113259713582</td>\n",
       "      <td>▶▶▶▶▶Conectar▶▶▶▶▶Conectar▶▶▶▶▶@hacerclic11223...</td>\n",
       "      <td>es</td>\n",
       "      <td>you</td>\n",
       "    </tr>\n",
       "    <tr>\n",
       "      <th>...</th>\n",
       "      <td>...</td>\n",
       "      <td>...</td>\n",
       "      <td>...</td>\n",
       "      <td>...</td>\n",
       "      <td>...</td>\n",
       "    </tr>\n",
       "    <tr>\n",
       "      <th>5680</th>\n",
       "      <td>7279349256312638728</td>\n",
       "      <td>7128629080081662978</td>\n",
       "      <td>今回のオフ会は、ザ・リッツ・カールトン大阪❗️沢山のご来場ありがとうございました😎ここで沢山...</td>\n",
       "      <td>ja</td>\n",
       "      <td>こんなホテルより絶対こういうことの方がいいよ. だってそうとっても. うははは. もうなんか...</td>\n",
       "    </tr>\n",
       "    <tr>\n",
       "      <th>5681</th>\n",
       "      <td>7279346783124212993</td>\n",
       "      <td>7131561219089499138</td>\n",
       "      <td>【母まじか...笑】やる気は無いけど食欲ある時のやり方らしいw #母親あるある #餃子食べた...</td>\n",
       "      <td>ja</td>\n",
       "      <td>母の餃子洗い物すくのすぎ. 最後は本当びっくり. まずプリ袋に好きなみじん切り野菜入れて. ...</td>\n",
       "    </tr>\n",
       "    <tr>\n",
       "      <th>5682</th>\n",
       "      <td>7279268956513242369</td>\n",
       "      <td>7063454749559817217</td>\n",
       "      <td>リルおじしゃんのモデレーターをしてます天使と申します。 毎日21時以降にLIVE配信もしてま...</td>\n",
       "      <td>ja</td>\n",
       "      <td>えー、はじめまして、えー、わたくしが. いい気にくいだよ. いい気にくいです. やっさーな、...</td>\n",
       "    </tr>\n",
       "    <tr>\n",
       "      <th>5683</th>\n",
       "      <td>7279108760558226693</td>\n",
       "      <td>7266674368997000198</td>\n",
       "      <td>#ad NO ES LA TRADUCCIÓN REAL!! /soy esa ᐠ( ᐛ )...</td>\n",
       "      <td>es</td>\n",
       "      <td>持てまくるよ. 鏡よ鏡 正直言われたいんだ. いらないお前 いらない. 鏡よ鏡 正直すぎるだ...</td>\n",
       "    </tr>\n",
       "    <tr>\n",
       "      <th>5684</th>\n",
       "      <td>7278785979773750536</td>\n",
       "      <td>6586649479734542337</td>\n",
       "      <td>🎆花火祭&amp;コットン祭🐚（わっくん🧸🎧枠限定イベント）いつも全力応援ありがとうございます🥹🙇🏻...</td>\n",
       "      <td>ja</td>\n",
       "      <td>ねぇ 私を気になってくれませんか. 浜辺に残る足跡が消える前に. まっすぐ伝えたいよ. 君が...</td>\n",
       "    </tr>\n",
       "  </tbody>\n",
       "</table>\n",
       "<p>5685 rows × 5 columns</p>\n",
       "</div>"
      ],
      "text/plain": [
       "                 video_id            author_id  \\\n",
       "0     7312089052117912878  7308770060517098542   \n",
       "1     7312088080997944619  7303820804470817835   \n",
       "2     7311876706988772654  7308904296814249006   \n",
       "3     7311874448993553710  7309409722390283310   \n",
       "4     7311874097258974507  7309447113259713582   \n",
       "...                   ...                  ...   \n",
       "5680  7279349256312638728  7128629080081662978   \n",
       "5681  7279346783124212993  7131561219089499138   \n",
       "5682  7279268956513242369  7063454749559817217   \n",
       "5683  7279108760558226693  7266674368997000198   \n",
       "5684  7278785979773750536  6586649479734542337   \n",
       "\n",
       "                                            description description_lang  \\\n",
       "0     ▶▶▶▶▶Conectar▶▶▶▶▶Conectar▶▶▶▶▶@hacerclic11223...               es   \n",
       "1     𝕙𝕖𝕝𝕝𝕠ℍ𝕒𝕔𝕖𝕣 𝕔𝕝𝕚𝕔➡➡➡➡@peterwilliamsmd4 @dous_wei...               un   \n",
       "2     ▶▶▶▶▶Conectar▶▶▶▶▶@hacerclic666888999 @alvaro....               es   \n",
       "3     ▶▶▶▶▶Conectar▶▶▶▶▶Conectar▶▶▶▶▶@hacerclic11223...               es   \n",
       "4     ▶▶▶▶▶Conectar▶▶▶▶▶Conectar▶▶▶▶▶@hacerclic11223...               es   \n",
       "...                                                 ...              ...   \n",
       "5680  今回のオフ会は、ザ・リッツ・カールトン大阪❗️沢山のご来場ありがとうございました😎ここで沢山...               ja   \n",
       "5681  【母まじか...笑】やる気は無いけど食欲ある時のやり方らしいw #母親あるある #餃子食べた...               ja   \n",
       "5682  リルおじしゃんのモデレーターをしてます天使と申します。 毎日21時以降にLIVE配信もしてま...               ja   \n",
       "5683  #ad NO ES LA TRADUCCIÓN REAL!! /soy esa ᐠ( ᐛ )...               es   \n",
       "5684  🎆花火祭&コットン祭🐚（わっくん🧸🎧枠限定イベント）いつも全力応援ありがとうございます🥹🙇🏻...               ja   \n",
       "\n",
       "                                                   text  \n",
       "0                                                   you  \n",
       "1                                                   you  \n",
       "2                                                   you  \n",
       "3                                                   you  \n",
       "4                                                   you  \n",
       "...                                                 ...  \n",
       "5680  こんなホテルより絶対こういうことの方がいいよ. だってそうとっても. うははは. もうなんか...  \n",
       "5681  母の餃子洗い物すくのすぎ. 最後は本当びっくり. まずプリ袋に好きなみじん切り野菜入れて. ...  \n",
       "5682  えー、はじめまして、えー、わたくしが. いい気にくいだよ. いい気にくいです. やっさーな、...  \n",
       "5683  持てまくるよ. 鏡よ鏡 正直言われたいんだ. いらないお前 いらない. 鏡よ鏡 正直すぎるだ...  \n",
       "5684  ねぇ 私を気になってくれませんか. 浜辺に残る足跡が消える前に. まっすぐ伝えたいよ. 君が...  \n",
       "\n",
       "[5685 rows x 5 columns]"
      ]
     },
     "execution_count": 50,
     "metadata": {},
     "output_type": "execute_result"
    }
   ],
   "source": [
    "final_dataset"
   ]
  },
  {
   "cell_type": "code",
   "execution_count": null,
   "id": "3d3c4adc-db05-403b-a207-336804a3fee7",
   "metadata": {},
   "outputs": [],
   "source": []
  }
 ],
 "metadata": {
  "kernelspec": {
   "display_name": "Python 3 (ipykernel)",
   "language": "python",
   "name": "python3"
  },
  "language_info": {
   "codemirror_mode": {
    "name": "ipython",
    "version": 3
   },
   "file_extension": ".py",
   "mimetype": "text/x-python",
   "name": "python",
   "nbconvert_exporter": "python",
   "pygments_lexer": "ipython3",
   "version": "3.11.0"
  }
 },
 "nbformat": 4,
 "nbformat_minor": 5
}

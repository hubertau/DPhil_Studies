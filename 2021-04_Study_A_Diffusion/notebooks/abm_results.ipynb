{
 "cells": [
  {
   "cell_type": "markdown",
   "metadata": {},
   "source": [
    "# ABM Results\n",
    "\n",
    "ipynb interface of agent-based modelling results. This file uses the new hdf5 compressed storage of abm results\n",
    "\n",
    "First import relevant packages"
   ]
  },
  {
   "cell_type": "code",
   "execution_count": 141,
   "metadata": {},
   "outputs": [],
   "source": [
    "import seaborn as sns\n",
    "sns.set('talk')\n",
    "sns.set_style('ticks')\n",
    "\n",
    "\n",
    "import glob\n",
    "import numpy as np\n",
    "import networkx as nx\n",
    "import datetime\n",
    "from itertools import count\n",
    "import tqdm\n",
    "from typing import NamedTuple\n",
    "import h5py\n",
    "\n",
    "import re\n",
    "import pandas as pd\n",
    "import pickle\n",
    "import os\n",
    "import matplotlib.pyplot as plt\n",
    "import seaborn as sns\n",
    "pd.set_option('precision', 2)\n",
    "\n",
    "import sys\n",
    "\n",
    "sys.path.append( '/home/hubert/DPhil_Studies/2021-04_Study_A_Diffusion/src/d04_modelling' )\n",
    "\n",
    "from abm import *\n",
    "from abm_eval import *\n",
    "from abm_history_eval import *\n",
    "\n",
    "#load in search hashtags\n",
    "with open('../references/search_hashtags.txt', 'r') as f:\n",
    "    search_hashtags = f.readlines()\n",
    "    search_hashtags = [i.replace('\\n', '') for i in search_hashtags]\n",
    "    search_hashtags = [i.replace('#', '') for i in search_hashtags]\n",
    "    search_hashtags = [i.lower() for i in search_hashtags]\n",
    "    search_hashtags.remove('وأناكمان')"
   ]
  },
  {
   "cell_type": "markdown",
   "metadata": {},
   "source": [
    "# Checking out which parameter sets are best from data eval tasks - 19/07/2022"
   ]
  },
  {
   "cell_type": "code",
   "execution_count": 142,
   "metadata": {},
   "outputs": [],
   "source": [
    "results_dir = '/home/hubert/DPhil_Studies/2021-04_Study_A_Diffusion/results'\n",
    "group_num = 2\n",
    "\n",
    "theoretical_df_loc = f'/home/hubert/DPhil_Studies/2021-04_Study_A_Diffusion/results/0{group_num}_group/abm_theoretical_eval_df.obj'\n",
    "data_df_loc = f'/home/hubert/DPhil_Studies/2021-04_Study_A_Diffusion/results/0{group_num}_group/abm_data_eval_df.obj'\n",
    "\n",
    "with open(theoretical_df_loc, 'rb') as f:\n",
    "    abm_theo_df = pickle.load(f)\n",
    "\n",
    "with open(data_df_loc, 'rb') as f:\n",
    "    abm_data_df = pickle.load(f)"
   ]
  },
  {
   "cell_type": "code",
   "execution_count": 94,
   "metadata": {},
   "outputs": [
    {
     "data": {
      "text/plain": [
       "Index(['experimentation_chance', 'initial_activity_threshold', 'interact_prob',\n",
       "       'interact_prob_multiplier', 'interact_threshold', 'model_num',\n",
       "       'peak_delta_init', 'search_hashtag_propensity', 'top_rank_eval',\n",
       "       'top_by_far_eval', 'rank_eval', 'percent_eval'],\n",
       "      dtype='object')"
      ]
     },
     "execution_count": 94,
     "metadata": {},
     "output_type": "execute_result"
    }
   ],
   "source": [
    "abm_data_df.columns"
   ]
  },
  {
   "cell_type": "code",
   "execution_count": 143,
   "metadata": {},
   "outputs": [
    {
     "data": {
      "text/html": [
       "<div>\n",
       "<style scoped>\n",
       "    .dataframe tbody tr th:only-of-type {\n",
       "        vertical-align: middle;\n",
       "    }\n",
       "\n",
       "    .dataframe tbody tr th {\n",
       "        vertical-align: top;\n",
       "    }\n",
       "\n",
       "    .dataframe thead th {\n",
       "        text-align: right;\n",
       "    }\n",
       "</style>\n",
       "<table border=\"1\" class=\"dataframe\">\n",
       "  <thead>\n",
       "    <tr style=\"text-align: right;\">\n",
       "      <th></th>\n",
       "      <th>experimentation_chance</th>\n",
       "      <th>initial_activity_threshold</th>\n",
       "      <th>interact_prob</th>\n",
       "      <th>interact_prob_multiplier</th>\n",
       "      <th>interact_threshold</th>\n",
       "      <th>model_num</th>\n",
       "      <th>peak_delta_init</th>\n",
       "      <th>search_hashtag_propensity</th>\n",
       "      <th>top_rank_eval</th>\n",
       "      <th>top_by_far_eval</th>\n",
       "      <th>rank_eval</th>\n",
       "      <th>percent_eval</th>\n",
       "    </tr>\n",
       "  </thead>\n",
       "  <tbody>\n",
       "    <tr>\n",
       "      <th>12521</th>\n",
       "      <td>3.00e-01</td>\n",
       "      <td>3.0</td>\n",
       "      <td>0.5</td>\n",
       "      <td>1.0</td>\n",
       "      <td>4.0</td>\n",
       "      <td>5.0</td>\n",
       "      <td>7.0</td>\n",
       "      <td>0.2</td>\n",
       "      <td>10.0</td>\n",
       "      <td>-5.01</td>\n",
       "      <td>0.8</td>\n",
       "      <td>15.34</td>\n",
       "    </tr>\n",
       "    <tr>\n",
       "      <th>10001</th>\n",
       "      <td>2.00e-01</td>\n",
       "      <td>3.0</td>\n",
       "      <td>0.5</td>\n",
       "      <td>1.1</td>\n",
       "      <td>4.0</td>\n",
       "      <td>5.0</td>\n",
       "      <td>7.0</td>\n",
       "      <td>0.2</td>\n",
       "      <td>10.0</td>\n",
       "      <td>-4.72</td>\n",
       "      <td>0.8</td>\n",
       "      <td>16.24</td>\n",
       "    </tr>\n",
       "    <tr>\n",
       "      <th>7480</th>\n",
       "      <td>1.00e-01</td>\n",
       "      <td>3.0</td>\n",
       "      <td>0.5</td>\n",
       "      <td>1.2</td>\n",
       "      <td>4.0</td>\n",
       "      <td>5.0</td>\n",
       "      <td>7.0</td>\n",
       "      <td>0.1</td>\n",
       "      <td>10.0</td>\n",
       "      <td>-4.78</td>\n",
       "      <td>0.8</td>\n",
       "      <td>16.50</td>\n",
       "    </tr>\n",
       "    <tr>\n",
       "      <th>12517</th>\n",
       "      <td>3.00e-01</td>\n",
       "      <td>3.0</td>\n",
       "      <td>0.5</td>\n",
       "      <td>1.0</td>\n",
       "      <td>4.0</td>\n",
       "      <td>5.0</td>\n",
       "      <td>3.0</td>\n",
       "      <td>0.2</td>\n",
       "      <td>10.0</td>\n",
       "      <td>-5.89</td>\n",
       "      <td>0.8</td>\n",
       "      <td>16.50</td>\n",
       "    </tr>\n",
       "    <tr>\n",
       "      <th>7477</th>\n",
       "      <td>1.00e-01</td>\n",
       "      <td>3.0</td>\n",
       "      <td>0.5</td>\n",
       "      <td>1.2</td>\n",
       "      <td>4.0</td>\n",
       "      <td>5.0</td>\n",
       "      <td>3.0</td>\n",
       "      <td>0.2</td>\n",
       "      <td>10.0</td>\n",
       "      <td>-5.35</td>\n",
       "      <td>0.8</td>\n",
       "      <td>16.60</td>\n",
       "    </tr>\n",
       "    <tr>\n",
       "      <th>...</th>\n",
       "      <td>...</td>\n",
       "      <td>...</td>\n",
       "      <td>...</td>\n",
       "      <td>...</td>\n",
       "      <td>...</td>\n",
       "      <td>...</td>\n",
       "      <td>...</td>\n",
       "      <td>...</td>\n",
       "      <td>...</td>\n",
       "      <td>...</td>\n",
       "      <td>...</td>\n",
       "      <td>...</td>\n",
       "    </tr>\n",
       "    <tr>\n",
       "      <th>5988</th>\n",
       "      <td>1.00e-01</td>\n",
       "      <td>1.0</td>\n",
       "      <td>0.9</td>\n",
       "      <td>1.2</td>\n",
       "      <td>1.0</td>\n",
       "      <td>6.0</td>\n",
       "      <td>3.0</td>\n",
       "      <td>0.1</td>\n",
       "      <td>10.0</td>\n",
       "      <td>-11.16</td>\n",
       "      <td>0.6</td>\n",
       "      <td>606.29</td>\n",
       "    </tr>\n",
       "    <tr>\n",
       "      <th>804</th>\n",
       "      <td>1.00e-02</td>\n",
       "      <td>1.0</td>\n",
       "      <td>0.9</td>\n",
       "      <td>1.2</td>\n",
       "      <td>1.0</td>\n",
       "      <td>6.0</td>\n",
       "      <td>3.0</td>\n",
       "      <td>0.1</td>\n",
       "      <td>10.0</td>\n",
       "      <td>-12.04</td>\n",
       "      <td>0.6</td>\n",
       "      <td>609.92</td>\n",
       "    </tr>\n",
       "    <tr>\n",
       "      <th>5989</th>\n",
       "      <td>1.00e-01</td>\n",
       "      <td>1.0</td>\n",
       "      <td>0.9</td>\n",
       "      <td>1.2</td>\n",
       "      <td>1.0</td>\n",
       "      <td>6.0</td>\n",
       "      <td>3.0</td>\n",
       "      <td>0.2</td>\n",
       "      <td>10.0</td>\n",
       "      <td>-11.40</td>\n",
       "      <td>0.6</td>\n",
       "      <td>610.77</td>\n",
       "    </tr>\n",
       "    <tr>\n",
       "      <th>8581</th>\n",
       "      <td>2.00e-01</td>\n",
       "      <td>1.0</td>\n",
       "      <td>0.9</td>\n",
       "      <td>1.2</td>\n",
       "      <td>1.0</td>\n",
       "      <td>6.0</td>\n",
       "      <td>3.0</td>\n",
       "      <td>0.2</td>\n",
       "      <td>10.0</td>\n",
       "      <td>-10.91</td>\n",
       "      <td>0.6</td>\n",
       "      <td>611.37</td>\n",
       "    </tr>\n",
       "    <tr>\n",
       "      <th>5917</th>\n",
       "      <td>1.00e-01</td>\n",
       "      <td>1.0</td>\n",
       "      <td>0.9</td>\n",
       "      <td>1.1</td>\n",
       "      <td>1.0</td>\n",
       "      <td>6.0</td>\n",
       "      <td>3.0</td>\n",
       "      <td>0.2</td>\n",
       "      <td>10.0</td>\n",
       "      <td>-11.55</td>\n",
       "      <td>0.6</td>\n",
       "      <td>612.24</td>\n",
       "    </tr>\n",
       "  </tbody>\n",
       "</table>\n",
       "<p>12960 rows × 12 columns</p>\n",
       "</div>"
      ],
      "text/plain": [
       "       experimentation_chance  initial_activity_threshold  interact_prob  \\\n",
       "12521                3.00e-01                         3.0            0.5   \n",
       "10001                2.00e-01                         3.0            0.5   \n",
       "7480                 1.00e-01                         3.0            0.5   \n",
       "12517                3.00e-01                         3.0            0.5   \n",
       "7477                 1.00e-01                         3.0            0.5   \n",
       "...                       ...                         ...            ...   \n",
       "5988                 1.00e-01                         1.0            0.9   \n",
       "804                  1.00e-02                         1.0            0.9   \n",
       "5989                 1.00e-01                         1.0            0.9   \n",
       "8581                 2.00e-01                         1.0            0.9   \n",
       "5917                 1.00e-01                         1.0            0.9   \n",
       "\n",
       "       interact_prob_multiplier  interact_threshold  model_num  \\\n",
       "12521                       1.0                 4.0        5.0   \n",
       "10001                       1.1                 4.0        5.0   \n",
       "7480                        1.2                 4.0        5.0   \n",
       "12517                       1.0                 4.0        5.0   \n",
       "7477                        1.2                 4.0        5.0   \n",
       "...                         ...                 ...        ...   \n",
       "5988                        1.2                 1.0        6.0   \n",
       "804                         1.2                 1.0        6.0   \n",
       "5989                        1.2                 1.0        6.0   \n",
       "8581                        1.2                 1.0        6.0   \n",
       "5917                        1.1                 1.0        6.0   \n",
       "\n",
       "       peak_delta_init  search_hashtag_propensity  top_rank_eval  \\\n",
       "12521              7.0                        0.2           10.0   \n",
       "10001              7.0                        0.2           10.0   \n",
       "7480               7.0                        0.1           10.0   \n",
       "12517              3.0                        0.2           10.0   \n",
       "7477               3.0                        0.2           10.0   \n",
       "...                ...                        ...            ...   \n",
       "5988               3.0                        0.1           10.0   \n",
       "804                3.0                        0.1           10.0   \n",
       "5989               3.0                        0.2           10.0   \n",
       "8581               3.0                        0.2           10.0   \n",
       "5917               3.0                        0.2           10.0   \n",
       "\n",
       "       top_by_far_eval  rank_eval  percent_eval  \n",
       "12521            -5.01        0.8         15.34  \n",
       "10001            -4.72        0.8         16.24  \n",
       "7480             -4.78        0.8         16.50  \n",
       "12517            -5.89        0.8         16.50  \n",
       "7477             -5.35        0.8         16.60  \n",
       "...                ...        ...           ...  \n",
       "5988            -11.16        0.6        606.29  \n",
       "804             -12.04        0.6        609.92  \n",
       "5989            -11.40        0.6        610.77  \n",
       "8581            -10.91        0.6        611.37  \n",
       "5917            -11.55        0.6        612.24  \n",
       "\n",
       "[12960 rows x 12 columns]"
      ]
     },
     "execution_count": 143,
     "metadata": {},
     "output_type": "execute_result"
    }
   ],
   "source": [
    "abm_data_df.sort_values('percent_eval', ascending=True)"
   ]
  },
  {
   "cell_type": "code",
   "execution_count": 136,
   "metadata": {},
   "outputs": [
    {
     "data": {
      "image/png": "[encoded data removed]",
      "text/plain": [
       "<Figure size 1080x576 with 12 Axes>"
      ]
     },
     "metadata": {},
     "output_type": "display_data"
    }
   ],
   "source": [
    "x = abm_data_df[abm_data_df['top_by_far_eval']>-1]\n",
    "ax = x.iloc[:,].hist(figsize=(15,8))"
   ]
  },
  {
   "cell_type": "markdown",
   "metadata": {},
   "source": [
    "# Evaluating Fit\n",
    "\n",
    "parameters searched:\n",
    "\n",
    "\n",
    "{\n",
    "    \"interact_threshold\": [1,2,3,4],\n",
    "    \"initial_activity_threshold\": [1,2,3],\n",
    "    \"peak_delta_init\": [3,5,7],\n",
    "    \"model_num\": [4,5,6],\n",
    "    \"interact_prob\": [0.1,0.5,0.9],\n",
    "    \"interact_prob_multiplier\": [0.9,1.0,1.1,1.2],\n",
    "    \"experimentation_chance\": [0.01,0.05,0.1,0.2,0.3],\n",
    "    \"search_hashtag_propensity\": [0.1,0.2],\n",
    "    \"repeat\":10\n",
    "}"
   ]
  },
  {
   "cell_type": "code",
   "execution_count": 3,
   "metadata": {},
   "outputs": [],
   "source": [
    "# define reference result function appropriate for application here without args.\n",
    "\n",
    "def reference_results(most_prominent_peaks, group_date_range, group_num, agent_list, activity_file = '/home/hubert/DPhil_Studies/2021-04_Study_A_Diffusion/data/03_processed/activity_counts.hdf5'):\n",
    "    act_val = {}\n",
    "    with h5py.File(activity_file, 'r') as f:\n",
    "        activity_base = f[f'group_{group_num}']\n",
    "        feature_order = f[f'group_{group_num}'][agent_list[0]]['hashtagged'].attrs['feature_order']\n",
    "        feature_order = feature_order.split(';')\n",
    "\n",
    "        for user_id in agent_list:\n",
    "            # obtain user activity\n",
    "            act_val[user_id] = {}\n",
    "            activity = activity_base[user_id]['hashtagged'][:]\n",
    "\n",
    "            # act_val[user_id] = np.sum(activity[:,-int(daterange_length/2):])\n",
    "\n",
    "            for hashtag_in_period in most_prominent_peaks:\n",
    "                hashtag_in_period_index = feature_order.index(hashtag_in_period)\n",
    "\n",
    "                # obtain the index offset from the detected peak of the hashtag to collect initial time window.\n",
    "                peak_index_index = (datetime.datetime.strptime(group_date_range.end, '%Y-%m-%d')-most_prominent_peaks[hashtag_in_period]).days\n",
    "                # offset_index -= peak_delta_init\n",
    "                # offset_index = max(0,offset_index)+1\n",
    "                # print(f'Offset for {hashtag_in_period} is {offset_index}')\n",
    "\n",
    "                act_val[user_id][hashtag_in_period_index]= np.sum(activity[hashtag_in_period_index,-peak_index_index-1:])\n",
    "\n",
    "    act_val = pd.DataFrame.from_dict(act_val, orient='index').reset_index()\n",
    "    act_val.columns = ['user_id'] + list(most_prominent_peaks.keys())\n",
    "\n",
    "    return act_val\n",
    "\n",
    "def group_peaks_and_daterange(peak_analysis_file, group_num):\n",
    "\n",
    "    #obtain peak times again\n",
    "    with h5py.File(peak_analysis_file, 'r') as f:\n",
    "        FAS_peaks = f['peak_detections']\n",
    "        x = f['segments']['selected_ranges'][int(group_num)-1]\n",
    "        group_date_range = daterange(\n",
    "            start = x[0].decode(),\n",
    "            end = x[1].decode()\n",
    "        )\n",
    "\n",
    "        # group_start_index = reverse_unit_conv(group_date_range.start)\n",
    "        # group_end_index = reverse_unit_conv(group_date_range.end)\n",
    "\n",
    "        most_prominent_peaks = {}\n",
    "        for name, h5obj in FAS_peaks.items():\n",
    "\n",
    "            peak_locations = h5obj['peak_locations']\n",
    "            peak_locations = [(i,e) for i,e in enumerate(h5obj['peak_locations']) if (unit_conv(e) > datetime.datetime.strptime(group_date_range.start, '%Y-%m-%d')) and (unit_conv(e) < datetime.datetime.strptime(group_date_range.end, '%Y-%m-%d'))]\n",
    "            peak_indices = [i[0] for i in peak_locations]\n",
    "            prominences = [element for index, element in enumerate(h5obj['prominences']) if index in peak_indices]\n",
    "            if len(prominences) == 0:\n",
    "                continue\n",
    "            max_prominence = np.argmax(prominences)\n",
    "            most_prominent_peaks[name] = unit_conv(peak_locations[max_prominence][1])\n",
    "\n",
    "    daterange_length = (datetime.datetime.strptime(group_date_range.end, '%Y-%m-%d') - datetime.datetime.strptime(group_date_range.start, '%Y-%m-%d')).days\n",
    "\n",
    "    return most_prominent_peaks, group_date_range, daterange_length"
   ]
  },
  {
   "cell_type": "code",
   "execution_count": 4,
   "metadata": {},
   "outputs": [],
   "source": [
    "# set group number\n",
    "group_num = 2\n",
    "abm_results_path = '/home/hubert/DPhil_Studies/2021-04_Study_A_Diffusion/data/06_reporting'\n",
    "\n",
    "# collect group information\n",
    "most_prominent_peaks, group_date_range, daterange_length = group_peaks_and_daterange('/home/hubert/DPhil_Studies/2021-04_Study_A_Diffusion/data/02_intermediate/FAS_peak_analysis.hdf5', group_num)\n",
    "\n",
    "# compressed hdf5 file consolidation:\n",
    "hdf5_consolidated_file = os.path.join(abm_results_path, f'ABM_output_consolidated_group_{group_num}.hdf5')\n",
    "\n",
    "# extract params and results and key order, converting it back into a list\n",
    "with h5py.File(hdf5_consolidated_file, 'r') as f:\n",
    "    results = f['result'][:]\n",
    "    key_order = f['result'].attrs['key_order'].strip('[]').replace(\"'\",'').split(', ')\n",
    "    params = f['params'][:]\n",
    "\n",
    "# dummy file ref. This is just for collecting agent order.\n",
    "hdf5_res_file_dummy = os.path.join(abm_results_path, f'0{group_num}_group/ABM_output_group_{group_num}_batch_0.hdf5')\n",
    "\n",
    "# collect agent order\n",
    "with h5py.File(hdf5_res_file_dummy, 'r') as f:\n",
    "    agents = f['agent_order'][:]\n",
    "\n",
    "# extract reference values\n",
    "reference_values = reference_results(\n",
    "    most_prominent_peaks,\n",
    "    group_date_range,\n",
    "    group_num,\n",
    "    agents\n",
    ")\n",
    "\n",
    "# for graph visualisations later, load in respective graph object.\n",
    "graph_savepath = os.path.join(abm_results_path, f'ABM_graph_group_{group_num}.obj')\n",
    "\n",
    "if os.path.isfile(graph_savepath):\n",
    "    with open(graph_savepath, 'rb') as f:\n",
    "        G = pickle.load(f)"
   ]
  },
  {
   "cell_type": "code",
   "execution_count": 29,
   "metadata": {},
   "outputs": [],
   "source": [
    "with h5py.File(hdf5_consolidated_file, 'r') as f:\n",
    "    results = f['result'][:]\n",
    "    key_order = f['result'].attrs['key_order'].strip('[]').replace(\"'\",'').split(', ')\n",
    "    params = f['params'][:]\n",
    "    param_order = f['params'].attrs['param_order']"
   ]
  },
  {
   "cell_type": "markdown",
   "metadata": {},
   "source": [
    "## Evaluation by Theoretical Tests"
   ]
  },
  {
   "cell_type": "markdown",
   "metadata": {},
   "source": [
    "Tests relating to the theoretical expectations:\n",
    " \n",
    "1. Awareness: do people talk to each other?\n",
    "    * This can be tested perhaps with whether people do actually communicate across hashtags with their follow networks. Big caveat with the follower networks in the conclusion\n",
    "2. Experimentation: do people who have interacted meaningfully with another group’s hashtag try their new hashtags?\n",
    "3. Application: do the new hashtags spread to other people?\n",
    " \n",
    "Tests relating to the data:\n",
    "\n",
    "1. Is the top hashtag #MeToo?\n",
    "2. Is it the top hashtag by far?\n",
    "3. Is the set of the 2nd-3rd or 2nd-5th top hashtags the same?\n",
    "4. Influence matrix: for every community, take the top 5 communities that influence that community, and take the set intersection between model and data. Average it all up.\n",
    " \n",
    "…something like that. Each one of those needs to be defined more rigorously, and then for every model, these tests will make up a “marks sheet” for us to see if models do or do not pass the test. Also, we spoke about using the best out of 10 runs for every parameter set, since that represents what that parameter set CAN DO."
   ]
  },
  {
   "cell_type": "markdown",
   "metadata": {},
   "source": [
    "### 1. Awareness: do people talk to each other?"
   ]
  },
  {
   "cell_type": "code",
   "execution_count": null,
   "metadata": {},
   "outputs": [],
   "source": [
    "# need history logging for this\n",
    "\n",
    "#compare with history logging\n",
    "with open('/home/hubert/DPhil_Studies/2021-04_Study_A_Diffusion/data/06_reporting/ABM_output_group_2_batch_0_history.obj','rb') as f:\n",
    "    history_edges = pickle.load(f)\n",
    "\n",
    "def yield_edge_list(history_edges_list):\n",
    "\n",
    "    # N.B. Interaction_Record namedtuple allows accessing values with attribute method\n",
    "    for i in history_edges_list:\n",
    "        if i.interact_result:\n",
    "            yield (i.source, i.target)\n",
    "\n",
    "def extract_directions(graph):\n",
    "    output = nx.DiGraph()\n",
    "    for i in tqdm.tqdm(graph.edges(data=True)):\n",
    "        subject_id = G.nodes(data=True)[i[0]]['primary_ht']\n",
    "        object_id  = G.nodes(data=True)[i[1]]['primary_ht']\n",
    "        if output.has_edge(subject_id, object_id):\n",
    "            # we added this one before, just increase the weight by one\n",
    "            output[subject_id][object_id]['weight'] += 1\n",
    "        else:\n",
    "            # new edge. add with weight=1\n",
    "            output.add_edge(subject_id, object_id, weight=1)\n",
    "        # output.add_edge(G.nodes(data=True)[i[0]]['primary_ht'], G.nodes(data=True)[i[1]]['primary_ht'])\n",
    "    return output\n",
    "\n",
    "history = nx.DiGraph(yield_edge_list(history_edges[0][1]))\n",
    "\n",
    "# this is for influence matrix\n",
    "# h_graph = extract_directions(history)\n",
    "# h_graph.remove_edges_from(nx.selfloop_edges(h_graph))"
   ]
  },
  {
   "cell_type": "code",
   "execution_count": null,
   "metadata": {},
   "outputs": [],
   "source": [
    "# alternative: check follows network? but that's not really the abm itself."
   ]
  },
  {
   "cell_type": "code",
   "execution_count": null,
   "metadata": {},
   "outputs": [],
   "source": [
    "# for new graph object history thing:\n",
    "# object is a list of tuples, each tuple is a set of parameters and then the graph of history edges with data parameters.\n",
    "with open('/home/hubert/DPhil_Studies/2021-04_Study_A_Diffusion/data/06_reporting/ABM_output_group_2_batch_0_history.obj','rb') as f:\n",
    "    history_graph_list = pickle.load(f)\n",
    "\n",
    "# function to process history graph:\n",
    "def score_graph(history_graph, kind='awareness'):\n",
    "\n",
    "    if kind=='awareness':\n",
    "        # if kind is awareness then check the interactions between agents of different primary hashtags\n",
    "\n",
    "        history_graph.nodes(data=True)\n",
    "\n",
    "        "
   ]
  },
  {
   "cell_type": "code",
   "execution_count": null,
   "metadata": {},
   "outputs": [],
   "source": [
    "# load in history evaluation objects:\n",
    "with open(f'/home/hubert/DPhil_Studies/2021-04_Study_A_Diffusion/data/06_reporting/ABM_history_eval_group_{group_num}.obj', 'rb') as f:\n",
    "    history_eval_obj = pickle.load(f)"
   ]
  },
  {
   "cell_type": "code",
   "execution_count": null,
   "metadata": {},
   "outputs": [],
   "source": [
    "history_eval_obj[]"
   ]
  },
  {
   "cell_type": "markdown",
   "metadata": {},
   "source": [
    "### 2. Experimentation: do people who have interacted meaningfully with another group's hashtag try their new hashtags?"
   ]
  },
  {
   "cell_type": "code",
   "execution_count": null,
   "metadata": {},
   "outputs": [],
   "source": [
    "# check whether experimentation occurs to help spread"
   ]
  },
  {
   "cell_type": "markdown",
   "metadata": {},
   "source": [
    "### 3. Application: do new hashtags spread to other people?\n",
    "\n",
    "That is, do people who have received L1 from someone then spread it to another person L3?"
   ]
  },
  {
   "cell_type": "code",
   "execution_count": null,
   "metadata": {},
   "outputs": [],
   "source": []
  },
  {
   "cell_type": "markdown",
   "metadata": {},
   "source": [
    "## Evaluation by data:"
   ]
  },
  {
   "cell_type": "markdown",
   "metadata": {},
   "source": [
    "### 1. Is the top hashtag #MeToo"
   ]
  },
  {
   "cell_type": "code",
   "execution_count": null,
   "metadata": {},
   "outputs": [],
   "source": [
    "# use score function below"
   ]
  },
  {
   "cell_type": "markdown",
   "metadata": {},
   "source": [
    "### 2. Is it the top hashtag by far?"
   ]
  },
  {
   "cell_type": "markdown",
   "metadata": {},
   "source": [
    "### 3. is the set of 2-3 and 2-5th hashtags the same?"
   ]
  },
  {
   "cell_type": "markdown",
   "metadata": {},
   "source": [
    "### 4. Influence matrix"
   ]
  },
  {
   "cell_type": "markdown",
   "metadata": {},
   "source": [
    "## Evaluation by basic distance to data"
   ]
  },
  {
   "cell_type": "code",
   "execution_count": 19,
   "metadata": {},
   "outputs": [],
   "source": [
    "def score(result_np_array, key_order, params, reference_values, kind = 'percentage', avg=True):\n",
    "\n",
    "\n",
    "    '''\n",
    "    Function: process an np array of consolidated results to a score for each parameter combination. This can be by the average results of each combination, or the best one.\n",
    "    '''\n",
    "\n",
    "    # TO CHANGE LATER: REMOVE 0 VALUES\n",
    "    reference_df = reference_values[reference_values['actual']>0]\n",
    "\n",
    "    # sort refernece df\n",
    "    reference_df = reference_df.sort_values(by='actual', ascending=False)\n",
    "\n",
    "    # np.unique returns the unique values in an array and can return their indices to reconstruct the original array.\n",
    "    unq, indices= np.unique(params, axis=0, return_inverse=True)\n",
    "\n",
    "    # indices of hashtags needed for this group\n",
    "    x = np.array([np.where(np.array(key_order)==x)[0][0] for x in reference_df['index']])\n",
    "    print(reference_df['index'])\n",
    "    print(x)\n",
    "\n",
    "    # use these unique incides to extract the desired processed result\n",
    "    # result_np_array_processed = np.zeros(shape = (len(unq), len(x)))\n",
    "\n",
    "    # filter down necessary results to just those found in the line before\n",
    "    result_np_array_processed = result_np_array[:,x]\n",
    "    # print(result_np_array_processed.shape)\n",
    "    # print(reference_df['actual'].shape)\n",
    "    # print((result_np_array_processed-np.array(reference_df['actual'])).shape)\n",
    "\n",
    "    # create output array\n",
    "    evaluated = np.zeros(len(unq))\n",
    "\n",
    "    if avg:\n",
    "\n",
    "        if kind == 'percentage':\n",
    "\n",
    "            # calc percentages\n",
    "            result_np_array_processed = np.abs((result_np_array_processed-np.array(reference_df['actual']))/np.array(reference_df['actual']))\n",
    "\n",
    "            # assign appropriate value in output array\n",
    "            for i in range(len(unq)):\n",
    "                evaluated[i] = result_np_array_processed[indices==i].sum().mean()\n",
    "\n",
    "    else:\n",
    "\n",
    "        if kind == 'percentage':\n",
    "\n",
    "            # calc percentages\n",
    "            result_np_array_processed = np.abs((result_np_array_processed-np.array(reference_df['actual']))/np.array(reference_df['actual']))\n",
    "\n",
    "            # assign appropriate value in output array\n",
    "            for i in range(len(unq)):\n",
    "                evaluated[i] = result_np_array_processed[indices==i].sum().min()\n",
    "\n",
    "        elif kind == 'rank':\n",
    "\n",
    "            # assign score to each rank depending on its distance with actual ranking. Ideal (i.e. matching all ranks) is a 0 score.\n",
    "            rank_array_sorted = np.argsort(result_np_array_processed, axis=1)[:,::-1]\n",
    "            rank_array_temp = (np.abs(rank_array_sorted - np.arange(len(x)))).sum(axis=1)\n",
    "            # print(np.argsort(result_np_array_processed, axis=1).shape)\n",
    "            # print(rank_array_temp.shape)\n",
    "\n",
    "            for i in range(len(unq)):\n",
    "                evaluated[i] = rank_array_temp[indices==i].min()\n",
    "\n",
    "        elif kind == 'top_rank':\n",
    "\n",
    "            # assign score to each rank depending on its distance with actual ranking. Only keep top rank.\n",
    "            rank_array_sorted = np.argsort(result_np_array_processed, axis=1)[:,::-1]\n",
    "            rank_array_top_check = rank_array_sorted[:,0]==0\n",
    "\n",
    "            for i in range(len(unq)):\n",
    "                evaluated[i] = rank_array_top_check[indices==i].sum()\n",
    "\n",
    "    return reference_df['index'], evaluated, unq, indices\n"
   ]
  },
  {
   "cell_type": "code",
   "execution_count": 20,
   "metadata": {},
   "outputs": [],
   "source": [
    "act = (reference_values.iloc[:,1:]>2).sum(axis=0).to_frame().reset_index()\n",
    "act.columns = ['index', 'actual']"
   ]
  },
  {
   "cell_type": "code",
   "execution_count": 21,
   "metadata": {},
   "outputs": [
    {
     "name": "stdout",
     "output_type": "stream",
     "text": [
      "0         metoo\n",
      "3    noustoutes\n",
      "2    niunamenos\n",
      "1      moiaussi\n",
      "4         wetoo\n",
      "Name: index, dtype: object\n",
      "[ 0 27 24  2 21]\n"
     ]
    }
   ],
   "source": [
    "evaluated = score(results, key_order, params, act, avg=False, kind='rank')"
   ]
  },
  {
   "cell_type": "code",
   "execution_count": 24,
   "metadata": {},
   "outputs": [
    {
     "data": {
      "text/plain": [
       "array([ 9552,  9553,  9554, ..., 10125, 10126, 10127])"
      ]
     },
     "execution_count": 24,
     "metadata": {},
     "output_type": "execute_result"
    }
   ],
   "source": [
    "evaluated[3]"
   ]
  },
  {
   "cell_type": "code",
   "execution_count": 12,
   "metadata": {},
   "outputs": [
    {
     "data": {
      "text/plain": [
       "0.0"
      ]
     },
     "execution_count": 12,
     "metadata": {},
     "output_type": "execute_result"
    }
   ],
   "source": [
    "evaluated[1].min()"
   ]
  },
  {
   "cell_type": "code",
   "execution_count": 15,
   "metadata": {},
   "outputs": [
    {
     "data": {
      "text/plain": [
       "129600"
      ]
     },
     "execution_count": 15,
     "metadata": {},
     "output_type": "execute_result"
    }
   ],
   "source": [
    "len(params)"
   ]
  },
  {
   "cell_type": "code",
   "execution_count": null,
   "metadata": {},
   "outputs": [],
   "source": [
    "np.argmin(evaluated[1])"
   ]
  },
  {
   "cell_type": "code",
   "execution_count": 16,
   "metadata": {},
   "outputs": [
    {
     "data": {
      "text/plain": [
       "(12960,)"
      ]
     },
     "execution_count": 16,
     "metadata": {},
     "output_type": "execute_result"
    }
   ],
   "source": [
    "evaluated[1].shape"
   ]
  },
  {
   "cell_type": "code",
   "execution_count": 17,
   "metadata": {},
   "outputs": [
    {
     "data": {
      "text/plain": [
       "(129600, 8)"
      ]
     },
     "execution_count": 17,
     "metadata": {},
     "output_type": "execute_result"
    }
   ],
   "source": [
    "params.shape"
   ]
  },
  {
   "cell_type": "code",
   "execution_count": 18,
   "metadata": {},
   "outputs": [
    {
     "ename": "NameError",
     "evalue": "name 'unq' is not defined",
     "output_type": "error",
     "traceback": [
      "\u001b[0;31m---------------------------------------------------------------------------\u001b[0m",
      "\u001b[0;31mNameError\u001b[0m                                 Traceback (most recent call last)",
      "\u001b[0;32m/tmp/ipykernel_94880/3962759386.py\u001b[0m in \u001b[0;36m<module>\u001b[0;34m\u001b[0m\n\u001b[0;32m----> 1\u001b[0;31m \u001b[0munq\u001b[0m\u001b[0;34m\u001b[0m\u001b[0;34m\u001b[0m\u001b[0m\n\u001b[0m",
      "\u001b[0;31mNameError\u001b[0m: name 'unq' is not defined"
     ]
    }
   ],
   "source": []
  },
  {
   "cell_type": "code",
   "execution_count": null,
   "metadata": {},
   "outputs": [],
   "source": [
    "results[2122]"
   ]
  },
  {
   "cell_type": "code",
   "execution_count": null,
   "metadata": {},
   "outputs": [],
   "source": [
    "sns.boxplot(data=evaluated[1])"
   ]
  },
  {
   "cell_type": "markdown",
   "metadata": {},
   "source": [
    "## Question 1: Which parameter set gives the 'best fit'?\n",
    "\n",
    "Not trivial to define 'best fit'! L1 distance, L2 distance? Bayesian inference?"
   ]
  },
  {
   "cell_type": "code",
   "execution_count": null,
   "metadata": {},
   "outputs": [],
   "source": [
    "def process_best_fit(summary, reference_values, how = 'left', subset = None, restrict = {}):\n",
    "\n",
    "    if isinstance(subset, str):\n",
    "        subset = [subset]\n",
    "        print('subset was a string, converted to list')\n",
    "\n",
    "    if restrict:\n",
    "        assert isinstance(restrict, dict)\n",
    "\n",
    "    best_fit = []\n",
    "    summary_index_list = []\n",
    "    for summary_index, item in tqdm.tqdm(enumerate(summary), total = len(summary)):\n",
    "        params, values = item\n",
    "        stop = False\n",
    "        for k,v in restrict.items():\n",
    "            if params[k] != v:\n",
    "                stop = True\n",
    "                continue\n",
    "        if stop:\n",
    "            continue\n",
    "        summary_index_list.append(summary_index)\n",
    "        temp = values.merge(reference_values[1], on='index', how=how).fillna(0)\n",
    "        # print(temp)\n",
    "        if subset is not None:\n",
    "            # print(subset)\n",
    "            temp = temp[temp['index'].isin(subset)]\n",
    "            # print(temp)\n",
    "        best_fit.append(np.sqrt(((temp.iloc[:,2]-temp.iloc[:,1])**2).sum()))\n",
    "    best_fit = np.array(best_fit)\n",
    "\n",
    "    return summary_index_list, best_fit\n",
    "\n",
    "# summary_index_list, best_fit = process_best_fit(summary, reference_values, restrict = {'model_num':5})"
   ]
  },
  {
   "cell_type": "code",
   "execution_count": null,
   "metadata": {},
   "outputs": [],
   "source": [
    "def display_best_results(summary, summary_index_list,best_fit, how = 'left'):\n",
    "    best_fit_idx = np.argmin(best_fit)\n",
    "    print(f'Params for best fit:')\n",
    "    params = summary[summary_index_list[best_fit_idx]][0]\n",
    "    print(params)\n",
    "\n",
    "    # display results\n",
    "    best_fit_results = summary[summary_index_list[best_fit_idx]][1]\n",
    "    best_fit_results = best_fit_results.merge(reference_values[1], on='index', how=how).fillna(0)\n",
    "    print(best_fit_results)\n",
    "    return params, best_fit_results"
   ]
  },
  {
   "cell_type": "code",
   "execution_count": null,
   "metadata": {},
   "outputs": [],
   "source": [
    "how = 'right'\n",
    "summary_index_list, best_fit = process_best_fit(summary, reference_values, how=how)\n",
    "_, best_fit_results = display_best_results(summary, summary_index_list, best_fit, how=how)"
   ]
  },
  {
   "cell_type": "code",
   "execution_count": null,
   "metadata": {},
   "outputs": [],
   "source": [
    "best_fit_results['actual'] = best_fit_results['actual'].astype(int)\n",
    "best_fit_results = best_fit_results.sort_values('actual',ascending=False)\n",
    "best_fit_results.style.hide_index()"
   ]
  },
  {
   "cell_type": "markdown",
   "metadata": {},
   "source": [
    "## Question 2: Which model number is best?"
   ]
  },
  {
   "cell_type": "code",
   "execution_count": null,
   "metadata": {},
   "outputs": [],
   "source": [
    "results_by_model = []\n",
    "how='left'\n",
    "for model_num in range(1,7):\n",
    "    summary_index_list, best_fit = process_best_fit(summary, reference_values, how=how,restrict = {'model_num':model_num})\n",
    "    _, best_fit_results = display_best_results(summary, summary_index_list, best_fit, how=how)\n",
    "    results_by_model.append((summary_index_list,best_fit, best_fit_results))"
   ]
  },
  {
   "cell_type": "code",
   "execution_count": null,
   "metadata": {},
   "outputs": [],
   "source": [
    "print_df = results_by_model[-2][-1].sort_values(by='actual', ascending=False)\n",
    "print_df['actual'] = print_df['actual'].astype(int)\n",
    "print_df.style.hide_index()"
   ]
  },
  {
   "cell_type": "markdown",
   "metadata": {},
   "source": [
    "## Question 3: Given a best parameter set for each group, what's the variance of these results and t-test with actual results"
   ]
  },
  {
   "cell_type": "code",
   "execution_count": null,
   "metadata": {},
   "outputs": [],
   "source": [
    "arc_repeat_file = os.path.join('/home/hubert/DPhil_Studies/2021-04_Study_A_Diffusion/data/06_reporting', f'ABM_summary_group_{group_num}_repeat.obj')\n",
    "\n",
    "with open(arc_repeat_file, 'rb') as f:\n",
    "    summary_repeat = pickle.load(f)\n",
    "\n",
    "repeat_results = summary_repeat[0][1][1]\n",
    "reference_results = summary_repeat[-1]\n",
    "summary_repeat = summary_repeat[:-1]\n",
    "summary_repeat = [item for sublist in summary_repeat for item in sublist]"
   ]
  },
  {
   "cell_type": "code",
   "execution_count": null,
   "metadata": {},
   "outputs": [],
   "source": [
    "for i,e in tqdm.tqdm(enumerate(summary_repeat[1:]), total=len(summary_repeat[1:])):\n",
    "\n",
    "    repeat_results = repeat_results.merge(e[1], on='index', suffixes=(None,f'_{i}'))"
   ]
  },
  {
   "cell_type": "code",
   "execution_count": null,
   "metadata": {},
   "outputs": [],
   "source": [
    "repeat_results['mean'] = repeat_results.filter(regex='^abm',axis=1).mean(axis=1)\n",
    "repeat_results['var'] = repeat_results.filter(regex='^abm',axis=1).var(axis=1)\n",
    "repeat_results = repeat_results.merge(reference_results[-1], on='index')\n",
    "repeat_results['t_stat'] = (repeat_results['actual'] - repeat_results['mean'])/(np.sqrt(repeat_results['var'])/np.sqrt(1000))"
   ]
  },
  {
   "cell_type": "code",
   "execution_count": null,
   "metadata": {},
   "outputs": [],
   "source": [
    "repeat_results[['index','mean','actual']].sort_values(by='mean', ascending=False).style.hide_index()"
   ]
  },
  {
   "cell_type": "markdown",
   "metadata": {},
   "source": [
    "### What's the primary ht distribution?"
   ]
  },
  {
   "cell_type": "code",
   "execution_count": null,
   "metadata": {},
   "outputs": [],
   "source": [
    "with open('/home/hubert/DPhil_Studies/2021-04_Study_A_Diffusion/data/03_processed/primary_ht_global.obj', 'rb') as f:\n",
    "    user_order, pht = pickle.load(f)\n",
    "\n",
    "user_doc_ids = sorted(glob.glob(os.path.join(f'/home/hubert/DPhil_Studies/2021-04_Study_A_Diffusion/data/01_raw/0{group_num}_group/','timeline*.jsonl')))\n",
    "user_doc_ids = [re.split('[_.]',i)[-2] for i in user_doc_ids]\n",
    "assert len(user_doc_ids)>0"
   ]
  },
  {
   "cell_type": "code",
   "execution_count": null,
   "metadata": {},
   "outputs": [],
   "source": [
    "def process_primary_res(author_id):\n",
    "    global unknown_count\n",
    "    if author_id not in user_order:\n",
    "        # print(f'{author_id} not in users')\n",
    "        unknown_count += 1\n",
    "        return 'metoo'\n",
    "    return search_hashtags[np.argmax(res[user_order.index(author_id),:])]\n",
    "\n",
    "pt_dist = {k: 0 for k in search_hashtags}\n",
    "pt_users = {}\n",
    "for i in user_doc_ids:\n",
    "    try:\n",
    "        primary_ht = search_hashtags[np.argmax(pht[user_order.index(i),:])]\n",
    "        pt_dist[primary_ht] += 1\n",
    "        pt_users[i] = primary_ht\n",
    "    except:\n",
    "        pass"
   ]
  },
  {
   "cell_type": "code",
   "execution_count": null,
   "metadata": {},
   "outputs": [],
   "source": [
    "pt_dist"
   ]
  },
  {
   "cell_type": "markdown",
   "metadata": {},
   "source": [
    "### Plot distribution of fit numbers"
   ]
  },
  {
   "cell_type": "code",
   "execution_count": null,
   "metadata": {},
   "outputs": [],
   "source": [
    "sns.boxplot(data = best_fit)"
   ]
  },
  {
   "cell_type": "code",
   "execution_count": null,
   "metadata": {},
   "outputs": [],
   "source": [
    "def find_result_with_params(query, summary):\n",
    "\n",
    "    # function to find, given a set of parameters, the results of that parameter set.\n",
    "\n",
    "    for params, result in summary:\n",
    "        if params == query:\n",
    "            print('Result found. returning...')\n",
    "            return result\n",
    "    print('No result found. Ending. Check query')\n",
    "    return None\n",
    "\n",
    "searched_res = find_result_with_params({\n",
    "   'experimentation_chance': 0.3,\n",
    " 'initial_activity_threshold': 1,\n",
    " 'interact_prob': 0.9,\n",
    " 'interact_prob_multiplier': 1.1,\n",
    " 'interact_threshold': 2,\n",
    " 'model_num': 5,\n",
    " 'peak_delta_init': 5,\n",
    " 'search_hashtag_propensity': 0.2\n",
    "},summary)"
   ]
  },
  {
   "cell_type": "code",
   "execution_count": null,
   "metadata": {},
   "outputs": [],
   "source": [
    "searched_res"
   ]
  },
  {
   "cell_type": "code",
   "execution_count": null,
   "metadata": {},
   "outputs": [],
   "source": [
    "summary"
   ]
  },
  {
   "cell_type": "markdown",
   "metadata": {},
   "source": [
    "### Is there graph saturation?"
   ]
  },
  {
   "cell_type": "code",
   "execution_count": null,
   "metadata": {},
   "outputs": [],
   "source": [
    "len(G)"
   ]
  },
  {
   "cell_type": "code",
   "execution_count": null,
   "metadata": {},
   "outputs": [],
   "source": [
    "[len(c) for c in sorted(nx.connected_components(G.to_undirected()), key=len, reverse=True)][0]\n",
    "\n",
    "# connected component for group 1 is basically the whole graph so nope."
   ]
  },
  {
   "cell_type": "code",
   "execution_count": null,
   "metadata": {},
   "outputs": [],
   "source": [
    "G.nodes['1000012910']"
   ]
  },
  {
   "cell_type": "code",
   "execution_count": null,
   "metadata": {},
   "outputs": [],
   "source": [
    "G.nodes()[list(G.nodes())[0]]"
   ]
  },
  {
   "cell_type": "code",
   "execution_count": null,
   "metadata": {},
   "outputs": [],
   "source": [
    "# drawing the full graph is time consuming and probably not informative. Check out subgraphs.\n",
    "\n",
    "# subgraph by node attribute\n",
    "# create generator\n",
    "nodes = (\n",
    "    node\n",
    "    for node, data\n",
    "    in G.nodes(data=True)\n",
    "    if data.get(\"primary_ht\") == \"niunamenos\" or data.get(\"primary_ht\") == \"noustoutes\" \n",
    ")\n",
    "H = G.subgraph(nodes)"
   ]
  },
  {
   "cell_type": "code",
   "execution_count": null,
   "metadata": {},
   "outputs": [],
   "source": [
    "ancestors = set()\n",
    "for node in tqdm.tqdm(H.nodes()):\n",
    "    ancestors.update(nx.ancestors(G,node))"
   ]
  },
  {
   "cell_type": "code",
   "execution_count": null,
   "metadata": {},
   "outputs": [],
   "source": [
    "len(ancestors)"
   ]
  },
  {
   "cell_type": "code",
   "execution_count": null,
   "metadata": {},
   "outputs": [],
   "source": [
    "# create number for each group to allow use of colormap\n",
    "# get unique groups\n",
    "from itertools import count\n",
    "groups = set(nx.get_node_attributes(H,'primary_ht').values())\n",
    "mapping = dict(zip(sorted(groups),count()))\n",
    "nodes = H.nodes()\n",
    "colors = [mapping[H.nodes[n]['primary_ht']] for n in nodes]\n",
    "\n",
    "# drawing nodes and edges separately so we can capture collection for colobar\n",
    "pos = nx.spring_layout(H)\n",
    "ec = nx.draw_networkx_edges(H, pos, alpha=0.2)\n",
    "nc = nx.draw_networkx_nodes(H, pos, nodelist=nodes, node_color=colors, node_size=100, cmap=plt.cm.jet)\n",
    "plt.colorbar(nc)\n",
    "plt.axis('off')\n",
    "plt.show()"
   ]
  },
  {
   "cell_type": "markdown",
   "metadata": {},
   "source": [
    "### Can we see any network effects? Do we reproduce meso-level leadership/brokerage?"
   ]
  },
  {
   "cell_type": "code",
   "execution_count": null,
   "metadata": {},
   "outputs": [],
   "source": [
    "# to do this, maybe create network from history logging and then we can see if users with high centrality also had high activity? But how to measure more than usual?\n",
    "\n",
    "bc = nx.betweenness_centrality(G)"
   ]
  },
  {
   "cell_type": "code",
   "execution_count": null,
   "metadata": {},
   "outputs": [],
   "source": [
    "max(bc.values())"
   ]
  },
  {
   "cell_type": "markdown",
   "metadata": {},
   "source": [
    "## Directionality: RQ2 on different diffusive directions"
   ]
  },
  {
   "cell_type": "code",
   "execution_count": null,
   "metadata": {},
   "outputs": [],
   "source": [
    "def extract_directions(graph):\n",
    "    output = nx.DiGraph()\n",
    "    for i in tqdm.tqdm(graph.edges(data=True)):\n",
    "        subject_id = G.nodes(data=True)[i[0]]['primary_ht']\n",
    "        object_id  = G.nodes(data=True)[i[1]]['primary_ht']\n",
    "        if output.has_edge(subject_id, object_id):\n",
    "            # we added this one before, just increase the weight by one\n",
    "            output[subject_id][object_id]['weight'] += 1\n",
    "        else:\n",
    "            # new edge. add with weight=1\n",
    "            output.add_edge(subject_id, object_id, weight=1)\n",
    "        # output.add_edge(G.nodes(data=True)[i[0]]['primary_ht'], G.nodes(data=True)[i[1]]['primary_ht'])\n",
    "    return output"
   ]
  },
  {
   "cell_type": "code",
   "execution_count": null,
   "metadata": {},
   "outputs": [],
   "source": [
    "d_graph = extract_directions(G)\n",
    "d_graph.remove_edges_from(nx.selfloop_edges(d_graph))"
   ]
  },
  {
   "cell_type": "code",
   "execution_count": null,
   "metadata": {},
   "outputs": [],
   "source": [
    "search_hashtags"
   ]
  },
  {
   "cell_type": "code",
   "execution_count": null,
   "metadata": {},
   "outputs": [],
   "source": [
    "#define font families to use\n",
    "import matplotlib\n",
    "mono_font = {'fontname':'monospace'}\n",
    "serif_font = {'fontname':'serif'}\n",
    "matplotlib.rcParams['font.family'] = 'monospace'\n",
    "degree_dict = dict(d_graph.out_degree)\n",
    "nx.draw(d_graph, \n",
    "    with_labels=True,\n",
    "    node_size = [v * 100 for v in degree_dict.values()],\n",
    "    pos=nx.spring_layout(d_graph, k=20)\n",
    "    )"
   ]
  },
  {
   "cell_type": "code",
   "execution_count": null,
   "metadata": {},
   "outputs": [],
   "source": [
    "# fixing the size of the figure\n",
    "plt.figure(figsize =(15, 10))\n",
    "  \n",
    "node_color = [d_graph.out_degree(v) for v in d_graph]\n",
    "# node colour is a list of degrees of nodes\n",
    "  \n",
    "# node_size = [0.0005 * nx.get_node_attributes(d_graph, 'population')[v] for v in d_graph]\n",
    "# size of node is a list of population of cities\n",
    "  \n",
    "edge_width = [0.0005 * d_graph[u][v]['weight'] for u, v in d_graph.edges()]\n",
    "# width of edge is a list of weight of edges\n",
    "  \n",
    "nx.draw_networkx(d_graph,\n",
    "                 pos = nx.spring_layout(d_graph, k=20),\n",
    "                 node_color = node_color,\n",
    "                 with_labels = True,\n",
    "                #  width = edge_width,\n",
    "                 node_size = [v * 500 for v in degree_dict.values()],\n",
    "                 cmap = plt.cm.Blues,\n",
    "                 font_size = 20)\n",
    "\n",
    "plt.axis('off')\n",
    "plt.tight_layout();\n",
    "plt.savefig(f'../results/0{group_num}_group/original_graph.png', transparent=True, bbox_inches='tight')"
   ]
  },
  {
   "cell_type": "code",
   "execution_count": null,
   "metadata": {},
   "outputs": [],
   "source": [
    "#compare with history logging\n",
    "with open('/home/hubert/DPhil_Studies/2021-04_Study_A_Diffusion/data/06_reporting/ABM_output_group_2_batch_0_history.obj','rb') as f:\n",
    "    history_edges = pickle.load(f)"
   ]
  },
  {
   "cell_type": "code",
   "execution_count": null,
   "metadata": {},
   "outputs": [],
   "source": [
    "def yield_edge_list(history_edges_list):\n",
    "\n",
    "    for i in history_edges_list:\n",
    "        if i.interact_result:\n",
    "            yield (i.source, i.target)"
   ]
  },
  {
   "cell_type": "code",
   "execution_count": null,
   "metadata": {},
   "outputs": [],
   "source": [
    "history = nx.DiGraph(yield_edge_list(history_edges[0][1]))"
   ]
  },
  {
   "cell_type": "code",
   "execution_count": null,
   "metadata": {},
   "outputs": [],
   "source": [
    "h_graph = extract_directions(history)\n",
    "h_graph.remove_edges_from(nx.selfloop_edges(h_graph))"
   ]
  },
  {
   "cell_type": "code",
   "execution_count": null,
   "metadata": {},
   "outputs": [],
   "source": [
    "# fixing the size of the figure\n",
    "plt.figure(figsize =(15, 10))\n",
    "  \n",
    "node_color = [h_graph.out_degree(v) for v in h_graph]\n",
    "# node colour is a list of degrees of nodes\n",
    "  \n",
    "\n",
    "degree_dict = dict(h_graph.out_degree)\n",
    "# node_size = [0.0005 * nx.get_node_attributes(d_graph, 'population')[v] for v in d_graph]\n",
    "# size of node is a list of population of cities\n",
    "  \n",
    "edge_width = [0.0005 * h_graph[u][v]['weight'] for u, v in h_graph.edges()]\n",
    "# width of edge is a list of weight of edges\n",
    "  \n",
    "nx.draw_networkx(h_graph,\n",
    "                 pos = nx.spring_layout(h_graph, k=20),\n",
    "                 node_color = node_color,\n",
    "                 with_labels = True,\n",
    "                #  width = edge_width,\n",
    "                 node_size = [v * 500 for v in degree_dict.values()],\n",
    "                 cmap = plt.cm.Blues,\n",
    "                 font_size = 20)\n",
    "\n",
    "plt.axis('off')\n",
    "plt.tight_layout();\n",
    "plt.savefig(f'../results/0{group_num}_group/history_graph.png', transparent=True, bbox_inches='tight')"
   ]
  },
  {
   "cell_type": "markdown",
   "metadata": {},
   "source": [
    "## Visualisation: network growing with ABM?"
   ]
  },
  {
   "cell_type": "code",
   "execution_count": null,
   "metadata": {},
   "outputs": [],
   "source": []
  },
  {
   "cell_type": "markdown",
   "metadata": {},
   "source": [
    "## Tell a story. How did these networks develop? Were particular agents more improtant and in what languages?"
   ]
  },
  {
   "cell_type": "code",
   "execution_count": null,
   "metadata": {},
   "outputs": [],
   "source": []
  },
  {
   "cell_type": "markdown",
   "metadata": {},
   "source": [
    "# To examine on specific paramter combination"
   ]
  },
  {
   "cell_type": "code",
   "execution_count": null,
   "metadata": {},
   "outputs": [],
   "source": [
    "group_num = 3\n",
    "results_file = '/home/hubert/DPhil_Studies/2021-04_Study_A_Diffusion/data/06_reporting/ABM_output_group_2.obj'\n",
    "\n",
    "activity_file = '/home/hubert/DPhil_Studies/2021-04_Study_A_Diffusion/data/03_processed/activity_counts.hdf5'\n",
    "\n",
    "peak_analysis_file = '/home/hubert/DPhil_Studies/2021-04_Study_A_Diffusion/data/02_intermediate/FAS_peak_analysis.hdf5'\n",
    "\n",
    "most_prominent_peaks, group_date_range, daterange_length = group_peaks_and_daterange(peak_analysis_file, group_num)\n",
    "\n",
    "with open(results_file, 'rb') as f:\n",
    "    raw_results = pickle.load(f)"
   ]
  },
  {
   "cell_type": "code",
   "execution_count": null,
   "metadata": {},
   "outputs": [],
   "source": [
    "group_date_range"
   ]
  },
  {
   "cell_type": "markdown",
   "metadata": {},
   "source": [
    "each entry is a tuple of the configurations given and the abm result."
   ]
  },
  {
   "cell_type": "code",
   "execution_count": null,
   "metadata": {},
   "outputs": [],
   "source": [
    "raw_results[0]"
   ]
  },
  {
   "cell_type": "code",
   "execution_count": null,
   "metadata": {},
   "outputs": [],
   "source": [
    "def print_abm_results(agents_dict, model_num=None):\n",
    "\n",
    "    output_dict={}\n",
    "\n",
    "    total = len(agents_dict)\n",
    "    # num_supporting = 0\n",
    "    # num_not_supporting = 0\n",
    "\n",
    "    for user_id, agent in agents_dict.items():\n",
    "        output_dict[user_id] = agent.supporting_metoo_dict\n",
    "\n",
    "    output_df = pd.DataFrame.from_dict(output_dict, orient='index').reset_index()\n",
    "\n",
    "    num_supporting = output_df.iloc[:,1:].sum(axis=0)\n",
    "    num_supporting = num_supporting[num_supporting>0]\n",
    "    num_not_supporting = (output_df==False).sum(axis=0)\n",
    "\n",
    "    # print(num_supporting)\n",
    "    # print(num_not_supporting)\n",
    "    return output_df\n",
    "\n",
    "\n",
    "def reference_results(activity_file, agents, group_num):\n",
    "    act_val = {}\n",
    "    for user_id, agent in agents.items():\n",
    "        # obtain user activity\n",
    "        act_val[user_id] = {}\n",
    "        with h5py.File(activity_file, 'r') as f:\n",
    "            activity = f[f'group_{group_num}'][user_id]['hashtagged'][:]\n",
    "            feature_order = f[f'group_{group_num}'][user_id]['hashtagged'].attrs['feature_order']\n",
    "            feature_order = feature_order.split(';')\n",
    "            # act_val[user_id] = np.sum(activity[:,-int(daterange_length/2):])\n",
    "\n",
    "            for hashtag_in_period in most_prominent_peaks:\n",
    "                hashtag_in_period_index = feature_order.index(hashtag_in_period)\n",
    "\n",
    "                # obtain the index offset from the detected peak of the hashtag to collect initial time window.\n",
    "                peak_index_index = (datetime.datetime.strptime(group_date_range.end, '%Y-%m-%d')-most_prominent_peaks[hashtag_in_period]).days\n",
    "                # offset_index -= peak_delta_init\n",
    "                # offset_index = max(0,offset_index)+1\n",
    "                # print(f'Offset for {hashtag_in_period} is {offset_index}')\n",
    "\n",
    "                act_val[user_id][hashtag_in_period_index]= np.sum(activity[hashtag_in_period_index,-peak_index_index-1:])\n",
    "\n",
    "    act_val = pd.DataFrame.from_dict(act_val, orient='index').reset_index()\n",
    "    act_val.columns = ['user_id'] + list(most_prominent_peaks.keys())\n",
    "\n",
    "    return act_val\n"
   ]
  },
  {
   "cell_type": "code",
   "execution_count": null,
   "metadata": {},
   "outputs": [],
   "source": [
    "act_val = reference_results(activity_file, raw_results[param_grid_num][1], group_num)\n",
    "act = (act_val.iloc[:,1:]>2).sum(axis=0).to_frame().reset_index()\n",
    "act.columns = ['index', 'actual']"
   ]
  },
  {
   "cell_type": "code",
   "execution_count": null,
   "metadata": {},
   "outputs": [],
   "source": [
    "param_grid_num = 5"
   ]
  },
  {
   "cell_type": "code",
   "execution_count": null,
   "metadata": {},
   "outputs": [],
   "source": [
    "raw_results[param_grid_num][0]"
   ]
  },
  {
   "cell_type": "code",
   "execution_count": null,
   "metadata": {},
   "outputs": [],
   "source": [
    "res = print_abm_results(raw_results[param_grid_num][1],raw_results[param_grid_num][0]['model_num'])\n",
    "num_supporting = res.iloc[:,1:].sum(axis=0)\n",
    "num_supporting = num_supporting[num_supporting>0]\n",
    "num_supporting = num_supporting.to_frame().reset_index()\n",
    "num_supporting.columns = ['index', 'abm']"
   ]
  },
  {
   "cell_type": "code",
   "execution_count": null,
   "metadata": {},
   "outputs": [],
   "source": [
    "comparison = act.merge(num_supporting, on='index', how='right').fillna(0)\n",
    "comparison"
   ]
  },
  {
   "cell_type": "markdown",
   "metadata": {},
   "source": [
    "# Plotting simulations"
   ]
  },
  {
   "cell_type": "code",
   "execution_count": null,
   "metadata": {},
   "outputs": [],
   "source": [
    "for user in list(raw_results[param_grid_num][1].keys()):\n",
    "    user_to_examine = raw_results[param_grid_num][1][user]\n",
    "    if user_to_examine.support_tracker.sum() > 0:\n",
    "        break"
   ]
  },
  {
   "cell_type": "code",
   "execution_count": null,
   "metadata": {},
   "outputs": [],
   "source": [
    "user_to_examine.probability_matrix\n"
   ]
  },
  {
   "cell_type": "code",
   "execution_count": null,
   "metadata": {},
   "outputs": [],
   "source": [
    "user_to_examine = raw_results[param_grid_num][1][list(raw_results[param_grid_num][1].keys())[0]]\n",
    "# usertype = 'low'\n",
    "\n",
    "class daterange(NamedTuple):\n",
    "    start: str\n",
    "    end: str\n",
    "\n",
    "# obtain user activity\n",
    "with h5py.File(activity_file, 'r') as f:\n",
    "    activity = f[f'group_{group_num}'][user_to_examine]['hashtagged'][:]\n",
    "    feature_order = f[f'group_{group_num}'][user_to_examine]['hashtagged'].attrs['feature_order']\n",
    "    feature_order = feature_order.split(';')\n",
    "\n",
    "with h5py.File('/home/hubert/DPhil_Studies/2021-04_Study_A_Diffusion/data/02_intermediate/FAS_peak_analysis.hdf5', 'r') as f:\n",
    "    FAS_peaks = f['peak_detections']\n",
    "    x = f['segments']['selected_ranges'][int(group_num)-1]\n",
    "    group_date_range = daterange(\n",
    "        start = x[0].decode(),\n",
    "        end = x[1].decode()\n",
    "    )\n",
    "\n",
    "\n",
    "daterange = pd.date_range(start=group_date_range.start, end=group_date_range.end)\n",
    "if group_num == 1:\n",
    "    daterange = pd.date_range(start=group_date_range.start, end='2018-05-30')\n",
    "\n",
    "plot_user_df = pd.DataFrame({\n",
    "    'created_at' : daterange})\n",
    "\n",
    "for index, feature in enumerate(feature_order):\n",
    "    plot_user_df[f'activity_{feature}'] = activity[index,:]\n",
    "\n",
    "plot_user_df=pd.wide_to_long(plot_user_df, stubnames='activity', i='created_at', j='ht', sep = '_', suffix='.*').reset_index()\n",
    "\n",
    "user_df = df[df['author_id']==user_to_examine]\n",
    "user_df = user_df.groupby(['created_at', 'ht']).count()['tweet_id'].reset_index()\n",
    "user_df['created_at'] = pd.to_datetime(user_df['created_at'])\n",
    "final_user_plot_df = user_df.merge(plot_user_df, on = ['created_at','ht'], how='left')\n",
    "final_user_plot_df.columns = ['created_at', 'Hashtag', 'Interaction Count', 'Hashtag Protest Network Activity']\n",
    "\n",
    "# final_user_plot_df['interaction_count'] = final_user_plot_df['activity']-final_user_plot_df['tweet_id']\n",
    "# final_user_plot_df = final_user_plot_df.drop(['tweet_id'])\n",
    "\n",
    "df[df['author_id']==user_to_examine]\n",
    "\n",
    "temp = df.groupby(['author_id','ht']).count().reset_index()\n",
    "temp = temp[['author_id', 'ht']].groupby('author_id').count()\n",
    "temp[temp['ht']>1]\n",
    "\n",
    "pd.melt(final_user_plot_df, ['created_at','Hashtag'])\n",
    "\n",
    "fig = plt.figure(figsize = (16,9))\n",
    "\n",
    "# Draw line plot of size and total_bill with parameters and hue \"day\"\n",
    "sns.lineplot(\n",
    "    x = \"created_at\", y = \"value\", hue='variable',data=pd.melt(final_user_plot_df, ['created_at','Hashtag']))\n",
    "plt.title(\"Interactions per day per hashtag\", fontsize = 20)\n",
    "plt.xlabel(\"Date\", fontsize = 15)\n",
    "plt.ylabel(\"Interactions\", fontsize = 15)\n",
    "plt.savefig(f'{plot_save_path}user_{usertype}_output_{group_num}.png')\n",
    "plt.show();"
   ]
  }
 ],
 "metadata": {
  "interpreter": {
   "hash": "36cf16204b8548560b1c020c4e8fb5b57f0e4c58016f52f2d4be01e192833930"
  },
  "kernelspec": {
   "display_name": "Python 3.9.13 64-bit",
   "language": "python",
   "name": "python3"
  },
  "language_info": {
   "codemirror_mode": {
    "name": "ipython",
    "version": 3
   },
   "file_extension": ".py",
   "mimetype": "text/x-python",
   "name": "python",
   "nbconvert_exporter": "python",
   "pygments_lexer": "ipython3",
   "version": "3.9.13"
  },
  "orig_nbformat": 4
 },
 "nbformat": 4,
 "nbformat_minor": 2
}

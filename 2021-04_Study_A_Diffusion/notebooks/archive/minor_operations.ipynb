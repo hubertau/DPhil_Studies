{
 "cells": [
  {
   "cell_type": "code",
   "execution_count": 41,
   "metadata": {},
   "outputs": [],
   "source": [
    "import h5py\n",
    "import pickle\n",
    "import numpy as np\n",
    "import pandas as pd\n",
    "import glob\n",
    "import os\n",
    "import datetime"
   ]
  },
  {
   "cell_type": "markdown",
   "metadata": {},
   "source": [
    "## 2021-11-21 Writing FAS info to h5py file"
   ]
  },
  {
   "cell_type": "code",
   "execution_count": 29,
   "metadata": {},
   "outputs": [],
   "source": [
    "data_path = '/home/hubert/DPhil_Studies/2021-04_Study_A_Diffusion/data/02_intermediate'\n",
    "FAS_peak_detections_file = '/home/hubert/DPhil_Studies/2021-04_Study_A_Diffusion/data/02_intermediate/FAS_peak_detections.obj'\n",
    "FAS_plot_data_padded_file = '/home/hubert/DPhil_Studies/2021-04_Study_A_Diffusion/data/02_intermediate/FAS_plot_data_padded.obj'\n",
    "FAS_plot_data_file = '/home/hubert/DPhil_Studies/2021-04_Study_A_Diffusion/data/02_intermediate/FAS_plot_data.obj'\n",
    "FAS_prominences_file = '/home/hubert/DPhil_Studies/2021-04_Study_A_Diffusion/data/02_intermediate/FAS_prominences.obj'\n",
    "FAS_ranges_file = '/home/hubert/DPhil_Studies/2021-04_Study_A_Diffusion/data/02_intermediate/FAS_ranges.obj'\n",
    "FAS_selected_date_ranges_file = '/home/hubert/DPhil_Studies/2021-04_Study_A_Diffusion/data/02_intermediate/FAS_selected_date_ranges.obj'\n",
    "\n",
    "FAS_h5py_file = os.path.join(data_path, 'FAS_peak_analysis.hdf5')\n"
   ]
  },
  {
   "cell_type": "code",
   "execution_count": 9,
   "metadata": {},
   "outputs": [],
   "source": [
    "with open(FAS_peak_detections_file, 'rb') as f:\n",
    "    FAS_peak_detections = pickle.load(f)"
   ]
  },
  {
   "cell_type": "code",
   "execution_count": 18,
   "metadata": {},
   "outputs": [],
   "source": [
    "with h5py.File(FAS_h5py_file, 'a') as f:\n",
    "    g = f.create_group('peak_detections')\n",
    "    for entry in FAS_peak_detections:\n",
    "        h = g.create_group(entry[0])\n",
    "        d = h.create_dataset('peak_locations', data=entry[1])\n",
    "        dd = h.create_dataset('peak_heights', data=entry[2]['peak_heights'])\n",
    "        ddd = h.create_dataset('prominences', data=entry[2]['prominences'])\n",
    "        dddd = h.create_dataset('left_bases', data=entry[2]['left_bases'])\n",
    "        ddddd = h.create_dataset('right_bases', data=entry[2]['right_bases'])"
   ]
  },
  {
   "cell_type": "code",
   "execution_count": 20,
   "metadata": {},
   "outputs": [],
   "source": [
    "with open(FAS_plot_data_file, 'rb') as f:\n",
    "    FAS_plot_data = pickle.load(f)"
   ]
  },
  {
   "cell_type": "code",
   "execution_count": 22,
   "metadata": {},
   "outputs": [],
   "source": [
    "with open(FAS_plot_data_padded_file, 'rb') as f:\n",
    "    FAS_plot_data_padded = pickle.load(f)"
   ]
  },
  {
   "cell_type": "code",
   "execution_count": 25,
   "metadata": {},
   "outputs": [],
   "source": [
    "FAS_plot_data_padded.to_hdf(FAS_h5py_file, 'plot_data')"
   ]
  },
  {
   "cell_type": "code",
   "execution_count": 27,
   "metadata": {},
   "outputs": [],
   "source": [
    "with open(FAS_prominences_file, 'rb') as f:\n",
    "    FAS_prominences = pickle.load(f)"
   ]
  },
  {
   "cell_type": "code",
   "execution_count": 28,
   "metadata": {},
   "outputs": [
    {
     "data": {
      "text/plain": [
       "[459.18518518518516,\n",
       " 2637.779487179487,\n",
       " 48.57142857142857,\n",
       " 271.76,\n",
       " 1692.6190476190477,\n",
       " 293.9761904761905,\n",
       " 295.73809523809524,\n",
       " 2425.0714285714284,\n",
       " 793.5952380952381,\n",
       " 670.0714285714286]"
      ]
     },
     "execution_count": 28,
     "metadata": {},
     "output_type": "execute_result"
    }
   ],
   "source": [
    "FAS_prominences"
   ]
  },
  {
   "cell_type": "code",
   "execution_count": 30,
   "metadata": {},
   "outputs": [],
   "source": [
    "with open(FAS_selected_date_ranges_file, 'rb') as f:\n",
    "    FAS_selected_date_ranges = pickle.load(f)"
   ]
  },
  {
   "cell_type": "code",
   "execution_count": 32,
   "metadata": {},
   "outputs": [
    {
     "data": {
      "text/plain": [
       "[(datetime.datetime(2017, 11, 15, 0, 0), datetime.datetime(2018, 5, 29, 0, 0)),\n",
       " (datetime.datetime(2018, 11, 21, 0, 0), datetime.datetime(2019, 1, 2, 0, 0)),\n",
       " (datetime.datetime(2020, 2, 3, 0, 0), datetime.datetime(2020, 3, 16, 0, 0))]"
      ]
     },
     "execution_count": 32,
     "metadata": {},
     "output_type": "execute_result"
    }
   ],
   "source": [
    "FAS_selected_date_ranges"
   ]
  },
  {
   "cell_type": "code",
   "execution_count": 43,
   "metadata": {},
   "outputs": [],
   "source": [
    "FAS_selected_date_ranges = [\n",
    "    (datetime.datetime.strftime(i[0], '%Y-%m-%d'),datetime.datetime.strftime(i[1], '%Y-%m-%d')) for i in FAS_selected_date_ranges\n",
    "]"
   ]
  },
  {
   "cell_type": "code",
   "execution_count": 44,
   "metadata": {},
   "outputs": [
    {
     "data": {
      "text/plain": [
       "[('2017-11-15', '2018-05-29'),\n",
       " ('2018-11-21', '2019-01-02'),\n",
       " ('2020-02-03', '2020-03-16')]"
      ]
     },
     "execution_count": 44,
     "metadata": {},
     "output_type": "execute_result"
    }
   ],
   "source": [
    "FAS_selected_date_ranges"
   ]
  },
  {
   "cell_type": "code",
   "execution_count": 31,
   "metadata": {},
   "outputs": [],
   "source": [
    "with open(FAS_ranges_file, 'rb') as f:\n",
    "    FAS_ranges = pickle.load(f)"
   ]
  },
  {
   "cell_type": "code",
   "execution_count": 38,
   "metadata": {},
   "outputs": [
    {
     "name": "stdout",
     "output_type": "stream",
     "text": [
      "(datetime.datetime(2017, 11, 15, 0, 0), datetime.datetime(2018, 5, 29, 0, 0))\n",
      "(datetime.datetime(2018, 11, 21, 0, 0), datetime.datetime(2019, 1, 2, 0, 0))\n",
      "(datetime.datetime(2020, 2, 3, 0, 0), datetime.datetime(2020, 3, 16, 0, 0))\n"
     ]
    }
   ],
   "source": [
    "print(FAS_ranges[1])\n",
    "print(FAS_ranges[4])\n",
    "print(FAS_ranges[7])"
   ]
  },
  {
   "cell_type": "code",
   "execution_count": 45,
   "metadata": {},
   "outputs": [],
   "source": [
    "FAS_ranges = [\n",
    "    (datetime.datetime.strftime(i[0], '%Y-%m-%d'),datetime.datetime.strftime(i[1], '%Y-%m-%d')) for i in FAS_ranges\n",
    "]"
   ]
  },
  {
   "cell_type": "code",
   "execution_count": 46,
   "metadata": {},
   "outputs": [],
   "source": [
    "dt = h5py.special_dtype(vlen=str) \n",
    "FAS_ranges = np.array(FAS_ranges, dtype=dt)\n",
    "FAS_selected_date_ranges = np.array(FAS_selected_date_ranges, dtype=dt)"
   ]
  },
  {
   "cell_type": "code",
   "execution_count": 53,
   "metadata": {},
   "outputs": [],
   "source": [
    "with h5py.File(FAS_h5py_file, 'a') as f:\n",
    "    g = f.require_group('segments')\n",
    "    d = g.create_dataset('prominences', data=FAS_prominences)\n",
    "    dd = g.create_dataset('ranges', data=FAS_ranges)\n",
    "    dd.attrs.update({'selected_indices':'1,4,7'})\n",
    "    ddd = g.create_dataset('selected_ranges', data=FAS_selected_date_ranges)\n",
    "    metadata = {\n",
    "        'description': 'Segments of the full archive search activity, grouped by detected peaks'\n",
    "    }\n",
    "    g.attrs.update(metadata)"
   ]
  },
  {
   "cell_type": "code",
   "execution_count": 54,
   "metadata": {},
   "outputs": [
    {
     "name": "stdout",
     "output_type": "stream",
     "text": [
      "<KeysViewHDF5 ['peak_detections', 'plot_data', 'segments']>\n"
     ]
    }
   ],
   "source": [
    "with h5py.File(FAS_h5py_file, 'r') as f:\n",
    "    print(f.keys())"
   ]
  },
  {
   "cell_type": "code",
   "execution_count": 55,
   "metadata": {},
   "outputs": [],
   "source": [
    "def allkeys(obj):\n",
    "    \"Recursively find all keys in an h5py.Group.\"\n",
    "    keys = (obj.name,)\n",
    "    if isinstance(obj, h5py.Group):\n",
    "        for key, value in obj.items():\n",
    "            if isinstance(value, h5py.Group):\n",
    "                keys = keys + allkeys(value)\n",
    "            else:\n",
    "                keys = keys + (value.name,)\n",
    "    return keys"
   ]
  },
  {
   "cell_type": "code",
   "execution_count": 58,
   "metadata": {},
   "outputs": [],
   "source": [
    "def get_dataset_keys(f):\n",
    "    keys = []\n",
    "    f.visit(lambda key : keys.append(key) if isinstance(f[key], h5py.Dataset) else None)\n",
    "    return keys"
   ]
  },
  {
   "cell_type": "code",
   "execution_count": 62,
   "metadata": {},
   "outputs": [],
   "source": [
    "with h5py.File(FAS_h5py_file, 'r') as f:\n",
    "    x = get_dataset_keys(f)"
   ]
  },
  {
   "cell_type": "code",
   "execution_count": 63,
   "metadata": {},
   "outputs": [],
   "source": [
    "import pprint"
   ]
  },
  {
   "cell_type": "code",
   "execution_count": 64,
   "metadata": {},
   "outputs": [
    {
     "name": "stdout",
     "output_type": "stream",
     "text": [
      "[   'peak_detections/anakaman/left_bases',\n",
      "    'peak_detections/anakaman/peak_heights',\n",
      "    'peak_detections/anakaman/peak_locations',\n",
      "    'peak_detections/anakaman/prominences',\n",
      "    'peak_detections/anakaman/right_bases',\n",
      "    'peak_detections/balancetonporc/left_bases',\n",
      "    'peak_detections/balancetonporc/peak_heights',\n",
      "    'peak_detections/balancetonporc/peak_locations',\n",
      "    'peak_detections/balancetonporc/prominences',\n",
      "    'peak_detections/balancetonporc/right_bases',\n",
      "    'peak_detections/cuentalo/left_bases',\n",
      "    'peak_detections/cuentalo/peak_heights',\n",
      "    'peak_detections/cuentalo/peak_locations',\n",
      "    'peak_detections/cuentalo/prominences',\n",
      "    'peak_detections/cuentalo/right_bases',\n",
      "    'peak_detections/enazeda/left_bases',\n",
      "    'peak_detections/enazeda/peak_heights',\n",
      "    'peak_detections/enazeda/peak_locations',\n",
      "    'peak_detections/enazeda/prominences',\n",
      "    'peak_detections/enazeda/right_bases',\n",
      "    'peak_detections/gamani/left_bases',\n",
      "    'peak_detections/gamani/peak_heights',\n",
      "    'peak_detections/gamani/peak_locations',\n",
      "    'peak_detections/gamani/prominences',\n",
      "    'peak_detections/gamani/right_bases',\n",
      "    'peak_detections/jotambe/left_bases',\n",
      "    'peak_detections/jotambe/peak_heights',\n",
      "    'peak_detections/jotambe/peak_locations',\n",
      "    'peak_detections/jotambe/prominences',\n",
      "    'peak_detections/jotambe/right_bases',\n",
      "    'peak_detections/kutoo/left_bases',\n",
      "    'peak_detections/kutoo/peak_heights',\n",
      "    'peak_detections/kutoo/peak_locations',\n",
      "    'peak_detections/kutoo/prominences',\n",
      "    'peak_detections/kutoo/right_bases',\n",
      "    'peak_detections/memyös/left_bases',\n",
      "    'peak_detections/memyös/peak_heights',\n",
      "    'peak_detections/memyös/peak_locations',\n",
      "    'peak_detections/memyös/prominences',\n",
      "    'peak_detections/memyös/right_bases',\n",
      "    'peak_detections/metoo/left_bases',\n",
      "    'peak_detections/metoo/peak_heights',\n",
      "    'peak_detections/metoo/peak_locations',\n",
      "    'peak_detections/metoo/prominences',\n",
      "    'peak_detections/metoo/right_bases',\n",
      "    'peak_detections/moiaussi/left_bases',\n",
      "    'peak_detections/moiaussi/peak_heights',\n",
      "    'peak_detections/moiaussi/peak_locations',\n",
      "    'peak_detections/moiaussi/prominences',\n",
      "    'peak_detections/moiaussi/right_bases',\n",
      "    'peak_detections/myharveyweinstein/left_bases',\n",
      "    'peak_detections/myharveyweinstein/peak_heights',\n",
      "    'peak_detections/myharveyweinstein/peak_locations',\n",
      "    'peak_detections/myharveyweinstein/prominences',\n",
      "    'peak_detections/myharveyweinstein/right_bases',\n",
      "    'peak_detections/niere/left_bases',\n",
      "    'peak_detections/niere/peak_heights',\n",
      "    'peak_detections/niere/peak_locations',\n",
      "    'peak_detections/niere/prominences',\n",
      "    'peak_detections/niere/right_bases',\n",
      "    'peak_detections/niunamenos/left_bases',\n",
      "    'peak_detections/niunamenos/peak_heights',\n",
      "    'peak_detections/niunamenos/peak_locations',\n",
      "    'peak_detections/niunamenos/prominences',\n",
      "    'peak_detections/niunamenos/right_bases',\n",
      "    'peak_detections/noustoutes/left_bases',\n",
      "    'peak_detections/noustoutes/peak_heights',\n",
      "    'peak_detections/noustoutes/peak_locations',\n",
      "    'peak_detections/noustoutes/prominences',\n",
      "    'peak_detections/noustoutes/right_bases',\n",
      "    'peak_detections/nårdansenstopper/left_bases',\n",
      "    'peak_detections/nårdansenstopper/peak_heights',\n",
      "    'peak_detections/nårdansenstopper/peak_locations',\n",
      "    'peak_detections/nårdansenstopper/prominences',\n",
      "    'peak_detections/nårdansenstopper/right_bases',\n",
      "    'peak_detections/nårmusikkenstilner/left_bases',\n",
      "    'peak_detections/nårmusikkenstilner/peak_heights',\n",
      "    'peak_detections/nårmusikkenstilner/peak_locations',\n",
      "    'peak_detections/nårmusikkenstilner/prominences',\n",
      "    'peak_detections/nårmusikkenstilner/right_bases',\n",
      "    'peak_detections/quellavoltache/left_bases',\n",
      "    'peak_detections/quellavoltache/peak_heights',\n",
      "    'peak_detections/quellavoltache/peak_locations',\n",
      "    'peak_detections/quellavoltache/prominences',\n",
      "    'peak_detections/quellavoltache/right_bases',\n",
      "    'peak_detections/ricebunny/left_bases',\n",
      "    'peak_detections/ricebunny/peak_heights',\n",
      "    'peak_detections/ricebunny/peak_locations',\n",
      "    'peak_detections/ricebunny/prominences',\n",
      "    'peak_detections/ricebunny/right_bases',\n",
      "    'peak_detections/sendeanlat/left_bases',\n",
      "    'peak_detections/sendeanlat/peak_heights',\n",
      "    'peak_detections/sendeanlat/peak_locations',\n",
      "    'peak_detections/sendeanlat/prominences',\n",
      "    'peak_detections/sendeanlat/right_bases',\n",
      "    'peak_detections/stilleforopptak/left_bases',\n",
      "    'peak_detections/stilleforopptak/peak_heights',\n",
      "    'peak_detections/stilleforopptak/peak_locations',\n",
      "    'peak_detections/stilleforopptak/prominences',\n",
      "    'peak_detections/stilleforopptak/right_bases',\n",
      "    'peak_detections/timesup/left_bases',\n",
      "    'peak_detections/timesup/peak_heights',\n",
      "    'peak_detections/timesup/peak_locations',\n",
      "    'peak_detections/timesup/prominences',\n",
      "    'peak_detections/timesup/right_bases',\n",
      "    'peak_detections/tôicũngvậy/left_bases',\n",
      "    'peak_detections/tôicũngvậy/peak_heights',\n",
      "    'peak_detections/tôicũngvậy/peak_locations',\n",
      "    'peak_detections/tôicũngvậy/prominences',\n",
      "    'peak_detections/tôicũngvậy/right_bases',\n",
      "    'peak_detections/watashimo/left_bases',\n",
      "    'peak_detections/watashimo/peak_heights',\n",
      "    'peak_detections/watashimo/peak_locations',\n",
      "    'peak_detections/watashimo/prominences',\n",
      "    'peak_detections/watashimo/right_bases',\n",
      "    'peak_detections/wetoo/left_bases',\n",
      "    'peak_detections/wetoo/peak_heights',\n",
      "    'peak_detections/wetoo/peak_locations',\n",
      "    'peak_detections/wetoo/prominences',\n",
      "    'peak_detections/wetoo/right_bases',\n",
      "    'peak_detections/withyou/left_bases',\n",
      "    'peak_detections/withyou/peak_heights',\n",
      "    'peak_detections/withyou/peak_locations',\n",
      "    'peak_detections/withyou/prominences',\n",
      "    'peak_detections/withyou/right_bases',\n",
      "    'peak_detections/woyeshi/left_bases',\n",
      "    'peak_detections/woyeshi/peak_heights',\n",
      "    'peak_detections/woyeshi/peak_locations',\n",
      "    'peak_detections/woyeshi/prominences',\n",
      "    'peak_detections/woyeshi/right_bases',\n",
      "    'peak_detections/yotambien/left_bases',\n",
      "    'peak_detections/yotambien/peak_heights',\n",
      "    'peak_detections/yotambien/peak_locations',\n",
      "    'peak_detections/yotambien/prominences',\n",
      "    'peak_detections/yotambien/right_bases',\n",
      "    'peak_detections/ятоже/left_bases',\n",
      "    'peak_detections/ятоже/peak_heights',\n",
      "    'peak_detections/ятоже/peak_locations',\n",
      "    'peak_detections/ятоже/prominences',\n",
      "    'peak_detections/ятоже/right_bases',\n",
      "    'peak_detections/גםאנחנו/left_bases',\n",
      "    'peak_detections/גםאנחנו/peak_heights',\n",
      "    'peak_detections/גםאנחנו/peak_locations',\n",
      "    'peak_detections/גםאנחנו/prominences',\n",
      "    'peak_detections/גםאנחנו/right_bases',\n",
      "    'peak_detections/نه_یعنی_نه/left_bases',\n",
      "    'peak_detections/نه_یعنی_نه/peak_heights',\n",
      "    'peak_detections/نه_یعنی_نه/peak_locations',\n",
      "    'peak_detections/نه_یعنی_نه/prominences',\n",
      "    'peak_detections/نه_یعنی_نه/right_bases',\n",
      "    'peak_detections/وأنا كمان/left_bases',\n",
      "    'peak_detections/وأنا كمان/peak_heights',\n",
      "    'peak_detections/وأنا كمان/peak_locations',\n",
      "    'peak_detections/وأنا كمان/prominences',\n",
      "    'peak_detections/وأنا كمان/right_bases',\n",
      "    'peak_detections/我也是/left_bases',\n",
      "    'peak_detections/我也是/peak_heights',\n",
      "    'peak_detections/我也是/peak_locations',\n",
      "    'peak_detections/我也是/prominences',\n",
      "    'peak_detections/我也是/right_bases',\n",
      "    'peak_detections/私も/left_bases',\n",
      "    'peak_detections/私も/peak_heights',\n",
      "    'peak_detections/私も/peak_locations',\n",
      "    'peak_detections/私も/prominences',\n",
      "    'peak_detections/私も/right_bases',\n",
      "    'peak_detections/米兔/left_bases',\n",
      "    'peak_detections/米兔/peak_heights',\n",
      "    'peak_detections/米兔/peak_locations',\n",
      "    'peak_detections/米兔/prominences',\n",
      "    'peak_detections/米兔/right_bases',\n",
      "    'peak_detections/나도/left_bases',\n",
      "    'peak_detections/나도/peak_heights',\n",
      "    'peak_detections/나도/peak_locations',\n",
      "    'peak_detections/나도/prominences',\n",
      "    'peak_detections/나도/right_bases',\n",
      "    'peak_detections/나도당했다/left_bases',\n",
      "    'peak_detections/나도당했다/peak_heights',\n",
      "    'peak_detections/나도당했다/peak_locations',\n",
      "    'peak_detections/나도당했다/prominences',\n",
      "    'peak_detections/나도당했다/right_bases',\n",
      "    'plot_data/axis0',\n",
      "    'plot_data/axis1',\n",
      "    'plot_data/block0_items',\n",
      "    'plot_data/block0_values',\n",
      "    'plot_data/block1_items',\n",
      "    'plot_data/block1_values',\n",
      "    'plot_data/block2_items',\n",
      "    'plot_data/block2_values',\n",
      "    'segments/prominences',\n",
      "    'segments/ranges',\n",
      "    'segments/selected_ranges']\n"
     ]
    }
   ],
   "source": [
    "pp = pprint.PrettyPrinter(indent=4)\n",
    "pp.pprint(x)"
   ]
  },
  {
   "cell_type": "markdown",
   "metadata": {},
   "source": [
    "## 2021-11-21 Writing timeline completeness material to h5py file"
   ]
  },
  {
   "cell_type": "code",
   "execution_count": 71,
   "metadata": {},
   "outputs": [],
   "source": [
    "timeline_completeness_file = '/home/hubert/DPhil_Studies/2021-04_Study_A_Diffusion/data/02_intermediate/timeline_completeness.obj'"
   ]
  },
  {
   "cell_type": "code",
   "execution_count": 72,
   "metadata": {},
   "outputs": [],
   "source": [
    "with open(timeline_completeness_file, 'rb') as f:\n",
    "    timeline_completeness = pickle.load(f)"
   ]
  },
  {
   "cell_type": "code",
   "execution_count": 74,
   "metadata": {},
   "outputs": [],
   "source": [
    "import re\n",
    "def converter(input_tuple):\n",
    "    x, y = input_tuple\n",
    "    x = re.split('[_.]',x)[-2]\n",
    "    y = datetime.datetime.isoformat(y)\n",
    "    return x,y"
   ]
  },
  {
   "cell_type": "code",
   "execution_count": 76,
   "metadata": {},
   "outputs": [],
   "source": [
    "with h5py.File(f'/home/hubert/DPhil_Studies/2021-04_Study_A_Diffusion/data/02_intermediate/timeline_completeness.hdf5','w') as f:\n",
    "    g = f.create_group('group_1')\n",
    "    for pair in timeline_completeness:\n",
    "        pair = converter(pair)\n",
    "        g.create_dataset(pair[0], data=pair[1])"
   ]
  },
  {
   "cell_type": "code",
   "execution_count": null,
   "metadata": {},
   "outputs": [],
   "source": []
  }
 ],
 "metadata": {
  "interpreter": {
   "hash": "36cf16204b8548560b1c020c4e8fb5b57f0e4c58016f52f2d4be01e192833930"
  },
  "kernelspec": {
   "display_name": "Python 3.9.7 64-bit",
   "language": "python",
   "name": "python3"
  },
  "language_info": {
   "codemirror_mode": {
    "name": "ipython",
    "version": 3
   },
   "file_extension": ".py",
   "mimetype": "text/x-python",
   "name": "python",
   "nbconvert_exporter": "python",
   "pygments_lexer": "ipython3",
   "version": "3.9.7"
  },
  "orig_nbformat": 4
 },
 "nbformat": 4,
 "nbformat_minor": 2
}

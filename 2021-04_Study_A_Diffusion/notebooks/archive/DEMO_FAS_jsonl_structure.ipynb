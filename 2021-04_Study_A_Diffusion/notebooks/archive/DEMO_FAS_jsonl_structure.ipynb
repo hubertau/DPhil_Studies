{
 "cells": [
  {
   "cell_type": "markdown",
   "metadata": {},
   "source": [
    "# Small Demo for FAS jsonl File Structure from Twarc\n",
    "\n",
    "This is just a short ipynb to record what the structure of a retrieved jsonl object is from twarc.\n",
    "\n",
    "First print the the dict structure of a jsonl object."
   ]
  },
  {
   "cell_type": "code",
   "execution_count": 2,
   "metadata": {},
   "outputs": [
    {
     "name": "stdout",
     "output_type": "stream",
     "text": [
      "data (list)\n",
      "includes (dict)\n",
      "  users (list)\n",
      "  tweets (list)\n",
      "  media (list)\n",
      "errors (list)\n",
      "meta (dict)\n",
      "  newest_id (str)\n",
      "  oldest_id (str)\n",
      "  result_count (int)\n",
      "  next_token (str)\n",
      "__twarc (dict)\n",
      "  url (str)\n",
      "  version (str)\n",
      "  retrieved_at (str)\n"
     ]
    }
   ],
   "source": [
    "import jsonlines\n",
    "import glob\n",
    "\n",
    "path = '../../data/01_raw/01_group'\n",
    "user_jsonl_file = glob.glob(path+'/timeline*.jsonl')[0]\n",
    "\n",
    "def print_keys(dic, shift = 0):\n",
    "    for key, value in dic.items():\n",
    "        typ = str(type(value)).split('\\'')[-2]\n",
    "        print(' '*shift + key + ' ('+ typ +')')\n",
    "        if isinstance(value, dict):\n",
    "            shift += 2\n",
    "            print_keys(value, shift=shift)\n",
    "            shift -= 2\n",
    "\n",
    "with jsonlines.open(user_jsonl_file) as reader:\n",
    "    for tweet_jsonl in reader:\n",
    "        print_keys(tweet_jsonl)\n",
    "        break"
   ]
  },
  {
   "cell_type": "code",
   "execution_count": 19,
   "metadata": {},
   "outputs": [
    {
     "name": "stderr",
     "output_type": "stream",
     "text": [
      "  0%|          | 0/1 [00:00<?, ?it/s]"
     ]
    },
    {
     "name": "stdout",
     "output_type": "stream",
     "text": [
      "{'public_metrics': {'retweet_count': 2, 'reply_count': 3, 'like_count': 8, 'quote_count': 1}, 'entities': {'urls': [{'start': 21, 'end': 44, 'url': 'https://t.co/AVCcVeOfde', 'expanded_url': 'https://twitter.com/denverpost/status/987411881588600833', 'display_url': 'twitter.com/denverpost/sta…'}]}, 'source': 'Twitter for Android', 'reply_settings': 'everyone', 'possibly_sensitive': True, 'author_id': '2740546270', 'created_at': '2018-04-20T20:02:19.000Z', 'lang': 'en', 'id': '987421222517473281', 'conversation_id': '987421222517473281', 'referenced_tweets': [{'type': 'quoted', 'id': '987411881588600833'}], 'text': 'What. Fresh. Hell. 😡 https://t.co/AVCcVeOfde'}\n",
      "{'entities': {'annotations': [{'start': 28, 'end': 31, 'probability': 0.6068, 'type': 'Organization', 'normalized_text': 'dems'}, {'start': 52, 'end': 62, 'probability': 0.9489, 'type': 'Organization', 'normalized_text': 'REPUBLICANS'}, {'start': 115, 'end': 123, 'probability': 0.5963, 'type': 'Person', 'normalized_text': 'Americans'}], 'urls': [{'start': 121, 'end': 144, 'url': 'https://t.co/aHuUZsyoKq', 'expanded_url': 'https://twitter.com/frankthorp/status/976500022056574982', 'display_url': 'twitter.com/frankthorp/sta…'}]}, 'source': 'Twitter for Android', 'created_at': '2018-03-22T15:42:11.000Z', 'referenced_tweets': [{'type': 'quoted', 'id': '976500022056574982'}], 'lang': 'en', 'reply_settings': 'everyone', 'public_metrics': {'retweet_count': 5, 'reply_count': 2, 'like_count': 25, 'quote_count': 0}, 'conversation_id': '976846509542080512', 'possibly_sensitive': False, 'id': '976846509542080512', 'author_id': '2740546270', 'text': \"😆😆😆😆😆\\nHe's mad because dems won't fix the mess REPUBLICANS made to pay for their corporate tax cuts and screw Americans! https://t.co/aHuUZsyoKq\"}\n",
      "{'conversation_id': '966757559125331969', 'possibly_sensitive': False, 'id': '966757559125331969', 'entities': {'urls': [{'start': 13, 'end': 36, 'url': 'https://t.co/1Ncpj7intl', 'expanded_url': 'https://twitter.com/sahilkapur/status/966756161717526528', 'display_url': 'twitter.com/sahilkapur/sta…'}], 'mentions': [{'start': 0, 'end': 12, 'username': 'BetoORourke', 'id': '342863309'}]}, 'context_annotations': [{'domain': {'id': '10', 'name': 'Person', 'description': 'Named people in the world like Nelson Mandela'}, 'entity': {'id': '10037721448', 'name': 'Ted Cruz', 'description': 'US Senator Ted Cruz (TX)\\n'}}, {'domain': {'id': '35', 'name': 'Politician', 'description': 'Politicians in the world, like Joe Biden'}, 'entity': {'id': '10037721448', 'name': 'Ted Cruz', 'description': 'US Senator Ted Cruz (TX)\\n'}}], 'created_at': '2018-02-22T19:32:18.000Z', 'author_id': '2740546270', 'in_reply_to_user_id': '342863309', 'public_metrics': {'retweet_count': 0, 'reply_count': 0, 'like_count': 1, 'quote_count': 0}, 'lang': 'und', 'reply_settings': 'everyone', 'source': 'Twitter for Android', 'referenced_tweets': [{'type': 'quoted', 'id': '966756161717526528'}], 'text': '@BetoORourke https://t.co/1Ncpj7intl'}\n"
     ]
    },
    {
     "name": "stderr",
     "output_type": "stream",
     "text": [
      "  0%|          | 0/1 [00:00<?, ?it/s]\n"
     ]
    },
    {
     "ename": "KeyError",
     "evalue": "'referenced_tweets'",
     "output_type": "error",
     "traceback": [
      "\u001b[0;31m---------------------------------------------------------------------------\u001b[0m",
      "\u001b[0;31mKeyError\u001b[0m                                  Traceback (most recent call last)",
      "\u001b[0;32m/tmp/ipykernel_1524517/871461323.py\u001b[0m in \u001b[0;36m<module>\u001b[0;34m\u001b[0m\n\u001b[1;32m      9\u001b[0m             \u001b[0;31m# print(line['includes']['users'][0]['profile_image_url'])\u001b[0m\u001b[0;34m\u001b[0m\u001b[0;34m\u001b[0m\u001b[0m\n\u001b[1;32m     10\u001b[0m             \u001b[0;32mfor\u001b[0m \u001b[0mx\u001b[0m \u001b[0;32min\u001b[0m \u001b[0mline\u001b[0m\u001b[0;34m[\u001b[0m\u001b[0;34m'data'\u001b[0m\u001b[0;34m]\u001b[0m\u001b[0;34m:\u001b[0m\u001b[0;34m\u001b[0m\u001b[0;34m\u001b[0m\u001b[0m\n\u001b[0;32m---> 11\u001b[0;31m                 \u001b[0;32mif\u001b[0m \u001b[0mx\u001b[0m\u001b[0;34m[\u001b[0m\u001b[0;34m'referenced_tweets'\u001b[0m\u001b[0;34m]\u001b[0m\u001b[0;34m[\u001b[0m\u001b[0;36m0\u001b[0m\u001b[0;34m]\u001b[0m\u001b[0;34m[\u001b[0m\u001b[0;34m'type'\u001b[0m\u001b[0;34m]\u001b[0m \u001b[0;34m==\u001b[0m \u001b[0;34m'quoted'\u001b[0m\u001b[0;34m:\u001b[0m\u001b[0;34m\u001b[0m\u001b[0;34m\u001b[0m\u001b[0m\n\u001b[0m\u001b[1;32m     12\u001b[0m                     \u001b[0mprint\u001b[0m\u001b[0;34m(\u001b[0m\u001b[0mx\u001b[0m\u001b[0;34m)\u001b[0m\u001b[0;34m\u001b[0m\u001b[0;34m\u001b[0m\u001b[0m\n\u001b[1;32m     13\u001b[0m                     \u001b[0;31m# print(x['referenced_tweets'][0])\u001b[0m\u001b[0;34m\u001b[0m\u001b[0;34m\u001b[0m\u001b[0m\n",
      "\u001b[0;31mKeyError\u001b[0m: 'referenced_tweets'"
     ]
    }
   ],
   "source": [
    "# for m3inference\n",
    "import re\n",
    "import tqdm\n",
    "for i in tqdm.tqdm(glob.glob(path+'/timeline*.jsonl')[:1]):\n",
    "    current_user = re.split('[_.]', i)[-2]\n",
    "    with jsonlines.open(i, 'r') as f:\n",
    "        for line in f:\n",
    "            # # user_in_file = line['includes']['users'][0]['id']\n",
    "            # print(line['includes']['users'][0]['profile_image_url'])\n",
    "            for x in line['data']:\n",
    "                if x['referenced_tweets'][0]['type'] == 'quoted':\n",
    "                    print(x)\n",
    "                    # print(x['referenced_tweets'][0])\n",
    "                break\n",
    "\n",
    "    # if current_user!=user_in_file:\n",
    "        # print(current_user, user_in_file)"
   ]
  },
  {
   "cell_type": "markdown",
   "metadata": {},
   "source": [
    "Of the top 4 in the hierarchy meta is only really useful to continue collecting tweets with the next_token value, and _twarc has some information about the twarc package.\n",
    "\n",
    "data contains the core of the results from the Full Archive Search query, whereas includes brings referenced tweets and authors (users) of those tweets. We show this below"
   ]
  },
  {
   "cell_type": "code",
   "execution_count": 2,
   "metadata": {},
   "outputs": [
    {
     "name": "stdout",
     "output_type": "stream",
     "text": [
      "dict_keys(['public_metrics', 'created_at', 'referenced_tweets', 'id', 'possibly_sensitive', 'reply_settings', 'author_id', 'lang', 'conversation_id', 'entities', 'source', 'text'])\n",
      "{'type': 'retweeted', 'id': '922392644084383744'}\n",
      "{'type': 'retweeted', 'id': '922434649841741825'}\n",
      "{'type': 'retweeted', 'id': '922472700412645377'}\n",
      "{'type': 'retweeted', 'id': '922517890166697984'}\n",
      "{'type': 'retweeted', 'id': '922517749565288448'}\n",
      "{'type': 'retweeted', 'id': '922451846949515264'}\n",
      "{'type': 'retweeted', 'id': '922468531173703680'}\n",
      "{'type': 'retweeted', 'id': '922506087252635648'}\n",
      "{'type': 'retweeted', 'id': '922100750393647104'}\n",
      "{'type': 'retweeted', 'id': '922451900619833344'}\n",
      "{'type': 'retweeted', 'id': '922438548631953408'}\n",
      "{'type': 'retweeted', 'id': '922413404760948736'}\n",
      "{'type': 'retweeted', 'id': '922430975581110272'}\n",
      "{'type': 'retweeted', 'id': '922397259085504512'}\n",
      "{'type': 'retweeted', 'id': '922481532702375942'}\n",
      "{'type': 'retweeted', 'id': '922225668837933056'}\n",
      "{'type': 'retweeted', 'id': '922272163876388864'}\n",
      "{'type': 'retweeted', 'id': '922338762952130561'}\n",
      "{'type': 'retweeted', 'id': '922293169693134848'}\n",
      "{'type': 'retweeted', 'id': '922071555571462144'}\n",
      "{'type': 'retweeted', 'id': '922394725029523456'}\n",
      "{'type': 'retweeted', 'id': '922350481007026176'}\n",
      "{'type': 'retweeted', 'id': '920691352601477120'}\n",
      "{'type': 'retweeted', 'id': '922083570629296128'}\n",
      "{'type': 'retweeted', 'id': '922375085859549185'}\n",
      "{'type': 'retweeted', 'id': '921878236899950593'}\n",
      "{'type': 'retweeted', 'id': '922432398670815232'}\n",
      "{'type': 'retweeted', 'id': '922458672827056128'}\n",
      "{'type': 'retweeted', 'id': '922246185850585088'}\n",
      "{'type': 'retweeted', 'id': '922396594124632064'}\n",
      "{'type': 'retweeted', 'id': '922451624856977408'}\n",
      "{'type': 'retweeted', 'id': '922286748918431744'}\n",
      "{'type': 'retweeted', 'id': '922416631032057856'}\n",
      "{'type': 'retweeted', 'id': '922490159873929221'}\n",
      "{'type': 'retweeted', 'id': '922099243774394372'}\n",
      "{'type': 'retweeted', 'id': '922428773336829957'}\n",
      "{'type': 'retweeted', 'id': '922419017364553733'}\n",
      "{'type': 'retweeted', 'id': '922392383915823105'}\n",
      "{'type': 'retweeted', 'id': '922479791277617153'}\n",
      "{'type': 'retweeted', 'id': '922284172634349568'}\n",
      "{'type': 'retweeted', 'id': '921651952533962752'}\n",
      "{'type': 'retweeted', 'id': '921967937157660673'}\n",
      "{'type': 'retweeted', 'id': '921728063213264896'}\n",
      "{'type': 'retweeted', 'id': '922359578083205120'}\n",
      "{'type': 'retweeted', 'id': '922368572180938753'}\n",
      "{'type': 'retweeted', 'id': '922421097387225088'}\n",
      "{'type': 'retweeted', 'id': '922412339600568320'}\n",
      "{'type': 'retweeted', 'id': '922290304576774144'}\n",
      "{'type': 'retweeted', 'id': '922028780448706560'}\n",
      "{'type': 'retweeted', 'id': '922173016712257536'}\n",
      "{'type': 'retweeted', 'id': '922156196936630272'}\n",
      "{'type': 'retweeted', 'id': '921627339481522176'}\n",
      "{'type': 'retweeted', 'id': '922334604652003329'}\n",
      "{'type': 'retweeted', 'id': '922349737709203456'}\n",
      "{'type': 'retweeted', 'id': '922352331701678081'}\n",
      "{'type': 'retweeted', 'id': '922256349114880000'}\n",
      "{'type': 'retweeted', 'id': '922331716613685248'}\n",
      "{'type': 'retweeted', 'id': '922351753437179905'}\n",
      "{'type': 'retweeted', 'id': '922259751857135616'}\n",
      "{'type': 'retweeted', 'id': '922262479488479232'}\n",
      "{'type': 'retweeted', 'id': '922129724549169153'}\n",
      "{'type': 'retweeted', 'id': '922138392653193216'}\n",
      "{'type': 'retweeted', 'id': '922271700108034048'}\n",
      "{'type': 'retweeted', 'id': '922220059870748672'}\n",
      "{'type': 'retweeted', 'id': '842302719054426112'}\n",
      "{'type': 'retweeted', 'id': '922256430744223745'}\n",
      "{'type': 'retweeted', 'id': '870931409031938049'}\n",
      "{'type': 'retweeted', 'id': '922115654211080192'}\n",
      "{'type': 'retweeted', 'id': '920996943983099904'}\n",
      "{'type': 'retweeted', 'id': '922244553121325056'}\n",
      "{'type': 'retweeted', 'id': '922151138492694528'}\n",
      "{'type': 'retweeted', 'id': '921310031936499713'}\n",
      "{'type': 'retweeted', 'id': '922276664037425152'}\n",
      "{'type': 'retweeted', 'id': '922328543211737090'}\n",
      "{'type': 'retweeted', 'id': '922299510746890240'}\n",
      "{'type': 'retweeted', 'id': '922263244340838400'}\n",
      "{'type': 'retweeted', 'id': '921868163263823872'}\n",
      "{'type': 'retweeted', 'id': '922277873079037952'}\n",
      "{'type': 'retweeted', 'id': '922096566147604480'}\n",
      "{'type': 'retweeted', 'id': '922115581427441664'}\n",
      "{'type': 'retweeted', 'id': '922103487520845824'}\n",
      "{'type': 'retweeted', 'id': '922234454298345472'}\n",
      "{'type': 'retweeted', 'id': '922088292496982016'}\n",
      "{'type': 'retweeted', 'id': '922180286762250240'}\n",
      "{'type': 'retweeted', 'id': '922310162592841728'}\n",
      "{'type': 'retweeted', 'id': '922258719907311616'}\n",
      "{'type': 'retweeted', 'id': '922299841790722048'}\n",
      "{'type': 'retweeted', 'id': '922300487696760832'}\n",
      "{'type': 'retweeted', 'id': '922118511488507905'}\n",
      "{'type': 'retweeted', 'id': '922281522425556992'}\n",
      "{'type': 'retweeted', 'id': '922166577050484736'}\n",
      "{'type': 'retweeted', 'id': '922321401628856320'}\n",
      "{'type': 'retweeted', 'id': '922296020129611777'}\n"
     ]
    },
    {
     "ename": "AssertionError",
     "evalue": "",
     "output_type": "error",
     "traceback": [
      "\u001b[0;31m---------------------------------------------------------------------------\u001b[0m",
      "\u001b[0;31mAssertionError\u001b[0m                            Traceback (most recent call last)",
      "\u001b[0;32m<ipython-input-2-809df787f045>\u001b[0m in \u001b[0;36m<module>\u001b[0;34m\u001b[0m\n\u001b[1;32m     26\u001b[0m \u001b[0;34m\u001b[0m\u001b[0m\n\u001b[1;32m     27\u001b[0m         \u001b[0;32mfor\u001b[0m \u001b[0mtweet_obj\u001b[0m \u001b[0;32min\u001b[0m \u001b[0mtweet_jsonl\u001b[0m\u001b[0;34m[\u001b[0m\u001b[0;34m'includes'\u001b[0m\u001b[0;34m]\u001b[0m\u001b[0;34m[\u001b[0m\u001b[0;34m'tweets'\u001b[0m\u001b[0;34m]\u001b[0m\u001b[0;34m:\u001b[0m\u001b[0;34m\u001b[0m\u001b[0;34m\u001b[0m\u001b[0m\n\u001b[0;32m---> 28\u001b[0;31m             \u001b[0;32massert\u001b[0m \u001b[0mtweet_obj\u001b[0m\u001b[0;34m[\u001b[0m\u001b[0;34m'id'\u001b[0m\u001b[0;34m]\u001b[0m \u001b[0;32min\u001b[0m \u001b[0mref_ids\u001b[0m\u001b[0;34m\u001b[0m\u001b[0;34m\u001b[0m\u001b[0m\n\u001b[0m\u001b[1;32m     29\u001b[0m \u001b[0;34m\u001b[0m\u001b[0m\n\u001b[1;32m     30\u001b[0m             \u001b[0;31m# remove ids from the list as you go along so each tweet in 'includes' must have a corresponding entry.\u001b[0m\u001b[0;34m\u001b[0m\u001b[0;34m\u001b[0m\u001b[0;34m\u001b[0m\u001b[0m\n",
      "\u001b[0;31mAssertionError\u001b[0m: "
     ]
    }
   ],
   "source": [
    "with jsonlines.open(user_jsonl_file) as reader:\n",
    "    for tweet_jsonl in reader:\n",
    "        # print(user_jsonl_file)\n",
    "        # print('\\n')\n",
    "        # print(len(tweet_jsonl['data']))\n",
    "        # print('\\n')\n",
    "        # print(tweet_jsonl['data'][0])\n",
    "        # print('\\n')\n",
    "        # print(tweet_jsonl['includes']['users'][1])\n",
    "        # print('\\n')\n",
    "        # print(len(tweet_jsonl['includes']['users']))\n",
    "        # print('\\n')\n",
    "        # print(len(tweet_jsonl['includes']['tweets']))\n",
    "        # print('\\n')\n",
    "\n",
    "        print(tweet_jsonl['data'][0].keys())\n",
    "\n",
    "        ref_ids = []\n",
    "        for tweet_obj in tweet_jsonl['data']:\n",
    "            \n",
    "            if 'referenced_tweets' in tweet_obj:\n",
    "                for reffed_tweet in tweet_obj['referenced_tweets']:\n",
    "                    print(reffed_tweet)\n",
    "                    break\n",
    "                    ref_ids.append(reffed_tweet['id'])\n",
    "\n",
    "        for tweet_obj in tweet_jsonl['includes']['tweets']:\n",
    "            assert tweet_obj['id'] in ref_ids\n",
    "\n",
    "            # remove ids from the list as you go along so each tweet in 'includes' must have a corresponding entry.\n",
    "            ref_ids.remove(tweet_obj['id'])\n",
    "        print('All OK')\n",
    "\n",
    "        break"
   ]
  },
  {
   "cell_type": "code",
   "execution_count": null,
   "metadata": {},
   "outputs": [],
   "source": []
  }
 ],
 "metadata": {
  "interpreter": {
   "hash": "36cf16204b8548560b1c020c4e8fb5b57f0e4c58016f52f2d4be01e192833930"
  },
  "kernelspec": {
   "display_name": "Python 3.9.5 64-bit",
   "name": "python3"
  },
  "language_info": {
   "codemirror_mode": {
    "name": "ipython",
    "version": 3
   },
   "file_extension": ".py",
   "mimetype": "text/x-python",
   "name": "python",
   "nbconvert_exporter": "python",
   "pygments_lexer": "ipython3",
   "version": "3.9.10"
  },
  "orig_nbformat": 4
 },
 "nbformat": 4,
 "nbformat_minor": 2
}

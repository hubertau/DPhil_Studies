{
 "cells": [
  {
   "cell_type": "code",
   "execution_count": 1,
   "metadata": {},
   "outputs": [],
   "source": [
    "import os\n",
    "import pprint\n",
    "import tqdm\n",
    "import json\n",
    "import glob\n",
    "import jsonlines\n",
    "import pprint\n",
    "import pandas as pd\n",
    "import pickle\n",
    "import numpy as np\n",
    "import subprocess\n",
    "import matplotlib.pyplot as plt\n",
    "import sys\n",
    "from collections import Counter\n",
    "import subprocess\n",
    "import datetime\n",
    "import h5py\n",
    "from typing import NamedTuple\n",
    "import re\n",
    "import statsmodels.api as sm\n",
    "from scipy.stats import bernoulli \n",
    "from collections import defaultdict\n",
    "from operator import attrgetter\n",
    "import statsmodels.formula.api as smf\n",
    "from pandas.plotting import scatter_matrix\n",
    "import networkx as nx\n",
    "\n",
    "#load in search hashtags\n",
    "with open('../references/search_hashtags.txt', 'r') as f:\n",
    "    search_hashtags = f.readlines()\n",
    "    search_hashtags = [i.replace('\\n', '') for i in search_hashtags]\n",
    "    search_hashtags = [i.replace('#', '') for i in search_hashtags]\n",
    "    search_hashtags = [i.lower() for i in search_hashtags]\n",
    "    search_hashtags.remove('وأناكمان')"
   ]
  },
  {
   "cell_type": "markdown",
   "metadata": {},
   "source": [
    "# Parameters"
   ]
  },
  {
   "cell_type": "code",
   "execution_count": 2,
   "metadata": {},
   "outputs": [],
   "source": [
    "group_num = 1\n",
    "hashtag_split = True\n",
    "ngram_range = '34'\n",
    "min_user = 100\n",
    "\n",
    "overwrite = True\n",
    "read_in = True"
   ]
  },
  {
   "cell_type": "markdown",
   "metadata": {},
   "source": [
    "# Load in data and basic preprocessing"
   ]
  },
  {
   "cell_type": "code",
   "execution_count": 3,
   "metadata": {},
   "outputs": [
    {
     "name": "stdout",
     "output_type": "stream",
     "text": [
      "['interactions_group_1_part_0', 'interactions_group_1_part_1']\n",
      "Multi-part interactions read-in\n",
      "converting data format for in_reply_to\n",
      "removing self_replies\n",
      "Extracting quote ids\n",
      "saving to file\n"
     ]
    }
   ],
   "source": [
    "# Load in data\n",
    "\n",
    "interactions_hdf5_file = '/home/hubert/DPhil_Studies/2021-04_Study_A_Diffusion/data/03_processed/interactions.hdf5'\n",
    "\n",
    "# check if data was saved in multiple parts\n",
    "with h5py.File(interactions_hdf5_file, 'r') as f:\n",
    "    interactions_hdf5_keys = f.keys()\n",
    "    interactions_hdf5_keys = [i for i in interactions_hdf5_keys if re.search(f'interactions_group_{group_num}_part',i)]\n",
    "    print(interactions_hdf5_keys)\n",
    "\n",
    "if len(interactions_hdf5_keys) > 1:\n",
    "    print('Multi-part interactions read-in')\n",
    "    list_df = []\n",
    "    for i in interactions_hdf5_keys:\n",
    "        list_df.append(pd.read_hdf(interactions_hdf5_file,i))\n",
    "    df = pd.concat([i for i in list_df], axis=0)\n",
    "else:\n",
    "    df = pd.read_hdf(interactions_hdf5_file,f'interactions_group_{group_num}')\n",
    "    print('data read in')\n",
    "\n",
    "def convert_in_reply_to(x):\n",
    "    if x:\n",
    "        return x[0]\n",
    "    else:\n",
    "        return None\n",
    "\n",
    "print('converting data format for in_reply_to')\n",
    "df['in_reply_to'] = df['in_reply_to'].apply(convert_in_reply_to)\n",
    "\n",
    "# remove self replies\n",
    "print('removing self_replies')\n",
    "df = df[df['author_id']!=df['in_reply_to']]\n",
    "\n",
    "def combine_quotes(row):\n",
    "    if isinstance(row, list):\n",
    "        return row\n",
    "    if isinstance(row, str):\n",
    "        return [str]\n",
    "\n",
    "# extract quoted tweet ids\n",
    "print('Extracting quote ids')\n",
    "df['quotes']= df['quotes'].apply(combine_quotes)\n",
    "quoted_tweet_ids = []\n",
    "for row in df.itertuples():\n",
    "    for tweet_id in row.quotes:\n",
    "        quoted_tweet_ids.append(tweet_id)\n",
    "quoted_tweet_ids = list(set(quoted_tweet_ids))\n",
    "\n",
    "print('saving to file')\n",
    "# save quotes to group location\n",
    "group_folder = f'/home/hubert/DPhil_Studies/2021-04_Study_A_Diffusion/data/01_raw/0{group_num}_group/'\n",
    "assert os.path.isdir(group_folder)\n",
    "hydration_filename = os.path.join(group_folder, 'quoted_hydration.txt')\n",
    "hydrated_filename = os.path.join(group_folder, 'hydration.jsonl')\n",
    "with open(hydration_filename, 'w') as f:\n",
    "    for line in quoted_tweet_ids:\n",
    "        f.write(line)\n",
    "        f.write('\\n')"
   ]
  },
  {
   "cell_type": "code",
   "execution_count": 4,
   "metadata": {},
   "outputs": [
    {
     "name": "stdout",
     "output_type": "stream",
     "text": [
      "Number of non-null: 7939920\n",
      "getting internal counts...\n",
      "Internal replies (not self replies): 848558\n",
      "Total df length: 7939920\n"
     ]
    }
   ],
   "source": [
    "assert os.path.isfile(hydrated_filename)\n",
    "# collect usernames from hydrated:\n",
    "quoted_to_user_id = defaultdict(None)\n",
    "with jsonlines.open(hydrated_filename, 'r') as reader:\n",
    "    for line in reader:\n",
    "        for tweet in line['data']:\n",
    "            quoted_to_user_id[tweet['id']] = tweet['author_id']\n",
    "\n",
    "def convert_quotes(quote_list, dictionary):\n",
    "\n",
    "    res = []\n",
    "    for i in quote_list:\n",
    "        if i not in dictionary:\n",
    "            pass\n",
    "        else:\n",
    "            res.append(dictionary[i])\n",
    "    return res\n",
    "\n",
    "df['quoted_user_id'] = df['quotes'].apply(convert_quotes, args=(quoted_to_user_id,))\n",
    "\n",
    "non_null = len(df[~df['quoted_user_id'].isnull()])\n",
    "\n",
    "print(f'Number of non-null: {non_null}')\n",
    "\n",
    "# get unique counts\n",
    "df_authors = set(df['author_id'].unique())\n",
    "\n",
    "print('getting internal counts...')\n",
    "# generate counts of internal mentions/replies\n",
    "df['internal'] = (df['in_reply_to'].isin(df['author_id'])) | (df['mentions'].apply(lambda x: any([i in df_authors for i in x]))) | (df['quoted_user_id'].apply(lambda x: any([i in df_authors for i in x])))\n",
    "\n",
    "internal = df['internal'].sum()\n",
    "print(f'Internal replies (not self replies): {internal}')\n",
    "print(f'Total df length: {len(df)}')\n",
    "user_interaction_counts = df[['author_id','tweet_id']].groupby('author_id').count()\n",
    "\n",
    "user_interaction_counts.describe()\n",
    "\n",
    "for hashtag in search_hashtags:\n",
    "    df['vocab:#'+hashtag] = df['contains_hashtags'].apply(lambda x: any(hashtag.lower() == item.lower() for item in x))\n",
    "\n",
    "\n",
    "def combine_mention_replies(row):\n",
    "    res = []\n",
    "    if row['mentions'] is not None:\n",
    "        for i in row['mentions']:\n",
    "            res.append(i)\n",
    "    if row['quoted_user_id'] is not None:\n",
    "        for i in row['quoted_user_id']:\n",
    "            res.append(i)\n",
    "    if row['in_reply_to'] is not None:\n",
    "        assert isinstance(row['in_reply_to'],str)\n",
    "        res.append(row['in_reply_to'])\n",
    "    return res\n",
    "\n",
    "# collect users interacted with\n",
    "df['interacted_users'] = df.apply(combine_mention_replies,axis=1)\n"
   ]
  },
  {
   "cell_type": "code",
   "execution_count": 5,
   "metadata": {},
   "outputs": [
    {
     "data": {
      "text/plain": [
       "0                                    []\n",
       "1                                    []\n",
       "2                                    []\n",
       "3                                    []\n",
       "4                                    []\n",
       "                       ...             \n",
       "8581033    [TIMESUP, TheFutureIsFemale]\n",
       "8581034                       [TIMESUP]\n",
       "8581035                         [MeToo]\n",
       "8581036           [13ReasonsWhy, MeToo]\n",
       "8581037           [13ReasonsWhy, MeToo]\n",
       "Name: contains_hashtags, Length: 7939920, dtype: object"
      ]
     },
     "execution_count": 5,
     "metadata": {},
     "output_type": "execute_result"
    }
   ],
   "source": [
    "df['contains_hashtags']"
   ]
  },
  {
   "cell_type": "markdown",
   "metadata": {},
   "source": [
    "# Also read in the stats_df for other parametrs like m3_inference"
   ]
  },
  {
   "cell_type": "code",
   "execution_count": 6,
   "metadata": {},
   "outputs": [],
   "source": [
    "stats_df_save_dir = '/home/hubert/DPhil_Studies/2021-04_Study_A_Diffusion/data/06_reporting/'\n",
    "save_filename = os.path.join(stats_df_save_dir, f'stats_df_group_{group_num}.obj')\n",
    "\n",
    "with open(save_filename, 'rb') as f:\n",
    "    stats_df = pickle.load(f)"
   ]
  },
  {
   "cell_type": "code",
   "execution_count": 7,
   "metadata": {},
   "outputs": [
    {
     "data": {
      "text/plain": [
       "0       balancetonporc\n",
       "1       balancetonporc\n",
       "2       balancetonporc\n",
       "3       balancetonporc\n",
       "4       balancetonporc\n",
       "             ...      \n",
       "2721               我也是\n",
       "2722                私も\n",
       "2723                私も\n",
       "2724                나도\n",
       "2725                나도\n",
       "Name: ht, Length: 2726, dtype: object"
      ]
     },
     "execution_count": 7,
     "metadata": {},
     "output_type": "execute_result"
    }
   ],
   "source": [
    "stats_df['ht']"
   ]
  },
  {
   "cell_type": "code",
   "execution_count": 8,
   "metadata": {},
   "outputs": [],
   "source": [
    "def unit_conv(val):\n",
    "    return datetime.datetime.strptime('2017-10-16', '%Y-%m-%d') + datetime.timedelta(days=int(val))\n",
    "\n",
    "def reverse_unit_conv(date):\n",
    "    return (datetime.datetime.strptime(date, '%Y-%m-%d') - datetime.datetime.strptime('2017-10-16', '%Y-%m-%d')).days\n",
    "\n",
    "class daterange(NamedTuple):\n",
    "    start: str\n",
    "    end: str\n",
    "\n",
    "#obtain peak times again\n",
    "with h5py.File('/home/hubert/DPhil_Studies/2021-04_Study_A_Diffusion/data/02_intermediate/FAS_peak_analysis.hdf5', 'r') as f:\n",
    "    FAS_peaks = f['peak_detections']\n",
    "    x = f['segments']['selected_ranges'][int(group_num)-1]\n",
    "    group_date_range = daterange(\n",
    "        start = x[0].decode(),\n",
    "        end = x[1].decode()\n",
    "    )\n",
    "\n",
    "    group_start_index = reverse_unit_conv(group_date_range.start)\n",
    "    group_end_index = reverse_unit_conv(group_date_range.end)\n",
    "\n",
    "    most_prominent_peaks = {}\n",
    "    for name, h5obj in FAS_peaks.items():\n",
    "\n",
    "        peak_locations = h5obj['peak_locations']\n",
    "        peak_locations = [(i,e) for i,e in enumerate(h5obj['peak_locations']) if (unit_conv(e) > datetime.datetime.strptime(group_date_range.start, '%Y-%m-%d')) and (unit_conv(e) < datetime.datetime.strptime(group_date_range.end, '%Y-%m-%d'))]\n",
    "        peak_indices = [i[0] for i in peak_locations]\n",
    "        prominences = [element for index, element in enumerate(h5obj['prominences']) if index in peak_indices]\n",
    "        if len(prominences) == 0:\n",
    "            continue\n",
    "        max_prominence = np.argmax(prominences)\n",
    "        most_prominent_peaks[name] = unit_conv(peak_locations[max_prominence][1])"
   ]
  },
  {
   "cell_type": "code",
   "execution_count": 9,
   "metadata": {},
   "outputs": [],
   "source": [
    "x = df[df['created_at']==df['created_at'].min()].groupby('author_id').count()['tweet_id']"
   ]
  },
  {
   "cell_type": "code",
   "execution_count": 10,
   "metadata": {},
   "outputs": [
    {
     "data": {
      "text/plain": [
       "array([False, False, False, False, False, False, False, False, False,\n",
       "       False, False, False, False,  True,  True,  True,  True,  True,\n",
       "        True,  True,  True,  True,  True,  True,  True,  True,  True,\n",
       "        True,  True,  True,  True,  True,  True,  True,  True,  True,\n",
       "        True,  True,  True,  True,  True,  True,  True,  True,  True,\n",
       "        True,  True,  True, False])"
      ]
     },
     "execution_count": 10,
     "metadata": {},
     "output_type": "execute_result"
    }
   ],
   "source": [
    "df.columns.str.startswith('vocab')"
   ]
  },
  {
   "cell_type": "code",
   "execution_count": 17,
   "metadata": {},
   "outputs": [],
   "source": [
    "class contagion_model(object):\n",
    "    def __init__(self, df, activity_file, group_date_range, group_num, by_hashtag = True):\n",
    "        self.df = df\n",
    "        self.first = True\n",
    "        self.activity_file = activity_file\n",
    "        self.date_range_length = (datetime.datetime.strptime(group_date_range.end, '%Y-%m-%d') - datetime.datetime.strptime(group_date_range.start, '%Y-%m-%d')).days + 1\n",
    "        self.group_num = group_num\n",
    "        with h5py.File(self.activity_file, 'r') as f:\n",
    "            # print(f.keys())\n",
    "            x = f['group_1']['1005675566']['hashtagged'].attrs['feature_order']\n",
    "            self.ht_row_mapping = x.split(';')\n",
    "        self.vocab_colnames = self.df.columns.str.startswith('vocab:#')\n",
    "        self.by_hashtag=by_hashtag\n",
    "\n",
    "    @staticmethod\n",
    "    def _date_to_index(date):\n",
    "        return (date - datetime.datetime.strptime(group_date_range.start, '%Y-%m-%d').date()).days\n",
    "\n",
    "    def _setup(self):\n",
    "        self.users = list(df['author_id'].unique())\n",
    "        self.current_p = defaultdict(float)\n",
    "        self.date = self.df['created_at'].min()\n",
    "\n",
    "        # create empty numpy array to store\n",
    "        self.probabilities = np.zeros(shape=(len(self.users),36,self.date_range_length+1))\n",
    "\n",
    "    def _update(self):\n",
    "        if self.first:\n",
    "            self._setup()\n",
    "            self.first=False\n",
    "        date_filter = self.df[self.df['created_at'] == self.date]\n",
    "\n",
    "        # for row in date_filter.itertuples():\n",
    "        #     author_index = self.user.index(row.author_id)\n",
    "        #     # collect rows that have positive vocab:\n",
    "        #     hashtag_index = self.ht_row_mapping(row.ht)\n",
    "        interaction_counts = date_filter.groupby('author_id').sum()\n",
    "\n",
    "        # iterate over vocab columns\n",
    "        interaction_counts = interaction_counts.loc[:,interaction_counts.columns.str.startswith('vocab:#')]\n",
    "\n",
    "        # iterate over columns\n",
    "        for colname, col_content in interaction_counts.iteritems():\n",
    "\n",
    "            # print(col_content)\n",
    "            # extract ht from colname\n",
    "            ht_col = colname[7:]\n",
    "            ht_index = self.ht_row_mapping.index(ht_col)\n",
    "\n",
    "            # the column should only have one value as it's the result of a groupby aggregate.\n",
    "            for author_id, value in col_content.iteritems():\n",
    "                if value > 0:\n",
    "                    self.probabilities[self.users.index(author_id), ht_index, self._date_to_index(self.date)] = value\n",
    "        # print(f'processed {self.date}')\n",
    "        if self.date == self.df['created_at'].max():\n",
    "            return False\n",
    "        else:\n",
    "            self.date += datetime.timedelta(days=1)\n",
    "            return True\n",
    "\n",
    "    def _model_simple_contagion(self, p=0.001, family='bernoulli'):\n",
    "\n",
    "        self.family=family\n",
    "\n",
    "        # for bernoulli, assume that each interaction increases probability of tweeting by:\n",
    "        # P = 1 - (1-p)^k for k\n",
    "        contin = True\n",
    "        while contin:\n",
    "            contin = self._update()\n",
    "\n",
    "\n",
    "        # read in data from activity file\n",
    "        # with h5py.File(self.activity_file, 'r') as f:\n",
    "            # result = activity_file[f'group_{group_num}'][]['hashtagged'][:]\n",
    "\n",
    "    def _simulate(self):\n",
    "\n",
    "        if self.family == 'bernoulli':\n",
    "            distfunc = bernoulli.rvs\n",
    "\n",
    "        distfunc_v = np.vectorize(distfunc)\n",
    "\n",
    "        return distfunc_v(self.cumulative_prob)\n",
    "\n",
    "    def _get_activity(self):\n",
    "\n",
    "        activity_res = np.zeros(shape=self.probabilities.shape)\n",
    "        with h5py.File(self.activity_file, 'r') as f:\n",
    "            for index, user in enumerate(self.users):\n",
    "                if self.by_hashtag:\n",
    "                    activity_res[index,:,:] = f[f'group_{group_num}'][user]['hashtagged'][:] \n",
    "                else:\n",
    "                    activity_res[index, :] = np.sum(f[f'group_{group_num}'][user]['hashtagged'][:], axis=0)\n",
    "        return activity_res\n",
    "\n",
    "    def _eval_bernoulli(self, p, ht_num=None):\n",
    "\n",
    "        if self.by_hashtag:\n",
    "            assert ht_num is not None\n",
    "        self.cumulative_prob = np.zeros(shape=self.probabilities.shape)\n",
    "\n",
    "        #iterate over dates\n",
    "        for i in range(self.probabilities.shape[-1]-1):\n",
    "            if self.by_hashtag:\n",
    "                self.cumulative_prob[:,ht_num,i+1] = 1-(1-p)**np.sum(self.probabilities[:,ht_num,:i], axis=1)\n",
    "            else:\n",
    "                # sum axis 2 which is the date axis\n",
    "                self.cumulative_prob[:,:,i+1] = 1-(1-p)**np.sum(self.probabilities[:,:,:i], axis=2)\n",
    "\n",
    "        if self.by_hashtag:\n",
    "            eval_sum = (1-(1-p)**self.cumulative_prob[:,ht_num,:])*(self.activity_res[:,ht_num,:]) + ((1-p)**self.cumulative_prob[:,ht_num,:])*(1-self.activity_res[:,ht_num,:])\n",
    "        else:\n",
    "            eval_sum = (1-(1-p)**self.cumulative_prob)*(self.activity_res)+((1-p)**self.cumulative_prob)*(1-self.activity_res)\n",
    "        eval_sum=np.sum(eval_sum)\n",
    "\n",
    "        return eval_sum\n",
    "\n",
    "    def fit(self, type='simple'):\n",
    "\n",
    "        # do the simple contagion calculation\n",
    "        self._model_simple_contagion()\n",
    "\n",
    "        # get activity\n",
    "        self.activity_res = self._get_activity()\n",
    "        if self.family=='bernoulli':\n",
    "            self.activity_res = self.activity_res > 1\n",
    "\n",
    "        # evaluate\n",
    "        p_values = np.linspace(0.000001, 0.01, 100)\n",
    "        p_optimisation = []\n",
    "        if self.by_hashtag:\n",
    "            for ht_num in range(self.probabilities.shape[1]):\n",
    "                for p in p_values:\n",
    "                    p_optimisation.append((\n",
    "                        p,\n",
    "                        ht_num,\n",
    "                        self._eval_bernoulli(p,ht_num)\n",
    "                    ))\n",
    "        else:\n",
    "            for p in p_values:\n",
    "                p_optimisation.append(self._eval_bernoulli(p))\n",
    "\n",
    "        # get best result\n",
    "        if self.by_hashtag:\n",
    "            best_index = {}\n",
    "            for ht_num in range(self.probabilities.shape[1]):\n",
    "                temp = [i for i in p_optimisation if i[1]==ht_num]\n",
    "                best_index[ht_num] = max(temp, key=lambda x: x[2])\n",
    "        else:\n",
    "            best_index = p_optimisation.index(max(p_optimisation))\n",
    "\n",
    "        return (best_index, p_values, p_optimisation)\n",
    "\n",
    "        # # simulate using calculated probabilities\n",
    "        # if self.by_hashtag:\n",
    "        #     self._eval_bernoulli(p_values[best_index])\n",
    "        # else:\n",
    "        #     self._eval_bernoulli(p_values[best_index])\n",
    "        #     simulated = self._simulate()\n",
    "\n",
    "        # return (best_index, p_values, p_optimisation, self.activity_res == simulated)\n",
    "\n"
   ]
  },
  {
   "cell_type": "code",
   "execution_count": 18,
   "metadata": {},
   "outputs": [],
   "source": [
    "activity_file = '/home/hubert/DPhil_Studies/2021-04_Study_A_Diffusion/data/03_processed/activity_counts.hdf5'\n",
    "\n",
    "model = contagion_model(df, activity_file, group_date_range, group_num,by_hashtag=True)"
   ]
  },
  {
   "cell_type": "code",
   "execution_count": 19,
   "metadata": {},
   "outputs": [
    {
     "ename": "IndexError",
     "evalue": "index 3599 is out of bounds for axis 0 with size 100",
     "output_type": "error",
     "traceback": [
      "\u001b[0;31m---------------------------------------------------------------------------\u001b[0m",
      "\u001b[0;31mIndexError\u001b[0m                                Traceback (most recent call last)",
      "\u001b[0;32m/tmp/ipykernel_4125081/2928415664.py\u001b[0m in \u001b[0;36m<module>\u001b[0;34m\u001b[0m\n\u001b[0;32m----> 1\u001b[0;31m \u001b[0mfit_result\u001b[0m \u001b[0;34m=\u001b[0m \u001b[0mmodel\u001b[0m\u001b[0;34m.\u001b[0m\u001b[0mfit\u001b[0m\u001b[0;34m(\u001b[0m\u001b[0;34m)\u001b[0m\u001b[0;34m\u001b[0m\u001b[0;34m\u001b[0m\u001b[0m\n\u001b[0m",
      "\u001b[0;32m/tmp/ipykernel_4125081/2288612661.py\u001b[0m in \u001b[0;36mfit\u001b[0;34m(self, type)\u001b[0m\n\u001b[1;32m    145\u001b[0m \u001b[0;34m\u001b[0m\u001b[0m\n\u001b[1;32m    146\u001b[0m         \u001b[0;31m# simulate using calculated probabilities\u001b[0m\u001b[0;34m\u001b[0m\u001b[0;34m\u001b[0m\u001b[0m\n\u001b[0;32m--> 147\u001b[0;31m         \u001b[0mself\u001b[0m\u001b[0;34m.\u001b[0m\u001b[0m_eval_bernoulli\u001b[0m\u001b[0;34m(\u001b[0m\u001b[0mp_values\u001b[0m\u001b[0;34m[\u001b[0m\u001b[0mbest_index\u001b[0m\u001b[0;34m]\u001b[0m\u001b[0;34m)\u001b[0m\u001b[0;34m\u001b[0m\u001b[0;34m\u001b[0m\u001b[0m\n\u001b[0m\u001b[1;32m    148\u001b[0m         \u001b[0msimulated\u001b[0m \u001b[0;34m=\u001b[0m \u001b[0mself\u001b[0m\u001b[0;34m.\u001b[0m\u001b[0m_simulate\u001b[0m\u001b[0;34m(\u001b[0m\u001b[0;34m)\u001b[0m\u001b[0;34m\u001b[0m\u001b[0;34m\u001b[0m\u001b[0m\n\u001b[1;32m    149\u001b[0m \u001b[0;34m\u001b[0m\u001b[0m\n",
      "\u001b[0;31mIndexError\u001b[0m: index 3599 is out of bounds for axis 0 with size 100"
     ]
    }
   ],
   "source": [
    "fit_result = model.fit()"
   ]
  },
  {
   "cell_type": "code",
   "execution_count": 36,
   "metadata": {},
   "outputs": [],
   "source": [
    "with open('/home/hubert/DPhil_Studies/2021-04_Study_A_Diffusion/data/05_model_output/01_group/contagion.obj', 'wb') as f:\n",
    "    pickle.dump(fit_result, f)"
   ]
  },
  {
   "cell_type": "markdown",
   "metadata": {},
   "source": [
    "# Visualise results"
   ]
  },
  {
   "cell_type": "code",
   "execution_count": 38,
   "metadata": {},
   "outputs": [
    {
     "data": {
      "text/plain": [
       "25796679.999991767"
      ]
     },
     "execution_count": 38,
     "metadata": {},
     "output_type": "execute_result"
    }
   ],
   "source": [
    "fit_result[2][0]"
   ]
  },
  {
   "cell_type": "code",
   "execution_count": 37,
   "metadata": {},
   "outputs": [
    {
     "ename": "IndexError",
     "evalue": "invalid index to scalar variable.",
     "output_type": "error",
     "traceback": [
      "\u001b[0;31m---------------------------------------------------------------------------\u001b[0m",
      "\u001b[0;31mIndexError\u001b[0m                                Traceback (most recent call last)",
      "\u001b[0;32m/tmp/ipykernel_4083039/1868707883.py\u001b[0m in \u001b[0;36m<module>\u001b[0;34m\u001b[0m\n\u001b[0;32m----> 1\u001b[0;31m \u001b[0mtemp\u001b[0m \u001b[0;34m=\u001b[0m \u001b[0;34m[\u001b[0m\u001b[0mi\u001b[0m \u001b[0;32mfor\u001b[0m \u001b[0mi\u001b[0m \u001b[0;32min\u001b[0m \u001b[0mfit_result\u001b[0m\u001b[0;34m[\u001b[0m\u001b[0;36m2\u001b[0m\u001b[0;34m]\u001b[0m \u001b[0;32mif\u001b[0m \u001b[0mi\u001b[0m\u001b[0;34m[\u001b[0m\u001b[0;36m1\u001b[0m\u001b[0;34m]\u001b[0m \u001b[0;34m==\u001b[0m \u001b[0;36m0\u001b[0m\u001b[0;34m]\u001b[0m\u001b[0;34m\u001b[0m\u001b[0;34m\u001b[0m\u001b[0m\n\u001b[0m",
      "\u001b[0;32m/tmp/ipykernel_4083039/1868707883.py\u001b[0m in \u001b[0;36m<listcomp>\u001b[0;34m(.0)\u001b[0m\n\u001b[0;32m----> 1\u001b[0;31m \u001b[0mtemp\u001b[0m \u001b[0;34m=\u001b[0m \u001b[0;34m[\u001b[0m\u001b[0mi\u001b[0m \u001b[0;32mfor\u001b[0m \u001b[0mi\u001b[0m \u001b[0;32min\u001b[0m \u001b[0mfit_result\u001b[0m\u001b[0;34m[\u001b[0m\u001b[0;36m2\u001b[0m\u001b[0;34m]\u001b[0m \u001b[0;32mif\u001b[0m \u001b[0mi\u001b[0m\u001b[0;34m[\u001b[0m\u001b[0;36m1\u001b[0m\u001b[0;34m]\u001b[0m \u001b[0;34m==\u001b[0m \u001b[0;36m0\u001b[0m\u001b[0;34m]\u001b[0m\u001b[0;34m\u001b[0m\u001b[0;34m\u001b[0m\u001b[0m\n\u001b[0m",
      "\u001b[0;31mIndexError\u001b[0m: invalid index to scalar variable."
     ]
    }
   ],
   "source": [
    "temp = [i for i in fit_result[2] if i[1] == 0]"
   ]
  },
  {
   "cell_type": "code",
   "execution_count": 31,
   "metadata": {},
   "outputs": [
    {
     "data": {
      "text/plain": [
       "[<matplotlib.lines.Line2D at 0x7fc09f0dda90>]"
      ]
     },
     "execution_count": 31,
     "metadata": {},
     "output_type": "execute_result"
    },
    {
     "data": {
      "image/png": "[encoded data removed]",
      "text/plain": [
       "<Figure size 432x288 with 1 Axes>"
      ]
     },
     "metadata": {
      "needs_background": "light"
     },
     "output_type": "display_data"
    }
   ],
   "source": [
    "batch = 2\n",
    "plt.plot(fit_result[2][35*batch:35*batch+34])"
   ]
  },
  {
   "cell_type": "code",
   "execution_count": 32,
   "metadata": {},
   "outputs": [
    {
     "data": {
      "text/plain": [
       "100"
      ]
     },
     "execution_count": 32,
     "metadata": {},
     "output_type": "execute_result"
    }
   ],
   "source": [
    "len(fit_result[2])"
   ]
  },
  {
   "cell_type": "code",
   "execution_count": 29,
   "metadata": {},
   "outputs": [
    {
     "data": {
      "text/plain": [
       "[]"
      ]
     },
     "execution_count": 29,
     "metadata": {},
     "output_type": "execute_result"
    }
   ],
   "source": [
    "fit_result[2][35*batch:35*batch+34]"
   ]
  },
  {
   "cell_type": "code",
   "execution_count": null,
   "metadata": {},
   "outputs": [],
   "source": [
    "fit_result.sum()/(fit_result.shape[0]*fit_result.shape[1])"
   ]
  },
  {
   "cell_type": "code",
   "execution_count": null,
   "metadata": {},
   "outputs": [],
   "source": [
    "fit_result.shape"
   ]
  },
  {
   "cell_type": "code",
   "execution_count": null,
   "metadata": {},
   "outputs": [],
   "source": []
  }
 ],
 "metadata": {
  "interpreter": {
   "hash": "f9f85f796d01129d0dd105a088854619f454435301f6ffec2fea96ecbd9be4ac"
  },
  "kernelspec": {
   "display_name": "Python 3.9.10 64-bit",
   "language": "python",
   "name": "python3"
  },
  "language_info": {
   "codemirror_mode": {
    "name": "ipython",
    "version": 3
   },
   "file_extension": ".py",
   "mimetype": "text/x-python",
   "name": "python",
   "nbconvert_exporter": "python",
   "pygments_lexer": "ipython3",
   "version": "3.9.11"
  },
  "orig_nbformat": 4
 },
 "nbformat": 4,
 "nbformat_minor": 2
}

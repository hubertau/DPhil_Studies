{
 "cells": [
  {
   "cell_type": "markdown",
   "metadata": {},
   "source": [
    "# Small Demo for FAS jsonl File Structure from Twarc\n",
    "\n",
    "This is just a short ipynb to record what the structure of a retrieved jsonl object is from twarc.\n",
    "\n",
    "First print the the dict structure of a jsonl object."
   ]
  },
  {
   "cell_type": "code",
   "execution_count": 2,
   "metadata": {},
   "outputs": [
    {
     "name": "stdout",
     "output_type": "stream",
     "text": [
      "data (list)\n",
      "includes (dict)\n",
      "  users (list)\n",
      "  tweets (list)\n",
      "  media (list)\n",
      "errors (list)\n",
      "meta (dict)\n",
      "  newest_id (str)\n",
      "  oldest_id (str)\n",
      "  result_count (int)\n",
      "  next_token (str)\n",
      "__twarc (dict)\n",
      "  url (str)\n",
      "  version (str)\n",
      "  retrieved_at (str)\n"
     ]
    }
   ],
   "source": [
    "import jsonlines\n",
    "import glob\n",
    "\n",
    "path = '../data/01_raw/01_group'\n",
    "user_jsonl_file = glob.glob(path+'/timeline*.jsonl')[0]\n",
    "\n",
    "def print_keys(dic, shift = 0):\n",
    "    for key, value in dic.items():\n",
    "        typ = str(type(value)).split('\\'')[-2]\n",
    "        print(' '*shift + key + ' ('+ typ +')')\n",
    "        if isinstance(value, dict):\n",
    "            shift += 2\n",
    "            print_keys(value, shift=shift)\n",
    "            shift -= 2\n",
    "\n",
    "with jsonlines.open(user_jsonl_file) as reader:\n",
    "    for tweet_jsonl in reader:\n",
    "        print_keys(tweet_jsonl)\n",
    "        break"
   ]
  },
  {
   "cell_type": "code",
   "execution_count": 13,
   "metadata": {},
   "outputs": [
    {
     "name": "stderr",
     "output_type": "stream",
     "text": [
      "100%|██████████| 8/8 [00:00<00:00, 141.04it/s]"
     ]
    },
    {
     "name": "stdout",
     "output_type": "stream",
     "text": [
      "https://pbs.twimg.com/profile_images/774538970474618880/q1spIPkL_normal.jpg\n",
      "https://pbs.twimg.com/profile_images/1442346240033755141/9P_7o_v6_normal.jpg\n",
      "https://pbs.twimg.com/profile_images/1322507620654047236/oEzoQOHu_normal.png\n",
      "https://pbs.twimg.com/profile_images/1083660091361030144/C8khvnjA_normal.jpg\n",
      "https://pbs.twimg.com/profile_images/887787353590431744/WvaGk7Jh_normal.jpg\n",
      "https://pbs.twimg.com/profile_images/907403432721448960/787qODPT_normal.jpg\n",
      "https://pbs.twimg.com/profile_images/1424778780166574080/fFO7vXnS_normal.jpg\n",
      "https://pbs.twimg.com/profile_images/1425845761674199045/KE4nYSMp_normal.jpg\n"
     ]
    },
    {
     "name": "stderr",
     "output_type": "stream",
     "text": [
      "\n"
     ]
    }
   ],
   "source": [
    "# for m3inference\n",
    "import re\n",
    "import tqdm\n",
    "for i in tqdm.tqdm(glob.glob(path+'/timeline*.jsonl')[2:10]):\n",
    "    current_user = re.split('[_.]', i)[-2]\n",
    "    with jsonlines.open(i, 'r') as f:\n",
    "        for line in f:\n",
    "            user_in_file = line['includes']['users'][0]['id']\n",
    "            print(line['includes']['users'][0]['profile_image_url'])\n",
    "            break\n",
    "    # if current_user!=user_in_file:\n",
    "        # print(current_user, user_in_file)"
   ]
  },
  {
   "cell_type": "markdown",
   "metadata": {},
   "source": [
    "Of the top 4 in the hierarchy meta is only really useful to continue collecting tweets with the next_token value, and _twarc has some information about the twarc package.\n",
    "\n",
    "data contains the core of the results from the Full Archive Search query, whereas includes brings referenced tweets and authors (users) of those tweets. We show this below"
   ]
  },
  {
   "cell_type": "code",
   "execution_count": 2,
   "metadata": {},
   "outputs": [
    {
     "name": "stdout",
     "output_type": "stream",
     "text": [
      "dict_keys(['public_metrics', 'created_at', 'referenced_tweets', 'id', 'possibly_sensitive', 'reply_settings', 'author_id', 'lang', 'conversation_id', 'entities', 'source', 'text'])\n",
      "{'type': 'retweeted', 'id': '922392644084383744'}\n",
      "{'type': 'retweeted', 'id': '922434649841741825'}\n",
      "{'type': 'retweeted', 'id': '922472700412645377'}\n",
      "{'type': 'retweeted', 'id': '922517890166697984'}\n",
      "{'type': 'retweeted', 'id': '922517749565288448'}\n",
      "{'type': 'retweeted', 'id': '922451846949515264'}\n",
      "{'type': 'retweeted', 'id': '922468531173703680'}\n",
      "{'type': 'retweeted', 'id': '922506087252635648'}\n",
      "{'type': 'retweeted', 'id': '922100750393647104'}\n",
      "{'type': 'retweeted', 'id': '922451900619833344'}\n",
      "{'type': 'retweeted', 'id': '922438548631953408'}\n",
      "{'type': 'retweeted', 'id': '922413404760948736'}\n",
      "{'type': 'retweeted', 'id': '922430975581110272'}\n",
      "{'type': 'retweeted', 'id': '922397259085504512'}\n",
      "{'type': 'retweeted', 'id': '922481532702375942'}\n",
      "{'type': 'retweeted', 'id': '922225668837933056'}\n",
      "{'type': 'retweeted', 'id': '922272163876388864'}\n",
      "{'type': 'retweeted', 'id': '922338762952130561'}\n",
      "{'type': 'retweeted', 'id': '922293169693134848'}\n",
      "{'type': 'retweeted', 'id': '922071555571462144'}\n",
      "{'type': 'retweeted', 'id': '922394725029523456'}\n",
      "{'type': 'retweeted', 'id': '922350481007026176'}\n",
      "{'type': 'retweeted', 'id': '920691352601477120'}\n",
      "{'type': 'retweeted', 'id': '922083570629296128'}\n",
      "{'type': 'retweeted', 'id': '922375085859549185'}\n",
      "{'type': 'retweeted', 'id': '921878236899950593'}\n",
      "{'type': 'retweeted', 'id': '922432398670815232'}\n",
      "{'type': 'retweeted', 'id': '922458672827056128'}\n",
      "{'type': 'retweeted', 'id': '922246185850585088'}\n",
      "{'type': 'retweeted', 'id': '922396594124632064'}\n",
      "{'type': 'retweeted', 'id': '922451624856977408'}\n",
      "{'type': 'retweeted', 'id': '922286748918431744'}\n",
      "{'type': 'retweeted', 'id': '922416631032057856'}\n",
      "{'type': 'retweeted', 'id': '922490159873929221'}\n",
      "{'type': 'retweeted', 'id': '922099243774394372'}\n",
      "{'type': 'retweeted', 'id': '922428773336829957'}\n",
      "{'type': 'retweeted', 'id': '922419017364553733'}\n",
      "{'type': 'retweeted', 'id': '922392383915823105'}\n",
      "{'type': 'retweeted', 'id': '922479791277617153'}\n",
      "{'type': 'retweeted', 'id': '922284172634349568'}\n",
      "{'type': 'retweeted', 'id': '921651952533962752'}\n",
      "{'type': 'retweeted', 'id': '921967937157660673'}\n",
      "{'type': 'retweeted', 'id': '921728063213264896'}\n",
      "{'type': 'retweeted', 'id': '922359578083205120'}\n",
      "{'type': 'retweeted', 'id': '922368572180938753'}\n",
      "{'type': 'retweeted', 'id': '922421097387225088'}\n",
      "{'type': 'retweeted', 'id': '922412339600568320'}\n",
      "{'type': 'retweeted', 'id': '922290304576774144'}\n",
      "{'type': 'retweeted', 'id': '922028780448706560'}\n",
      "{'type': 'retweeted', 'id': '922173016712257536'}\n",
      "{'type': 'retweeted', 'id': '922156196936630272'}\n",
      "{'type': 'retweeted', 'id': '921627339481522176'}\n",
      "{'type': 'retweeted', 'id': '922334604652003329'}\n",
      "{'type': 'retweeted', 'id': '922349737709203456'}\n",
      "{'type': 'retweeted', 'id': '922352331701678081'}\n",
      "{'type': 'retweeted', 'id': '922256349114880000'}\n",
      "{'type': 'retweeted', 'id': '922331716613685248'}\n",
      "{'type': 'retweeted', 'id': '922351753437179905'}\n",
      "{'type': 'retweeted', 'id': '922259751857135616'}\n",
      "{'type': 'retweeted', 'id': '922262479488479232'}\n",
      "{'type': 'retweeted', 'id': '922129724549169153'}\n",
      "{'type': 'retweeted', 'id': '922138392653193216'}\n",
      "{'type': 'retweeted', 'id': '922271700108034048'}\n",
      "{'type': 'retweeted', 'id': '922220059870748672'}\n",
      "{'type': 'retweeted', 'id': '842302719054426112'}\n",
      "{'type': 'retweeted', 'id': '922256430744223745'}\n",
      "{'type': 'retweeted', 'id': '870931409031938049'}\n",
      "{'type': 'retweeted', 'id': '922115654211080192'}\n",
      "{'type': 'retweeted', 'id': '920996943983099904'}\n",
      "{'type': 'retweeted', 'id': '922244553121325056'}\n",
      "{'type': 'retweeted', 'id': '922151138492694528'}\n",
      "{'type': 'retweeted', 'id': '921310031936499713'}\n",
      "{'type': 'retweeted', 'id': '922276664037425152'}\n",
      "{'type': 'retweeted', 'id': '922328543211737090'}\n",
      "{'type': 'retweeted', 'id': '922299510746890240'}\n",
      "{'type': 'retweeted', 'id': '922263244340838400'}\n",
      "{'type': 'retweeted', 'id': '921868163263823872'}\n",
      "{'type': 'retweeted', 'id': '922277873079037952'}\n",
      "{'type': 'retweeted', 'id': '922096566147604480'}\n",
      "{'type': 'retweeted', 'id': '922115581427441664'}\n",
      "{'type': 'retweeted', 'id': '922103487520845824'}\n",
      "{'type': 'retweeted', 'id': '922234454298345472'}\n",
      "{'type': 'retweeted', 'id': '922088292496982016'}\n",
      "{'type': 'retweeted', 'id': '922180286762250240'}\n",
      "{'type': 'retweeted', 'id': '922310162592841728'}\n",
      "{'type': 'retweeted', 'id': '922258719907311616'}\n",
      "{'type': 'retweeted', 'id': '922299841790722048'}\n",
      "{'type': 'retweeted', 'id': '922300487696760832'}\n",
      "{'type': 'retweeted', 'id': '922118511488507905'}\n",
      "{'type': 'retweeted', 'id': '922281522425556992'}\n",
      "{'type': 'retweeted', 'id': '922166577050484736'}\n",
      "{'type': 'retweeted', 'id': '922321401628856320'}\n",
      "{'type': 'retweeted', 'id': '922296020129611777'}\n"
     ]
    },
    {
     "ename": "AssertionError",
     "evalue": "",
     "output_type": "error",
     "traceback": [
      "\u001b[0;31m---------------------------------------------------------------------------\u001b[0m",
      "\u001b[0;31mAssertionError\u001b[0m                            Traceback (most recent call last)",
      "\u001b[0;32m<ipython-input-2-809df787f045>\u001b[0m in \u001b[0;36m<module>\u001b[0;34m\u001b[0m\n\u001b[1;32m     26\u001b[0m \u001b[0;34m\u001b[0m\u001b[0m\n\u001b[1;32m     27\u001b[0m         \u001b[0;32mfor\u001b[0m \u001b[0mtweet_obj\u001b[0m \u001b[0;32min\u001b[0m \u001b[0mtweet_jsonl\u001b[0m\u001b[0;34m[\u001b[0m\u001b[0;34m'includes'\u001b[0m\u001b[0;34m]\u001b[0m\u001b[0;34m[\u001b[0m\u001b[0;34m'tweets'\u001b[0m\u001b[0;34m]\u001b[0m\u001b[0;34m:\u001b[0m\u001b[0;34m\u001b[0m\u001b[0;34m\u001b[0m\u001b[0m\n\u001b[0;32m---> 28\u001b[0;31m             \u001b[0;32massert\u001b[0m \u001b[0mtweet_obj\u001b[0m\u001b[0;34m[\u001b[0m\u001b[0;34m'id'\u001b[0m\u001b[0;34m]\u001b[0m \u001b[0;32min\u001b[0m \u001b[0mref_ids\u001b[0m\u001b[0;34m\u001b[0m\u001b[0;34m\u001b[0m\u001b[0m\n\u001b[0m\u001b[1;32m     29\u001b[0m \u001b[0;34m\u001b[0m\u001b[0m\n\u001b[1;32m     30\u001b[0m             \u001b[0;31m# remove ids from the list as you go along so each tweet in 'includes' must have a corresponding entry.\u001b[0m\u001b[0;34m\u001b[0m\u001b[0;34m\u001b[0m\u001b[0;34m\u001b[0m\u001b[0m\n",
      "\u001b[0;31mAssertionError\u001b[0m: "
     ]
    }
   ],
   "source": [
    "with jsonlines.open(user_jsonl_file) as reader:\n",
    "    for tweet_jsonl in reader:\n",
    "        # print(user_jsonl_file)\n",
    "        # print('\\n')\n",
    "        # print(len(tweet_jsonl['data']))\n",
    "        # print('\\n')\n",
    "        # print(tweet_jsonl['data'][0])\n",
    "        # print('\\n')\n",
    "        # print(tweet_jsonl['includes']['users'][1])\n",
    "        # print('\\n')\n",
    "        # print(len(tweet_jsonl['includes']['users']))\n",
    "        # print('\\n')\n",
    "        # print(len(tweet_jsonl['includes']['tweets']))\n",
    "        # print('\\n')\n",
    "\n",
    "        print(tweet_jsonl['data'][0].keys())\n",
    "\n",
    "        ref_ids = []\n",
    "        for tweet_obj in tweet_jsonl['data']:\n",
    "            \n",
    "            if 'referenced_tweets' in tweet_obj:\n",
    "                for reffed_tweet in tweet_obj['referenced_tweets']:\n",
    "                    print(reffed_tweet)\n",
    "                    break\n",
    "                    ref_ids.append(reffed_tweet['id'])\n",
    "\n",
    "        for tweet_obj in tweet_jsonl['includes']['tweets']:\n",
    "            assert tweet_obj['id'] in ref_ids\n",
    "\n",
    "            # remove ids from the list as you go along so each tweet in 'includes' must have a corresponding entry.\n",
    "            ref_ids.remove(tweet_obj['id'])\n",
    "        print('All OK')\n",
    "\n",
    "        break"
   ]
  },
  {
   "cell_type": "code",
   "execution_count": null,
   "metadata": {},
   "outputs": [],
   "source": []
  }
 ],
 "metadata": {
  "interpreter": {
   "hash": "36cf16204b8548560b1c020c4e8fb5b57f0e4c58016f52f2d4be01e192833930"
  },
  "kernelspec": {
   "display_name": "Python 3.9.5 64-bit",
   "name": "python3"
  },
  "language_info": {
   "codemirror_mode": {
    "name": "ipython",
    "version": 3
   },
   "file_extension": ".py",
   "mimetype": "text/x-python",
   "name": "python",
   "nbconvert_exporter": "python",
   "pygments_lexer": "ipython3",
   "version": "3.9.9"
  },
  "orig_nbformat": 4
 },
 "nbformat": 4,
 "nbformat_minor": 2
}

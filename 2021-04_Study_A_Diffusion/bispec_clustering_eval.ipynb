{
 "metadata": {
  "language_info": {
   "codemirror_mode": {
    "name": "ipython",
    "version": 3
   },
   "file_extension": ".py",
   "mimetype": "text/x-python",
   "name": "python",
   "nbconvert_exporter": "python",
   "pygments_lexer": "ipython3",
   "version": "3.9.2"
  },
  "orig_nbformat": 2,
  "kernelspec": {
   "name": "python392jvsc74a57bd095ec9ec1504d83f612128e0fb229072f90bbb4cb09d9d5d93b5dd26e0ca2cfd1",
   "display_name": "Python 3.9.2 64-bit ('base': conda)"
  },
  "metadata": {
   "interpreter": {
    "hash": "95ec9ec1504d83f612128e0fb229072f90bbb4cb09d9d5d93b5dd26e0ca2cfd1"
   }
  }
 },
 "nbformat": 4,
 "nbformat_minor": 2,
 "cells": [
  {
   "cell_type": "code",
   "execution_count": 1,
   "metadata": {},
   "outputs": [],
   "source": [
    "import glob\n",
    "import os\n",
    "\n",
    "import pandas as pd\n",
    "import sklearn\n",
    "import tqdm\n",
    "import numpy as np\n",
    "from sklearn.metrics import normalized_mutual_info_score as nmi_score\n",
    "import networkx\n",
    "\n",
    "import matplotlib\n",
    "from plotnine import *\n",
    "\n"
   ]
  },
  {
   "cell_type": "code",
   "execution_count": 11,
   "metadata": {},
   "outputs": [],
   "source": [
    "class BSCresults(object):\n",
    "\n",
    "    def __init__(self, data_dir):\n",
    "\n",
    "        self.data_dir = data_dir\n",
    "        self.file_list_summary = glob.glob(os.path.join(self.data_dir,'*summary.csv'))\n",
    "        self.file_list_users = glob.glob(os.path.join(self.data_dir,'*users.csv'))\n",
    "        self.file_list_hashtags = glob.glob(os.path.join(self.data_dir,'*hashtags.csv'))\n",
    "\n",
    "        # coi := cluster of interest\n",
    "        self.coi = []\n",
    "\n",
    "    def read_data(self, min_user=10):\n",
    "\n",
    "        self.min_user = min_user\n",
    "\n",
    "        # subset the values of the file list to only those of min user we want.\n",
    "        self.eval_list_summary = [file for file in self.file_list_summary if int(file.split('_')[-3])==min_user]\n",
    "        self.eval_list_users = [file for file in self.file_list_users if int(file.split('_')[-3])==min_user]\n",
    "        self.eval_list_hashtags = [file for file in self.file_list_hashtags if int(file.split('_')[-3])==min_user]\n",
    "\n",
    "        # sort in order of cluster number\n",
    "        self.eval_list_summary.sort(key=lambda x: int(x.split('_')[-2]))\n",
    "        self.eval_list_users.sort(key=lambda x: int(x.split('_')[-2]))\n",
    "        self.eval_list_hashtags.sort(key=lambda x: int(x.split('_')[-2]))\n",
    "\n",
    "        self.data_summary = []\n",
    "        self.data_users = []\n",
    "        self.data_hashtags = []\n",
    "\n",
    "        for file in self.eval_list_summary:\n",
    "            self.data_summary.append(pd.read_csv(file, usecols = ['cluster','count']))\n",
    "        for file in self.eval_list_users:\n",
    "            self.data_users.append(pd.read_csv(file, usecols = ['ID','degree','topic_cluster']))\n",
    "        for file in self.eval_list_hashtags:\n",
    "            self.data_hashtags.append(pd.read_csv(file, usecols = ['hashtag','degree','topic_cluster']))\n",
    "\n",
    "\n",
    "    def eval_nmi(self, min_user=10, shift=10):\n",
    "\n",
    "        self.min_user=min_user\n",
    "        self.read_data(self.min_user)\n",
    "        self.shift=shift\n",
    "\n",
    "        res_users = []\n",
    "        for index, value in enumerate(self.data_users[shift:]):\n",
    "            for i in range(1,shift):\n",
    "                temp = []\n",
    "                temp.append(nmi_score(value['topic_cluster'],self.data_users[index+shift-i]['topic_cluster']))\n",
    "            res_users.append(np.mean(temp))\n",
    "\n",
    "        self.user_eval_res = res_users\n",
    "        arr = np.array(res_users)\n",
    "        self.max_index_best_users = np.where(arr == np.amax(arr))[0][0] + shift\n",
    "        self.best_cluster_users = np.max(self.data_users[self.max_index_best_users]['topic_cluster'])\n",
    "\n",
    "        res_hashtags = []\n",
    "        for index, value in enumerate(self.data_hashtags[shift:]):\n",
    "            for i in range(1,shift):\n",
    "                temp = []\n",
    "                temp.append(nmi_score(value['topic_cluster'],self.data_hashtags[index+shift-i]['topic_cluster']))\n",
    "            res_hashtags.append(np.mean(temp))\n",
    "\n",
    "        self.hashtag_eval_res = res_hashtags\n",
    "        arr = np.array(res_hashtags)\n",
    "        self.max_index_best_hashtags = np.where(arr == np.amax(arr))[0][0] + shift\n",
    "        self.best_cluster_hashtags = np.max(self.data_hashtags[self.max_index_best_hashtags]['topic_cluster'])\n",
    "\n",
    "\n",
    "        # merge summary and user data to get cluster numbers\n",
    "\n",
    "\n",
    "        # omit one user clusters\n",
    "\n",
    "\n",
    "        return ((res_users, self.max_index_best_users, self.best_cluster_users),(res_hashtags, self.max_index_best_hashtags, self.best_cluster_hashtags))\n",
    "\n",
    "    def plot(self):\n",
    "\n",
    "        start_val = int(self.file_list_users[0].split('_')[-3])+self.shift\n",
    "        data_userplot = {\n",
    "            'Cluster Number': list(range(start_val, len(self.data_users[self.shift:])+start_val)),\n",
    "            'NMI Score': self.user_eval_res\n",
    "        }\n",
    "        data_userplot = pd.DataFrame(data_userplot, columns=['Cluster Number', 'NMI Score'])\n",
    "\n",
    "        start_val = int(self.file_list_users[0].split('_')[-3])+self.shift\n",
    "        data_hashplot = {\n",
    "            'Cluster Number': list(range(start_val, len(self.data_hashtags[self.shift:])+start_val)),\n",
    "            'NMI Score': self.hashtag_eval_res\n",
    "        }\n",
    "        data_hashplot = pd.DataFrame(data_hashplot, columns=['Cluster Number', 'NMI Score'])\n",
    "\n",
    "        self.userplot = ggplot(data_userplot) \\\n",
    "                    + aes(x=\"Cluster Number\", y=\"NMI Score\") \\\n",
    "                    + geom_line() \\\n",
    "                    + labs(title = \"User Clusters\") \n",
    "        # self.userplot\n",
    "        self.hashplot = ggplot(data_hashplot) \\\n",
    "                    + aes(x=\"Cluster Number\", y=\"NMI Score\") \\\n",
    "                    + geom_line() \\\n",
    "                    + labs(title = \"Phrase Clusters\")\n",
    "        # self.hashplot\n",
    "\n",
    "        self.userplot.save(os.path.join(self.data_dir,\"bsc_user_eval.png\"), dpi=600)\n",
    "        self.hashplot.save(os.path.join(self.data_dir,\"bsc_hashtags_eval.png\"), dpi=600)\n",
    "\n",
    "        # user number per cluster distribution\n",
    "        self.best_summary = self.data_summary[self.max_index_best_users]\n",
    "        self.best_users = self.data_users[self.max_index_best_users]\n",
    "        self.best_hashtags = self.data_hashtags[self.max_index_best_users]\n",
    " \n",
    "        self.userdistplot = ggplot(self.best_summary) \\\n",
    "            + aes(x=\"cluster\", y=\"count\") \\\n",
    "            + geom_bar(stat='identity') \\\n",
    "            + labs(title = \"User Numbers per Cluster for best cluster\".format(self.best_cluster_users))\n",
    "        self.userdistplot.save(os.path.join(self.data_dir,\"bsc_best_n_user_dist.png\"), dpi=600)\n",
    "\n",
    "\n",
    "    def add_coi(self, added):\n",
    "\n",
    "        # coi = cluster of interest. to be manually entered after examination of clustering outputs.\n",
    "        self.add_coi = 0\n"
   ]
  },
  {
   "cell_type": "code",
   "execution_count": 12,
   "metadata": {},
   "outputs": [],
   "source": [
    "bscres = BSCresults('/Users/hubert/Nextcloud/DPhil/DPhil_Studies/2021-04_Study_A_Diffusion/collection_results_2021_05_04_16_22/bsc')"
   ]
  },
  {
   "cell_type": "code",
   "execution_count": 13,
   "metadata": {},
   "outputs": [
    {
     "output_type": "stream",
     "name": "stdout",
     "text": [
      "(59, 69)\n(30, 40)\n"
     ]
    }
   ],
   "source": [
    "results = bscres.eval_nmi()\n",
    "print(results[0][1:])\n",
    "print(results[1][1:])"
   ]
  },
  {
   "source": [
    "bscres.plot()"
   ],
   "cell_type": "code",
   "metadata": {},
   "execution_count": 14,
   "outputs": [
    {
     "output_type": "stream",
     "name": "stderr",
     "text": [
      "/opt/homebrew/Caskroom/miniforge/base/lib/python3.9/site-packages/plotnine/ggplot.py:719: PlotnineWarning: Saving 6.4 x 4.8 in image.\n",
      "/opt/homebrew/Caskroom/miniforge/base/lib/python3.9/site-packages/plotnine/ggplot.py:722: PlotnineWarning: Filename: /Users/hubert/Nextcloud/DPhil/DPhil_Studies/2021-04_Study_A_Diffusion/collection_results_2021_05_04_16_22/bsc/bsc_user_eval.png\n",
      "/opt/homebrew/Caskroom/miniforge/base/lib/python3.9/site-packages/plotnine/ggplot.py:719: PlotnineWarning: Saving 6.4 x 4.8 in image.\n",
      "/opt/homebrew/Caskroom/miniforge/base/lib/python3.9/site-packages/plotnine/ggplot.py:722: PlotnineWarning: Filename: /Users/hubert/Nextcloud/DPhil/DPhil_Studies/2021-04_Study_A_Diffusion/collection_results_2021_05_04_16_22/bsc/bsc_hashtags_eval.png\n",
      "/opt/homebrew/Caskroom/miniforge/base/lib/python3.9/site-packages/plotnine/ggplot.py:719: PlotnineWarning: Saving 6.4 x 4.8 in image.\n",
      "/opt/homebrew/Caskroom/miniforge/base/lib/python3.9/site-packages/plotnine/ggplot.py:722: PlotnineWarning: Filename: /Users/hubert/Nextcloud/DPhil/DPhil_Studies/2021-04_Study_A_Diffusion/collection_results_2021_05_04_16_22/bsc/bsc_best_n_user_dist.png\n"
     ]
    }
   ]
  },
  {
   "cell_type": "code",
   "execution_count": 302,
   "metadata": {},
   "outputs": [
    {
     "output_type": "stream",
     "name": "stdout",
     "text": [
      "157\n"
     ]
    }
   ],
   "source": [
    "best_summary = bscres.data_summary[bscres.best_cluster_users]\n",
    "best_summary[best_summary['count']==1]\n",
    "print(np.max(best_summary['cluster']))"
   ]
  },
  {
   "cell_type": "code",
   "execution_count": 300,
   "metadata": {},
   "outputs": [
    {
     "output_type": "execute_result",
     "data": {
      "text/plain": [
       "          cluster       count\n",
       "count  153.000000  153.000000\n",
       "mean    79.437908   15.647059\n",
       "std     45.662064   67.743175\n",
       "min      1.000000    1.000000\n",
       "25%     40.000000    2.000000\n",
       "50%     80.000000    4.000000\n",
       "75%    119.000000    9.000000\n",
       "max    157.000000  781.000000"
      ],
      "text/html": "<div>\n<style scoped>\n    .dataframe tbody tr th:only-of-type {\n        vertical-align: middle;\n    }\n\n    .dataframe tbody tr th {\n        vertical-align: top;\n    }\n\n    .dataframe thead th {\n        text-align: right;\n    }\n</style>\n<table border=\"1\" class=\"dataframe\">\n  <thead>\n    <tr style=\"text-align: right;\">\n      <th></th>\n      <th>cluster</th>\n      <th>count</th>\n    </tr>\n  </thead>\n  <tbody>\n    <tr>\n      <th>count</th>\n      <td>153.000000</td>\n      <td>153.000000</td>\n    </tr>\n    <tr>\n      <th>mean</th>\n      <td>79.437908</td>\n      <td>15.647059</td>\n    </tr>\n    <tr>\n      <th>std</th>\n      <td>45.662064</td>\n      <td>67.743175</td>\n    </tr>\n    <tr>\n      <th>min</th>\n      <td>1.000000</td>\n      <td>1.000000</td>\n    </tr>\n    <tr>\n      <th>25%</th>\n      <td>40.000000</td>\n      <td>2.000000</td>\n    </tr>\n    <tr>\n      <th>50%</th>\n      <td>80.000000</td>\n      <td>4.000000</td>\n    </tr>\n    <tr>\n      <th>75%</th>\n      <td>119.000000</td>\n      <td>9.000000</td>\n    </tr>\n    <tr>\n      <th>max</th>\n      <td>157.000000</td>\n      <td>781.000000</td>\n    </tr>\n  </tbody>\n</table>\n</div>"
     },
     "metadata": {},
     "execution_count": 300
    }
   ],
   "source": [
    "best_summary.describe()"
   ]
  },
  {
   "cell_type": "code",
   "execution_count": null,
   "metadata": {},
   "outputs": [],
   "source": []
  }
 ]
}
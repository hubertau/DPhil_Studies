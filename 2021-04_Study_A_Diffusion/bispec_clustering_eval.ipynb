{
 "metadata": {
  "language_info": {
   "codemirror_mode": {
    "name": "ipython",
    "version": 3
   },
   "file_extension": ".py",
   "mimetype": "text/x-python",
   "name": "python",
   "nbconvert_exporter": "python",
   "pygments_lexer": "ipython3",
   "version": "3.9.2"
  },
  "orig_nbformat": 2,
  "kernelspec": {
   "name": "python3",
   "display_name": "Python 3.9.2 64-bit ('base': conda)"
  },
  "metadata": {
   "interpreter": {
    "hash": "95ec9ec1504d83f612128e0fb229072f90bbb4cb09d9d5d93b5dd26e0ca2cfd1"
   }
  },
  "interpreter": {
   "hash": "95ec9ec1504d83f612128e0fb229072f90bbb4cb09d9d5d93b5dd26e0ca2cfd1"
  }
 },
 "nbformat": 4,
 "nbformat_minor": 2,
 "cells": [
  {
   "cell_type": "code",
   "execution_count": 1,
   "metadata": {},
   "outputs": [],
   "source": [
    "from bispec_clustering_eval import BSCresults\n",
    "import numpy as np\n",
    "\n",
    "bscres = BSCresults('/Users/hubert/Nextcloud/DPhil/DPhil_Studies/2021-04_Study_A_Diffusion/collection_results_2021_05_04_16_22/bsc', '/Users/hubert/Nextcloud/DPhil/DPhil_Studies/2021-04_Study_A_Diffusion/collection_results_2021_05_04_16_22/data')"
   ]
  },
  {
   "cell_type": "code",
   "execution_count": 2,
   "metadata": {},
   "outputs": [
    {
     "output_type": "stream",
     "name": "stdout",
     "text": [
      "(119, 129)\n(53, 63)\n"
     ]
    }
   ],
   "source": [
    "results = bscres.eval_nmi()\n",
    "print(results[0][1:])\n",
    "print(results[1][1:])"
   ]
  },
  {
   "source": [
    "bscres.plot(bins=100, verbose = False)"
   ],
   "cell_type": "code",
   "metadata": {},
   "execution_count": 3,
   "outputs": []
  },
  {
   "cell_type": "code",
   "execution_count": 4,
   "metadata": {},
   "outputs": [
    {
     "output_type": "execute_result",
     "data": {
      "text/plain": [
       "                   hashtag  degree  topic_cluster\n",
       "33                 #femmes      10              6\n",
       "320  de harcèlement sexuel      10              6\n",
       "321      faites aux femmes      13              6\n",
       "392  le harcèlement sexuel      13              6\n",
       "393  victimes de violences      10              6"
      ],
      "text/html": "<div>\n<style scoped>\n    .dataframe tbody tr th:only-of-type {\n        vertical-align: middle;\n    }\n\n    .dataframe tbody tr th {\n        vertical-align: top;\n    }\n\n    .dataframe thead th {\n        text-align: right;\n    }\n</style>\n<table border=\"1\" class=\"dataframe\">\n  <thead>\n    <tr style=\"text-align: right;\">\n      <th></th>\n      <th>hashtag</th>\n      <th>degree</th>\n      <th>topic_cluster</th>\n    </tr>\n  </thead>\n  <tbody>\n    <tr>\n      <th>33</th>\n      <td>#femmes</td>\n      <td>10</td>\n      <td>6</td>\n    </tr>\n    <tr>\n      <th>320</th>\n      <td>de harcèlement sexuel</td>\n      <td>10</td>\n      <td>6</td>\n    </tr>\n    <tr>\n      <th>321</th>\n      <td>faites aux femmes</td>\n      <td>13</td>\n      <td>6</td>\n    </tr>\n    <tr>\n      <th>392</th>\n      <td>le harcèlement sexuel</td>\n      <td>13</td>\n      <td>6</td>\n    </tr>\n    <tr>\n      <th>393</th>\n      <td>victimes de violences</td>\n      <td>10</td>\n      <td>6</td>\n    </tr>\n  </tbody>\n</table>\n</div>"
     },
     "metadata": {},
     "execution_count": 4
    }
   ],
   "source": [
    "x = bscres.examine_cluster_words(49, 6, show=0)\n",
    "x"
   ]
  },
  {
   "cell_type": "code",
   "execution_count": 5,
   "metadata": {},
   "outputs": [],
   "source": [
    "df = bscres.get_user_cluster_data(49,6)"
   ]
  },
  {
   "cell_type": "code",
   "execution_count": 6,
   "metadata": {},
   "outputs": [
    {
     "output_type": "execute_result",
     "data": {
      "text/plain": [
       "               author_id            tweet_id  \\\n",
       "0             1126372568  922499799257178117   \n",
       "1             1126372568  922499701890576385   \n",
       "2             1126372568  922499537998106625   \n",
       "3             1126372568  922499402215952384   \n",
       "4             1126372568  922499243616751616   \n",
       "...                  ...                 ...   \n",
       "2024  907300601452793856  919162120515784705   \n",
       "2025  907300601452793856  919162079906541569   \n",
       "2026  907300601452793856  919162040995991553   \n",
       "2027  907300601452793856  919161952525578240   \n",
       "2028  907300601452793856  919157516017307648   \n",
       "\n",
       "                                                   text          created_at  \\\n",
       "0     RT @nytmike: V. important from @megynkelly b/c... 2017-10-23 16:27:46   \n",
       "1     RT @gabrielsherman: Megyn Kelly says she revea... 2017-10-23 16:27:22   \n",
       "2     RT @memoiretrauma: À signer pr 1 #imprescripti... 2017-10-23 16:26:43   \n",
       "3     RT @TODAYshow: “O’Reilly’s suggestion that no ... 2017-10-23 16:26:11   \n",
       "4     RT @curiosarama: [TW viol]\\nEn 2011, le footba... 2017-10-23 16:25:33   \n",
       "...                                                 ...                 ...   \n",
       "2024  RT @TadamYen: @MarleneSchiappa  page 5 de feui... 2017-10-14 11:25:01   \n",
       "2025  RT @TadamYen: @MarleneSchiappa CONSIDÉRANT 98%... 2017-10-14 11:24:51   \n",
       "2026  RT @MMorlaix: Il est urgent de suppr les délai... 2017-10-14 11:24:42   \n",
       "2027  RT @TadamYen: 7 ans d'études vs 6 jours max et... 2017-10-14 11:24:21   \n",
       "2028  RT @memoiretrauma: À cause des délais de presc... 2017-10-14 11:06:43   \n",
       "\n",
       "         referenced_tw_1 referenced_tw_2 referenced_tw_3  is_retweet  \\\n",
       "0     922482556897058816             NaN             NaN        True   \n",
       "1     922474307565113344             NaN             NaN        True   \n",
       "2     922498514923507713             NaN             NaN        True   \n",
       "3     922451357956820994             NaN             NaN        True   \n",
       "4     922475110254170114             NaN             NaN        True   \n",
       "...                  ...             ...             ...         ...   \n",
       "2024  919159776088555520             NaN             NaN        True   \n",
       "2025  919160395104968704             NaN             NaN        True   \n",
       "2026  919159843755298816             NaN             NaN        True   \n",
       "2027  919161404661387264             NaN             NaN        True   \n",
       "2028  919157260907053056             NaN             NaN        True   \n",
       "\n",
       "      internal_retweet  vocab:#femmes  vocab:de harcèlement sexuel  \\\n",
       "0                False          False                        False   \n",
       "1                False          False                        False   \n",
       "2                False          False                        False   \n",
       "3                False          False                        False   \n",
       "4                False          False                        False   \n",
       "...                ...            ...                          ...   \n",
       "2024             False          False                        False   \n",
       "2025             False          False                        False   \n",
       "2026             False          False                        False   \n",
       "2027             False          False                        False   \n",
       "2028             False          False                        False   \n",
       "\n",
       "      vocab:faites aux femmes  vocab:le harcèlement sexuel  \\\n",
       "0                       False                        False   \n",
       "1                       False                        False   \n",
       "2                       False                        False   \n",
       "3                       False                        False   \n",
       "4                       False                        False   \n",
       "...                       ...                          ...   \n",
       "2024                    False                        False   \n",
       "2025                    False                        False   \n",
       "2026                    False                        False   \n",
       "2027                    False                        False   \n",
       "2028                    False                        False   \n",
       "\n",
       "      vocab:victimes de violences  \n",
       "0                           False  \n",
       "1                           False  \n",
       "2                           False  \n",
       "3                           False  \n",
       "4                           False  \n",
       "...                           ...  \n",
       "2024                        False  \n",
       "2025                        False  \n",
       "2026                        False  \n",
       "2027                        False  \n",
       "2028                        False  \n",
       "\n",
       "[18401 rows x 14 columns]"
      ],
      "text/html": "<div>\n<style scoped>\n    .dataframe tbody tr th:only-of-type {\n        vertical-align: middle;\n    }\n\n    .dataframe tbody tr th {\n        vertical-align: top;\n    }\n\n    .dataframe thead th {\n        text-align: right;\n    }\n</style>\n<table border=\"1\" class=\"dataframe\">\n  <thead>\n    <tr style=\"text-align: right;\">\n      <th></th>\n      <th>author_id</th>\n      <th>tweet_id</th>\n      <th>text</th>\n      <th>created_at</th>\n      <th>referenced_tw_1</th>\n      <th>referenced_tw_2</th>\n      <th>referenced_tw_3</th>\n      <th>is_retweet</th>\n      <th>internal_retweet</th>\n      <th>vocab:#femmes</th>\n      <th>vocab:de harcèlement sexuel</th>\n      <th>vocab:faites aux femmes</th>\n      <th>vocab:le harcèlement sexuel</th>\n      <th>vocab:victimes de violences</th>\n    </tr>\n  </thead>\n  <tbody>\n    <tr>\n      <th>0</th>\n      <td>1126372568</td>\n      <td>922499799257178117</td>\n      <td>RT @nytmike: V. important from @megynkelly b/c...</td>\n      <td>2017-10-23 16:27:46</td>\n      <td>922482556897058816</td>\n      <td>NaN</td>\n      <td>NaN</td>\n      <td>True</td>\n      <td>False</td>\n      <td>False</td>\n      <td>False</td>\n      <td>False</td>\n      <td>False</td>\n      <td>False</td>\n    </tr>\n    <tr>\n      <th>1</th>\n      <td>1126372568</td>\n      <td>922499701890576385</td>\n      <td>RT @gabrielsherman: Megyn Kelly says she revea...</td>\n      <td>2017-10-23 16:27:22</td>\n      <td>922474307565113344</td>\n      <td>NaN</td>\n      <td>NaN</td>\n      <td>True</td>\n      <td>False</td>\n      <td>False</td>\n      <td>False</td>\n      <td>False</td>\n      <td>False</td>\n      <td>False</td>\n    </tr>\n    <tr>\n      <th>2</th>\n      <td>1126372568</td>\n      <td>922499537998106625</td>\n      <td>RT @memoiretrauma: À signer pr 1 #imprescripti...</td>\n      <td>2017-10-23 16:26:43</td>\n      <td>922498514923507713</td>\n      <td>NaN</td>\n      <td>NaN</td>\n      <td>True</td>\n      <td>False</td>\n      <td>False</td>\n      <td>False</td>\n      <td>False</td>\n      <td>False</td>\n      <td>False</td>\n    </tr>\n    <tr>\n      <th>3</th>\n      <td>1126372568</td>\n      <td>922499402215952384</td>\n      <td>RT @TODAYshow: “O’Reilly’s suggestion that no ...</td>\n      <td>2017-10-23 16:26:11</td>\n      <td>922451357956820994</td>\n      <td>NaN</td>\n      <td>NaN</td>\n      <td>True</td>\n      <td>False</td>\n      <td>False</td>\n      <td>False</td>\n      <td>False</td>\n      <td>False</td>\n      <td>False</td>\n    </tr>\n    <tr>\n      <th>4</th>\n      <td>1126372568</td>\n      <td>922499243616751616</td>\n      <td>RT @curiosarama: [TW viol]\\nEn 2011, le footba...</td>\n      <td>2017-10-23 16:25:33</td>\n      <td>922475110254170114</td>\n      <td>NaN</td>\n      <td>NaN</td>\n      <td>True</td>\n      <td>False</td>\n      <td>False</td>\n      <td>False</td>\n      <td>False</td>\n      <td>False</td>\n      <td>False</td>\n    </tr>\n    <tr>\n      <th>...</th>\n      <td>...</td>\n      <td>...</td>\n      <td>...</td>\n      <td>...</td>\n      <td>...</td>\n      <td>...</td>\n      <td>...</td>\n      <td>...</td>\n      <td>...</td>\n      <td>...</td>\n      <td>...</td>\n      <td>...</td>\n      <td>...</td>\n      <td>...</td>\n    </tr>\n    <tr>\n      <th>2024</th>\n      <td>907300601452793856</td>\n      <td>919162120515784705</td>\n      <td>RT @TadamYen: @MarleneSchiappa  page 5 de feui...</td>\n      <td>2017-10-14 11:25:01</td>\n      <td>919159776088555520</td>\n      <td>NaN</td>\n      <td>NaN</td>\n      <td>True</td>\n      <td>False</td>\n      <td>False</td>\n      <td>False</td>\n      <td>False</td>\n      <td>False</td>\n      <td>False</td>\n    </tr>\n    <tr>\n      <th>2025</th>\n      <td>907300601452793856</td>\n      <td>919162079906541569</td>\n      <td>RT @TadamYen: @MarleneSchiappa CONSIDÉRANT 98%...</td>\n      <td>2017-10-14 11:24:51</td>\n      <td>919160395104968704</td>\n      <td>NaN</td>\n      <td>NaN</td>\n      <td>True</td>\n      <td>False</td>\n      <td>False</td>\n      <td>False</td>\n      <td>False</td>\n      <td>False</td>\n      <td>False</td>\n    </tr>\n    <tr>\n      <th>2026</th>\n      <td>907300601452793856</td>\n      <td>919162040995991553</td>\n      <td>RT @MMorlaix: Il est urgent de suppr les délai...</td>\n      <td>2017-10-14 11:24:42</td>\n      <td>919159843755298816</td>\n      <td>NaN</td>\n      <td>NaN</td>\n      <td>True</td>\n      <td>False</td>\n      <td>False</td>\n      <td>False</td>\n      <td>False</td>\n      <td>False</td>\n      <td>False</td>\n    </tr>\n    <tr>\n      <th>2027</th>\n      <td>907300601452793856</td>\n      <td>919161952525578240</td>\n      <td>RT @TadamYen: 7 ans d'études vs 6 jours max et...</td>\n      <td>2017-10-14 11:24:21</td>\n      <td>919161404661387264</td>\n      <td>NaN</td>\n      <td>NaN</td>\n      <td>True</td>\n      <td>False</td>\n      <td>False</td>\n      <td>False</td>\n      <td>False</td>\n      <td>False</td>\n      <td>False</td>\n    </tr>\n    <tr>\n      <th>2028</th>\n      <td>907300601452793856</td>\n      <td>919157516017307648</td>\n      <td>RT @memoiretrauma: À cause des délais de presc...</td>\n      <td>2017-10-14 11:06:43</td>\n      <td>919157260907053056</td>\n      <td>NaN</td>\n      <td>NaN</td>\n      <td>True</td>\n      <td>False</td>\n      <td>False</td>\n      <td>False</td>\n      <td>False</td>\n      <td>False</td>\n      <td>False</td>\n    </tr>\n  </tbody>\n</table>\n<p>18401 rows × 14 columns</p>\n</div>"
     },
     "metadata": {},
     "execution_count": 6
    }
   ],
   "source": [
    "df"
   ]
  },
  {
   "cell_type": "code",
   "execution_count": 7,
   "metadata": {},
   "outputs": [
    {
     "output_type": "stream",
     "name": "stdout",
     "text": [
      "12530\n0\n97\n"
     ]
    }
   ],
   "source": [
    "print(df['is_retweet'].sum())\n",
    "print(df['internal_retweet'].sum())\n",
    "print(df['vocab:#femmes'].sum())"
   ]
  },
  {
   "cell_type": "code",
   "execution_count": 12,
   "metadata": {},
   "outputs": [
    {
     "output_type": "execute_result",
     "data": {
      "text/plain": [
       "[9, 10, 11, 12, 13]"
      ]
     },
     "metadata": {},
     "execution_count": 12
    }
   ],
   "source": [
    "indices_of_vocab_items = [i for i, s in enumerate(list(df.columns)) if 'vocab' in s]"
   ]
  },
  {
   "cell_type": "code",
   "execution_count": 16,
   "metadata": {},
   "outputs": [
    {
     "output_type": "stream",
     "name": "stdout",
     "text": [
      "15212\n36\n0\n"
     ]
    }
   ],
   "source": [
    "\n",
    "\n",
    "print(np.sum(np.logical_not(df['referenced_tw_1'].isna())))\n",
    "print(np.sum(np.logical_not(df['referenced_tw_2'].isna())))\n",
    "print(np.sum(np.logical_not(df['referenced_tw_3'].isna())))"
   ]
  },
  {
   "cell_type": "code",
   "execution_count": null,
   "metadata": {},
   "outputs": [],
   "source": []
  }
 ]
}